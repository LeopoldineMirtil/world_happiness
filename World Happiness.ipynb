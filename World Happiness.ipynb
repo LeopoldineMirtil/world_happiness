{
 "cells": [
  {
   "cell_type": "markdown",
   "metadata": {},
   "source": [
    "## World Happiness Case Study\n",
    "---\n",
    "Leopoldine Mirtil\n",
    "\n",
    "### Objective\n",
    "The goal of this project is to clean, analyze and visualize the world happiness data in order to complete the tasks.\n",
    "\n",
    "### Tasks\n",
    "* Identify the overall top and bottom 10 ranked happiest countries\n",
    "\n",
    "* Identify the regions that consistently contain the top & bottom-ranked happiest countries.\n",
    "\n",
    "* Which countries have experienced the highest happiness increase and decrease between 2015-2019? \n",
    "\n",
    "* Analyze the relationship between overall happiness and social metrics(economy, family, health, trust, generosity, freedom, and dystopia residual).\n",
    "\n",
    "### Source Data\n",
    "The data used in this analysis was made publicly available by Sustainable Development Solutions Network on [Kaggle.com](https://www.kaggle.com/datasets/unsdsn/world-happiness). It reports the  the extent of which several factors (economy, family, health, trust, generosity, freedom, dystopia residual) contribute to the overall happiness score and ranking of countries from 2015 to 2019. "
   ]
  },
  {
   "cell_type": "markdown",
   "metadata": {},
   "source": [
    "## Step 1 - Get Data\n",
    "\n",
    "### Load Packages & Import Data"
   ]
  },
  {
   "cell_type": "code",
   "execution_count": 10,
   "metadata": {},
   "outputs": [],
   "source": [
    "import numpy as np\n",
    "import pandas as pd\n",
    "import seaborn as sns\n",
    "import matplotlib.pyplot as plt\n",
    "import plotly.express as px\n",
    "\n",
    "y15 = pd.read_csv(\"World Happiness Report Data/2015.csv\")\n",
    "y16 = pd.read_csv(\"World Happiness Report Data/2016.csv\")\n",
    "y17 = pd.read_csv(\"World Happiness Report Data/2017.csv\")\n",
    "y18 = pd.read_csv(\"World Happiness Report Data/2018.csv\")\n",
    "y19 = pd.read_csv(\"World Happiness Report Data/2019.csv\")"
   ]
  },
  {
   "cell_type": "markdown",
   "metadata": {},
   "source": [
    "### Inspect Data\n"
   ]
  },
  {
   "cell_type": "code",
   "execution_count": 5,
   "metadata": {},
   "outputs": [
    {
     "name": "stdout",
     "output_type": "stream",
     "text": [
      "2015: (158, 12)\n",
      "2016: (157, 13)\n",
      "2017: (155, 12)\n",
      "2018: (156, 9)\n",
      "2019: (156, 9)\n"
     ]
    }
   ],
   "source": [
    "#check df sizes: (row, col)\n",
    "print('2015:', y15.shape) \n",
    "print('2016:', y16.shape)\n",
    "print('2017:', y17.shape)\n",
    "print('2018:', y18.shape)\n",
    "print('2019:', y19.shape)"
   ]
  },
  {
   "cell_type": "code",
   "execution_count": 12,
   "metadata": {},
   "outputs": [
    {
     "name": "stdout",
     "output_type": "stream",
     "text": [
      "2015: ['Country', 'Region', 'Happiness Rank', 'Happiness Score', 'Standard Error', 'Economy (GDP per Capita)', 'Family', 'Health (Life Expectancy)', 'Freedom', 'Trust (Government Corruption)', 'Generosity', 'Dystopia Residual']\n",
      "2016: ['Country', 'Region', 'Happiness Rank', 'Happiness Score', 'Lower Confidence Interval', 'Upper Confidence Interval', 'Economy (GDP per Capita)', 'Family', 'Health (Life Expectancy)', 'Freedom', 'Trust (Government Corruption)', 'Generosity', 'Dystopia Residual']\n",
      "2017: ['Country', 'Happiness.Rank', 'Happiness.Score', 'Whisker.high', 'Whisker.low', 'Economy..GDP.per.Capita.', 'Family', 'Health..Life.Expectancy.', 'Freedom', 'Generosity', 'Trust..Government.Corruption.', 'Dystopia.Residual']\n",
      "2018: ['Overall rank', 'Country or region', 'Score', 'GDP per capita', 'Social support', 'Healthy life expectancy', 'Freedom to make life choices', 'Generosity', 'Perceptions of corruption']\n",
      "2019: ['Overall rank', 'Country or region', 'Score', 'GDP per capita', 'Social support', 'Healthy life expectancy', 'Freedom to make life choices', 'Generosity', 'Perceptions of corruption']\n"
     ]
    }
   ],
   "source": [
    "#list of column names \n",
    "print(\"2015:\", list(y15.columns)) \n",
    "print(\"2016:\", list(y16.columns))\n",
    "print(\"2017:\", list(y17.columns))\n",
    "print(\"2018:\", list(y18.columns))\n",
    "print(\"2019:\", list(y19.columns))"
   ]
  },
  {
   "cell_type": "markdown",
   "metadata": {},
   "source": [
    "## Step 2 - Clean & Manipulate Data"
   ]
  },
  {
   "cell_type": "code",
   "execution_count": 13,
   "metadata": {},
   "outputs": [],
   "source": [
    "#will only use 2015-2017 datasets due to missing Dystopia Residual col in 2018 & 2019\n",
    "y15 = y15.drop(columns=['Standard Error'])\n",
    "y16 = y16.drop(columns=['Lower Confidence Interval', 'Upper Confidence Interval'])\n",
    "y17 = y17.drop(columns=['Whisker.high', 'Whisker.low'])\n",
    "\n",
    "\n",
    "#rename to match 2015 & 2016\n",
    "y17 = y17.rename(columns={'Happiness.Rank':'Happiness Rank', 'Happiness.Score':'Happiness Score', \n",
    "                          'Economy..GDP.per.Capita.':'Economy (GDP per Capita)', 'Health..Life.Expectancy.':'Health (Life Expectancy)', \n",
    "                          'Trust..Government.Corruption.':'Trust (Government Corruption)', 'Dystopia.Residual':'Dystopia Residual'}) \n",
    "\n",
    "\n",
    "#add year columns \n",
    "y15['Year'] = 2015\n",
    "y16['Year'] = 2016\n",
    "y17['Year'] = 2017\n"
   ]
  },
  {
   "cell_type": "markdown",
   "metadata": {},
   "source": [
    "### Adjust Column Orders"
   ]
  },
  {
   "cell_type": "code",
   "execution_count": 16,
   "metadata": {},
   "outputs": [],
   "source": [
    "#move year column to first position for 2015 & 2016 files\n",
    "first_15 = y15.pop('Year')\n",
    "y15.insert(0, 'Year', first_15)\n",
    "\n",
    "first_16 = y16.pop('Year')\n",
    "y16.insert(0, 'Year', first_16)\n",
    "\n",
    "#change order of remaining dfs to closely match those of 2015 & 2016\n",
    "co17 = ['Year', 'Country', 'Happiness Rank', 'Happiness Score', 'Economy (GDP per Capita)', \n",
    "             'Family', 'Health (Life Expectancy)', 'Freedom', 'Trust (Government Corruption)', 'Generosity', 'Dystopia Residual']\n",
    "\n",
    "#change column order\n",
    "y17 = y17[co17]"
   ]
  },
  {
   "cell_type": "markdown",
   "metadata": {},
   "source": [
    "### Check for Missing Values"
   ]
  },
  {
   "cell_type": "code",
   "execution_count": 18,
   "metadata": {},
   "outputs": [
    {
     "data": {
      "text/plain": [
       "Year                             0\n",
       "Country                          0\n",
       "Region                           0\n",
       "Happiness Rank                   0\n",
       "Happiness Score                  0\n",
       "Economy (GDP per Capita)         0\n",
       "Family                           0\n",
       "Health (Life Expectancy)         0\n",
       "Freedom                          0\n",
       "Trust (Government Corruption)    0\n",
       "Generosity                       0\n",
       "Dystopia Residual                0\n",
       "dtype: int64"
      ]
     },
     "execution_count": 18,
     "metadata": {},
     "output_type": "execute_result"
    }
   ],
   "source": [
    "y15.isna().sum()"
   ]
  },
  {
   "cell_type": "code",
   "execution_count": 19,
   "metadata": {},
   "outputs": [
    {
     "data": {
      "text/plain": [
       "Year                             0\n",
       "Country                          0\n",
       "Region                           0\n",
       "Happiness Rank                   0\n",
       "Happiness Score                  0\n",
       "Economy (GDP per Capita)         0\n",
       "Family                           0\n",
       "Health (Life Expectancy)         0\n",
       "Freedom                          0\n",
       "Trust (Government Corruption)    0\n",
       "Generosity                       0\n",
       "Dystopia Residual                0\n",
       "dtype: int64"
      ]
     },
     "execution_count": 19,
     "metadata": {},
     "output_type": "execute_result"
    }
   ],
   "source": [
    "y16.isna().sum()"
   ]
  },
  {
   "cell_type": "code",
   "execution_count": 20,
   "metadata": {},
   "outputs": [
    {
     "data": {
      "text/plain": [
       "Year                             0\n",
       "Country                          0\n",
       "Happiness Rank                   0\n",
       "Happiness Score                  0\n",
       "Economy (GDP per Capita)         0\n",
       "Family                           0\n",
       "Health (Life Expectancy)         0\n",
       "Freedom                          0\n",
       "Trust (Government Corruption)    0\n",
       "Generosity                       0\n",
       "Dystopia Residual                0\n",
       "dtype: int64"
      ]
     },
     "execution_count": 20,
     "metadata": {},
     "output_type": "execute_result"
    }
   ],
   "source": [
    "y17.isna().sum()"
   ]
  },
  {
   "cell_type": "markdown",
   "metadata": {},
   "source": [
    "### Merge Data Files"
   ]
  },
  {
   "cell_type": "code",
   "execution_count": 36,
   "metadata": {},
   "outputs": [
    {
     "data": {
      "text/html": [
       "<div>\n",
       "<style scoped>\n",
       "    .dataframe tbody tr th:only-of-type {\n",
       "        vertical-align: middle;\n",
       "    }\n",
       "\n",
       "    .dataframe tbody tr th {\n",
       "        vertical-align: top;\n",
       "    }\n",
       "\n",
       "    .dataframe thead th {\n",
       "        text-align: right;\n",
       "    }\n",
       "</style>\n",
       "<table border=\"1\" class=\"dataframe\">\n",
       "  <thead>\n",
       "    <tr style=\"text-align: right;\">\n",
       "      <th></th>\n",
       "      <th>Year</th>\n",
       "      <th>Country</th>\n",
       "      <th>Region</th>\n",
       "      <th>Happiness Rank</th>\n",
       "      <th>Happiness Score</th>\n",
       "      <th>Economy (GDP per Capita)</th>\n",
       "      <th>Family</th>\n",
       "      <th>Health (Life Expectancy)</th>\n",
       "      <th>Freedom</th>\n",
       "      <th>Trust (Government Corruption)</th>\n",
       "      <th>Generosity</th>\n",
       "      <th>Dystopia Residual</th>\n",
       "    </tr>\n",
       "  </thead>\n",
       "  <tbody>\n",
       "    <tr>\n",
       "      <th>0</th>\n",
       "      <td>2015</td>\n",
       "      <td>Switzerland</td>\n",
       "      <td>Western Europe</td>\n",
       "      <td>1</td>\n",
       "      <td>7.587</td>\n",
       "      <td>1.396510</td>\n",
       "      <td>1.349510</td>\n",
       "      <td>0.941430</td>\n",
       "      <td>0.665570</td>\n",
       "      <td>0.419780</td>\n",
       "      <td>0.296780</td>\n",
       "      <td>2.517380</td>\n",
       "    </tr>\n",
       "    <tr>\n",
       "      <th>1</th>\n",
       "      <td>2015</td>\n",
       "      <td>Iceland</td>\n",
       "      <td>Western Europe</td>\n",
       "      <td>2</td>\n",
       "      <td>7.561</td>\n",
       "      <td>1.302320</td>\n",
       "      <td>1.402230</td>\n",
       "      <td>0.947840</td>\n",
       "      <td>0.628770</td>\n",
       "      <td>0.141450</td>\n",
       "      <td>0.436300</td>\n",
       "      <td>2.702010</td>\n",
       "    </tr>\n",
       "    <tr>\n",
       "      <th>2</th>\n",
       "      <td>2015</td>\n",
       "      <td>Denmark</td>\n",
       "      <td>Western Europe</td>\n",
       "      <td>3</td>\n",
       "      <td>7.527</td>\n",
       "      <td>1.325480</td>\n",
       "      <td>1.360580</td>\n",
       "      <td>0.874640</td>\n",
       "      <td>0.649380</td>\n",
       "      <td>0.483570</td>\n",
       "      <td>0.341390</td>\n",
       "      <td>2.492040</td>\n",
       "    </tr>\n",
       "    <tr>\n",
       "      <th>3</th>\n",
       "      <td>2015</td>\n",
       "      <td>Norway</td>\n",
       "      <td>Western Europe</td>\n",
       "      <td>4</td>\n",
       "      <td>7.522</td>\n",
       "      <td>1.459000</td>\n",
       "      <td>1.330950</td>\n",
       "      <td>0.885210</td>\n",
       "      <td>0.669730</td>\n",
       "      <td>0.365030</td>\n",
       "      <td>0.346990</td>\n",
       "      <td>2.465310</td>\n",
       "    </tr>\n",
       "    <tr>\n",
       "      <th>4</th>\n",
       "      <td>2015</td>\n",
       "      <td>Canada</td>\n",
       "      <td>North America</td>\n",
       "      <td>5</td>\n",
       "      <td>7.427</td>\n",
       "      <td>1.326290</td>\n",
       "      <td>1.322610</td>\n",
       "      <td>0.905630</td>\n",
       "      <td>0.632970</td>\n",
       "      <td>0.329570</td>\n",
       "      <td>0.458110</td>\n",
       "      <td>2.451760</td>\n",
       "    </tr>\n",
       "    <tr>\n",
       "      <th>...</th>\n",
       "      <td>...</td>\n",
       "      <td>...</td>\n",
       "      <td>...</td>\n",
       "      <td>...</td>\n",
       "      <td>...</td>\n",
       "      <td>...</td>\n",
       "      <td>...</td>\n",
       "      <td>...</td>\n",
       "      <td>...</td>\n",
       "      <td>...</td>\n",
       "      <td>...</td>\n",
       "      <td>...</td>\n",
       "    </tr>\n",
       "    <tr>\n",
       "      <th>465</th>\n",
       "      <td>2017</td>\n",
       "      <td>Rwanda</td>\n",
       "      <td>NaN</td>\n",
       "      <td>151</td>\n",
       "      <td>3.471</td>\n",
       "      <td>0.368746</td>\n",
       "      <td>0.945707</td>\n",
       "      <td>0.326425</td>\n",
       "      <td>0.581844</td>\n",
       "      <td>0.455220</td>\n",
       "      <td>0.252756</td>\n",
       "      <td>0.540061</td>\n",
       "    </tr>\n",
       "    <tr>\n",
       "      <th>466</th>\n",
       "      <td>2017</td>\n",
       "      <td>Syria</td>\n",
       "      <td>NaN</td>\n",
       "      <td>152</td>\n",
       "      <td>3.462</td>\n",
       "      <td>0.777153</td>\n",
       "      <td>0.396103</td>\n",
       "      <td>0.500533</td>\n",
       "      <td>0.081539</td>\n",
       "      <td>0.151347</td>\n",
       "      <td>0.493664</td>\n",
       "      <td>1.061574</td>\n",
       "    </tr>\n",
       "    <tr>\n",
       "      <th>467</th>\n",
       "      <td>2017</td>\n",
       "      <td>Tanzania</td>\n",
       "      <td>NaN</td>\n",
       "      <td>153</td>\n",
       "      <td>3.349</td>\n",
       "      <td>0.511136</td>\n",
       "      <td>1.041990</td>\n",
       "      <td>0.364509</td>\n",
       "      <td>0.390018</td>\n",
       "      <td>0.066035</td>\n",
       "      <td>0.354256</td>\n",
       "      <td>0.621130</td>\n",
       "    </tr>\n",
       "    <tr>\n",
       "      <th>468</th>\n",
       "      <td>2017</td>\n",
       "      <td>Burundi</td>\n",
       "      <td>NaN</td>\n",
       "      <td>154</td>\n",
       "      <td>2.905</td>\n",
       "      <td>0.091623</td>\n",
       "      <td>0.629794</td>\n",
       "      <td>0.151611</td>\n",
       "      <td>0.059901</td>\n",
       "      <td>0.084148</td>\n",
       "      <td>0.204435</td>\n",
       "      <td>1.683024</td>\n",
       "    </tr>\n",
       "    <tr>\n",
       "      <th>469</th>\n",
       "      <td>2017</td>\n",
       "      <td>Central African Republic</td>\n",
       "      <td>NaN</td>\n",
       "      <td>155</td>\n",
       "      <td>2.693</td>\n",
       "      <td>0.000000</td>\n",
       "      <td>0.000000</td>\n",
       "      <td>0.018773</td>\n",
       "      <td>0.270842</td>\n",
       "      <td>0.056565</td>\n",
       "      <td>0.280876</td>\n",
       "      <td>2.066005</td>\n",
       "    </tr>\n",
       "  </tbody>\n",
       "</table>\n",
       "<p>470 rows × 12 columns</p>\n",
       "</div>"
      ],
      "text/plain": [
       "     Year                   Country          Region  Happiness Rank  \\\n",
       "0    2015               Switzerland  Western Europe               1   \n",
       "1    2015                   Iceland  Western Europe               2   \n",
       "2    2015                   Denmark  Western Europe               3   \n",
       "3    2015                    Norway  Western Europe               4   \n",
       "4    2015                    Canada   North America               5   \n",
       "..    ...                       ...             ...             ...   \n",
       "465  2017                    Rwanda             NaN             151   \n",
       "466  2017                     Syria             NaN             152   \n",
       "467  2017                  Tanzania             NaN             153   \n",
       "468  2017                   Burundi             NaN             154   \n",
       "469  2017  Central African Republic             NaN             155   \n",
       "\n",
       "     Happiness Score  Economy (GDP per Capita)    Family  \\\n",
       "0              7.587                  1.396510  1.349510   \n",
       "1              7.561                  1.302320  1.402230   \n",
       "2              7.527                  1.325480  1.360580   \n",
       "3              7.522                  1.459000  1.330950   \n",
       "4              7.427                  1.326290  1.322610   \n",
       "..               ...                       ...       ...   \n",
       "465            3.471                  0.368746  0.945707   \n",
       "466            3.462                  0.777153  0.396103   \n",
       "467            3.349                  0.511136  1.041990   \n",
       "468            2.905                  0.091623  0.629794   \n",
       "469            2.693                  0.000000  0.000000   \n",
       "\n",
       "     Health (Life Expectancy)   Freedom  Trust (Government Corruption)  \\\n",
       "0                    0.941430  0.665570                       0.419780   \n",
       "1                    0.947840  0.628770                       0.141450   \n",
       "2                    0.874640  0.649380                       0.483570   \n",
       "3                    0.885210  0.669730                       0.365030   \n",
       "4                    0.905630  0.632970                       0.329570   \n",
       "..                        ...       ...                            ...   \n",
       "465                  0.326425  0.581844                       0.455220   \n",
       "466                  0.500533  0.081539                       0.151347   \n",
       "467                  0.364509  0.390018                       0.066035   \n",
       "468                  0.151611  0.059901                       0.084148   \n",
       "469                  0.018773  0.270842                       0.056565   \n",
       "\n",
       "     Generosity  Dystopia Residual  \n",
       "0      0.296780           2.517380  \n",
       "1      0.436300           2.702010  \n",
       "2      0.341390           2.492040  \n",
       "3      0.346990           2.465310  \n",
       "4      0.458110           2.451760  \n",
       "..          ...                ...  \n",
       "465    0.252756           0.540061  \n",
       "466    0.493664           1.061574  \n",
       "467    0.354256           0.621130  \n",
       "468    0.204435           1.683024  \n",
       "469    0.280876           2.066005  \n",
       "\n",
       "[470 rows x 12 columns]"
      ]
     },
     "metadata": {},
     "output_type": "display_data"
    }
   ],
   "source": [
    "#create list of dfs \n",
    "df_list = [y15, y16, y17] \n",
    "\n",
    "#combine dfs \n",
    "world_df = pd.concat(df_list, join='outer').reset_index(drop=True)\n",
    "\n",
    "#view new df\n",
    "display(world_df)"
   ]
  },
  {
   "cell_type": "markdown",
   "metadata": {},
   "source": [
    "### Fill Missing Region Values\n",
    "#### Create Dictionary from Data Frame Columns"
   ]
  },
  {
   "cell_type": "code",
   "execution_count": null,
   "metadata": {},
   "outputs": [],
   "source": [
    "#create list from Country Column\n",
    "country_list = list(world_df['Country'])\n",
    "\n",
    "#create list with unique values of countries\n",
    "countries = []\n",
    "\n",
    "for x in country_list:\n",
    "    if x not in countries:\n",
    "        countries.append(x)\n",
    "\n",
    "#sort list alphabetically \n",
    "countries = sorted(list(countries))\n",
    "\n",
    "#replace  following Country values from list: \n",
    "vals_replace = {'Hong Kong S.A.R., China' : 'Hong Kong',\n",
    "                'Somaliland region' : 'Somaliland Region',\n",
    "                'Taiwan Province of China' : 'Taiwan'}\n",
    "\n",
    "#update df\n",
    "world_df = world_df.replace({'Country': vals_replace}) \n",
    "\n",
    "\n",
    "#create dict with unique key & vals by grouping pairs\n",
    "w_dict = world_df.groupby('Country')['Region'].unique().apply(list).to_dict()\n",
    "\n",
    "#update dict for keys w/ nan values: North Macedonia & Gambia\n",
    "w_dict.update({'North Macedonia': ['Central and Eastern Europe'], 'Gambia': ['Sub-Saharan Africa']})\n",
    "\n",
    "\n",
    "#initialize lists for dict\n",
    "key = []\n",
    "val = []\n",
    "\n",
    "#update lists for unique key-value pairs \n",
    "for x in list(w_dict.items()):\n",
    "    k = x[0]\n",
    "    v = x[1][0] \n",
    "    key.append(k) \n",
    "    val.append(v)\n",
    "\n",
    "#create final dict w/key-value lists\n",
    "location = dict(zip(key, val))"
   ]
  },
  {
   "cell_type": "markdown",
   "metadata": {},
   "source": [
    "#### Replace NA Values with Dictionary"
   ]
  },
  {
   "cell_type": "code",
   "execution_count": 39,
   "metadata": {},
   "outputs": [
    {
     "data": {
      "text/plain": [
       "155"
      ]
     },
     "execution_count": 39,
     "metadata": {},
     "output_type": "execute_result"
    }
   ],
   "source": [
    "#current NA count\n",
    "world_df['Region'].isna().sum()"
   ]
  },
  {
   "cell_type": "code",
   "execution_count": 40,
   "metadata": {},
   "outputs": [
    {
     "data": {
      "text/plain": [
       "0"
      ]
     },
     "execution_count": 40,
     "metadata": {},
     "output_type": "execute_result"
    }
   ],
   "source": [
    "### replace missing values in Region w/dictionary\n",
    "world_df['Region'] = world_df['Country'].map(location)\n",
    "\n",
    "## confirm change \n",
    "world_df['Region'].isna().sum()"
   ]
  },
  {
   "cell_type": "code",
   "execution_count": 41,
   "metadata": {},
   "outputs": [
    {
     "data": {
      "text/html": [
       "<div>\n",
       "<style scoped>\n",
       "    .dataframe tbody tr th:only-of-type {\n",
       "        vertical-align: middle;\n",
       "    }\n",
       "\n",
       "    .dataframe tbody tr th {\n",
       "        vertical-align: top;\n",
       "    }\n",
       "\n",
       "    .dataframe thead th {\n",
       "        text-align: right;\n",
       "    }\n",
       "</style>\n",
       "<table border=\"1\" class=\"dataframe\">\n",
       "  <thead>\n",
       "    <tr style=\"text-align: right;\">\n",
       "      <th></th>\n",
       "      <th>Year</th>\n",
       "      <th>Country</th>\n",
       "      <th>Region</th>\n",
       "      <th>Happiness Rank</th>\n",
       "      <th>Happiness Score</th>\n",
       "      <th>Economy (GDP per Capita)</th>\n",
       "      <th>Family</th>\n",
       "      <th>Health (Life Expectancy)</th>\n",
       "      <th>Freedom</th>\n",
       "      <th>Trust (Government Corruption)</th>\n",
       "      <th>Generosity</th>\n",
       "      <th>Dystopia Residual</th>\n",
       "    </tr>\n",
       "  </thead>\n",
       "  <tbody>\n",
       "    <tr>\n",
       "      <th>0</th>\n",
       "      <td>2015</td>\n",
       "      <td>Switzerland</td>\n",
       "      <td>Western Europe</td>\n",
       "      <td>1</td>\n",
       "      <td>7.587</td>\n",
       "      <td>1.396510</td>\n",
       "      <td>1.349510</td>\n",
       "      <td>0.941430</td>\n",
       "      <td>0.665570</td>\n",
       "      <td>0.419780</td>\n",
       "      <td>0.296780</td>\n",
       "      <td>2.517380</td>\n",
       "    </tr>\n",
       "    <tr>\n",
       "      <th>1</th>\n",
       "      <td>2015</td>\n",
       "      <td>Iceland</td>\n",
       "      <td>Western Europe</td>\n",
       "      <td>2</td>\n",
       "      <td>7.561</td>\n",
       "      <td>1.302320</td>\n",
       "      <td>1.402230</td>\n",
       "      <td>0.947840</td>\n",
       "      <td>0.628770</td>\n",
       "      <td>0.141450</td>\n",
       "      <td>0.436300</td>\n",
       "      <td>2.702010</td>\n",
       "    </tr>\n",
       "    <tr>\n",
       "      <th>2</th>\n",
       "      <td>2015</td>\n",
       "      <td>Denmark</td>\n",
       "      <td>Western Europe</td>\n",
       "      <td>3</td>\n",
       "      <td>7.527</td>\n",
       "      <td>1.325480</td>\n",
       "      <td>1.360580</td>\n",
       "      <td>0.874640</td>\n",
       "      <td>0.649380</td>\n",
       "      <td>0.483570</td>\n",
       "      <td>0.341390</td>\n",
       "      <td>2.492040</td>\n",
       "    </tr>\n",
       "    <tr>\n",
       "      <th>3</th>\n",
       "      <td>2015</td>\n",
       "      <td>Norway</td>\n",
       "      <td>Western Europe</td>\n",
       "      <td>4</td>\n",
       "      <td>7.522</td>\n",
       "      <td>1.459000</td>\n",
       "      <td>1.330950</td>\n",
       "      <td>0.885210</td>\n",
       "      <td>0.669730</td>\n",
       "      <td>0.365030</td>\n",
       "      <td>0.346990</td>\n",
       "      <td>2.465310</td>\n",
       "    </tr>\n",
       "    <tr>\n",
       "      <th>4</th>\n",
       "      <td>2015</td>\n",
       "      <td>Canada</td>\n",
       "      <td>North America</td>\n",
       "      <td>5</td>\n",
       "      <td>7.427</td>\n",
       "      <td>1.326290</td>\n",
       "      <td>1.322610</td>\n",
       "      <td>0.905630</td>\n",
       "      <td>0.632970</td>\n",
       "      <td>0.329570</td>\n",
       "      <td>0.458110</td>\n",
       "      <td>2.451760</td>\n",
       "    </tr>\n",
       "    <tr>\n",
       "      <th>...</th>\n",
       "      <td>...</td>\n",
       "      <td>...</td>\n",
       "      <td>...</td>\n",
       "      <td>...</td>\n",
       "      <td>...</td>\n",
       "      <td>...</td>\n",
       "      <td>...</td>\n",
       "      <td>...</td>\n",
       "      <td>...</td>\n",
       "      <td>...</td>\n",
       "      <td>...</td>\n",
       "      <td>...</td>\n",
       "    </tr>\n",
       "    <tr>\n",
       "      <th>465</th>\n",
       "      <td>2017</td>\n",
       "      <td>Rwanda</td>\n",
       "      <td>Sub-Saharan Africa</td>\n",
       "      <td>151</td>\n",
       "      <td>3.471</td>\n",
       "      <td>0.368746</td>\n",
       "      <td>0.945707</td>\n",
       "      <td>0.326425</td>\n",
       "      <td>0.581844</td>\n",
       "      <td>0.455220</td>\n",
       "      <td>0.252756</td>\n",
       "      <td>0.540061</td>\n",
       "    </tr>\n",
       "    <tr>\n",
       "      <th>466</th>\n",
       "      <td>2017</td>\n",
       "      <td>Syria</td>\n",
       "      <td>Middle East and Northern Africa</td>\n",
       "      <td>152</td>\n",
       "      <td>3.462</td>\n",
       "      <td>0.777153</td>\n",
       "      <td>0.396103</td>\n",
       "      <td>0.500533</td>\n",
       "      <td>0.081539</td>\n",
       "      <td>0.151347</td>\n",
       "      <td>0.493664</td>\n",
       "      <td>1.061574</td>\n",
       "    </tr>\n",
       "    <tr>\n",
       "      <th>467</th>\n",
       "      <td>2017</td>\n",
       "      <td>Tanzania</td>\n",
       "      <td>Sub-Saharan Africa</td>\n",
       "      <td>153</td>\n",
       "      <td>3.349</td>\n",
       "      <td>0.511136</td>\n",
       "      <td>1.041990</td>\n",
       "      <td>0.364509</td>\n",
       "      <td>0.390018</td>\n",
       "      <td>0.066035</td>\n",
       "      <td>0.354256</td>\n",
       "      <td>0.621130</td>\n",
       "    </tr>\n",
       "    <tr>\n",
       "      <th>468</th>\n",
       "      <td>2017</td>\n",
       "      <td>Burundi</td>\n",
       "      <td>Sub-Saharan Africa</td>\n",
       "      <td>154</td>\n",
       "      <td>2.905</td>\n",
       "      <td>0.091623</td>\n",
       "      <td>0.629794</td>\n",
       "      <td>0.151611</td>\n",
       "      <td>0.059901</td>\n",
       "      <td>0.084148</td>\n",
       "      <td>0.204435</td>\n",
       "      <td>1.683024</td>\n",
       "    </tr>\n",
       "    <tr>\n",
       "      <th>469</th>\n",
       "      <td>2017</td>\n",
       "      <td>Central African Republic</td>\n",
       "      <td>Sub-Saharan Africa</td>\n",
       "      <td>155</td>\n",
       "      <td>2.693</td>\n",
       "      <td>0.000000</td>\n",
       "      <td>0.000000</td>\n",
       "      <td>0.018773</td>\n",
       "      <td>0.270842</td>\n",
       "      <td>0.056565</td>\n",
       "      <td>0.280876</td>\n",
       "      <td>2.066005</td>\n",
       "    </tr>\n",
       "  </tbody>\n",
       "</table>\n",
       "<p>470 rows × 12 columns</p>\n",
       "</div>"
      ],
      "text/plain": [
       "     Year                   Country                           Region  \\\n",
       "0    2015               Switzerland                   Western Europe   \n",
       "1    2015                   Iceland                   Western Europe   \n",
       "2    2015                   Denmark                   Western Europe   \n",
       "3    2015                    Norway                   Western Europe   \n",
       "4    2015                    Canada                    North America   \n",
       "..    ...                       ...                              ...   \n",
       "465  2017                    Rwanda               Sub-Saharan Africa   \n",
       "466  2017                     Syria  Middle East and Northern Africa   \n",
       "467  2017                  Tanzania               Sub-Saharan Africa   \n",
       "468  2017                   Burundi               Sub-Saharan Africa   \n",
       "469  2017  Central African Republic               Sub-Saharan Africa   \n",
       "\n",
       "     Happiness Rank  Happiness Score  Economy (GDP per Capita)    Family  \\\n",
       "0                 1            7.587                  1.396510  1.349510   \n",
       "1                 2            7.561                  1.302320  1.402230   \n",
       "2                 3            7.527                  1.325480  1.360580   \n",
       "3                 4            7.522                  1.459000  1.330950   \n",
       "4                 5            7.427                  1.326290  1.322610   \n",
       "..              ...              ...                       ...       ...   \n",
       "465             151            3.471                  0.368746  0.945707   \n",
       "466             152            3.462                  0.777153  0.396103   \n",
       "467             153            3.349                  0.511136  1.041990   \n",
       "468             154            2.905                  0.091623  0.629794   \n",
       "469             155            2.693                  0.000000  0.000000   \n",
       "\n",
       "     Health (Life Expectancy)   Freedom  Trust (Government Corruption)  \\\n",
       "0                    0.941430  0.665570                       0.419780   \n",
       "1                    0.947840  0.628770                       0.141450   \n",
       "2                    0.874640  0.649380                       0.483570   \n",
       "3                    0.885210  0.669730                       0.365030   \n",
       "4                    0.905630  0.632970                       0.329570   \n",
       "..                        ...       ...                            ...   \n",
       "465                  0.326425  0.581844                       0.455220   \n",
       "466                  0.500533  0.081539                       0.151347   \n",
       "467                  0.364509  0.390018                       0.066035   \n",
       "468                  0.151611  0.059901                       0.084148   \n",
       "469                  0.018773  0.270842                       0.056565   \n",
       "\n",
       "     Generosity  Dystopia Residual  \n",
       "0      0.296780           2.517380  \n",
       "1      0.436300           2.702010  \n",
       "2      0.341390           2.492040  \n",
       "3      0.346990           2.465310  \n",
       "4      0.458110           2.451760  \n",
       "..          ...                ...  \n",
       "465    0.252756           0.540061  \n",
       "466    0.493664           1.061574  \n",
       "467    0.354256           0.621130  \n",
       "468    0.204435           1.683024  \n",
       "469    0.280876           2.066005  \n",
       "\n",
       "[470 rows x 12 columns]"
      ]
     },
     "metadata": {},
     "output_type": "display_data"
    }
   ],
   "source": [
    "# view complete df \n",
    "display(world_df)"
   ]
  },
  {
   "cell_type": "markdown",
   "metadata": {},
   "source": [
    "### Export Modifed Data Frame"
   ]
  },
  {
   "cell_type": "code",
   "execution_count": 43,
   "metadata": {},
   "outputs": [],
   "source": [
    "world_df.to_csv('world_happiness_2015_2017.csv', index=False)   "
   ]
  },
  {
   "cell_type": "markdown",
   "metadata": {},
   "source": [
    "## Step 3 - Data Analysis"
   ]
  },
  {
   "cell_type": "code",
   "execution_count": 44,
   "metadata": {},
   "outputs": [
    {
     "name": "stdout",
     "output_type": "stream",
     "text": [
      "<class 'pandas.core.frame.DataFrame'>\n",
      "RangeIndex: 470 entries, 0 to 469\n",
      "Data columns (total 12 columns):\n",
      " #   Column                         Non-Null Count  Dtype  \n",
      "---  ------                         --------------  -----  \n",
      " 0   Year                           470 non-null    int64  \n",
      " 1   Country                        470 non-null    object \n",
      " 2   Region                         470 non-null    object \n",
      " 3   Happiness Rank                 470 non-null    int64  \n",
      " 4   Happiness Score                470 non-null    float64\n",
      " 5   Economy (GDP per Capita)       470 non-null    float64\n",
      " 6   Family                         470 non-null    float64\n",
      " 7   Health (Life Expectancy)       470 non-null    float64\n",
      " 8   Freedom                        470 non-null    float64\n",
      " 9   Trust (Government Corruption)  470 non-null    float64\n",
      " 10  Generosity                     470 non-null    float64\n",
      " 11  Dystopia Residual              470 non-null    float64\n",
      "dtypes: float64(8), int64(2), object(2)\n",
      "memory usage: 44.2+ KB\n"
     ]
    }
   ],
   "source": [
    "world_df.info()"
   ]
  },
  {
   "cell_type": "markdown",
   "metadata": {},
   "source": [
    "### Statistical Summary "
   ]
  },
  {
   "cell_type": "code",
   "execution_count": 45,
   "metadata": {},
   "outputs": [
    {
     "data": {
      "text/html": [
       "<div>\n",
       "<style scoped>\n",
       "    .dataframe tbody tr th:only-of-type {\n",
       "        vertical-align: middle;\n",
       "    }\n",
       "\n",
       "    .dataframe tbody tr th {\n",
       "        vertical-align: top;\n",
       "    }\n",
       "\n",
       "    .dataframe thead th {\n",
       "        text-align: right;\n",
       "    }\n",
       "</style>\n",
       "<table border=\"1\" class=\"dataframe\">\n",
       "  <thead>\n",
       "    <tr style=\"text-align: right;\">\n",
       "      <th></th>\n",
       "      <th>Happiness Score</th>\n",
       "      <th>Economy (GDP per Capita)</th>\n",
       "      <th>Family</th>\n",
       "      <th>Health (Life Expectancy)</th>\n",
       "      <th>Freedom</th>\n",
       "      <th>Trust (Government Corruption)</th>\n",
       "      <th>Generosity</th>\n",
       "      <th>Dystopia Residual</th>\n",
       "    </tr>\n",
       "  </thead>\n",
       "  <tbody>\n",
       "    <tr>\n",
       "      <th>count</th>\n",
       "      <td>470.00</td>\n",
       "      <td>470.00</td>\n",
       "      <td>470.00</td>\n",
       "      <td>470.00</td>\n",
       "      <td>470.00</td>\n",
       "      <td>470.00</td>\n",
       "      <td>470.00</td>\n",
       "      <td>470.00</td>\n",
       "    </tr>\n",
       "    <tr>\n",
       "      <th>mean</th>\n",
       "      <td>5.37</td>\n",
       "      <td>0.93</td>\n",
       "      <td>0.99</td>\n",
       "      <td>0.58</td>\n",
       "      <td>0.40</td>\n",
       "      <td>0.13</td>\n",
       "      <td>0.24</td>\n",
       "      <td>2.09</td>\n",
       "    </tr>\n",
       "    <tr>\n",
       "      <th>std</th>\n",
       "      <td>1.14</td>\n",
       "      <td>0.42</td>\n",
       "      <td>0.32</td>\n",
       "      <td>0.24</td>\n",
       "      <td>0.15</td>\n",
       "      <td>0.11</td>\n",
       "      <td>0.13</td>\n",
       "      <td>0.57</td>\n",
       "    </tr>\n",
       "    <tr>\n",
       "      <th>min</th>\n",
       "      <td>2.69</td>\n",
       "      <td>0.00</td>\n",
       "      <td>0.00</td>\n",
       "      <td>0.00</td>\n",
       "      <td>0.00</td>\n",
       "      <td>0.00</td>\n",
       "      <td>0.00</td>\n",
       "      <td>0.33</td>\n",
       "    </tr>\n",
       "    <tr>\n",
       "      <th>25%</th>\n",
       "      <td>4.51</td>\n",
       "      <td>0.61</td>\n",
       "      <td>0.79</td>\n",
       "      <td>0.40</td>\n",
       "      <td>0.30</td>\n",
       "      <td>0.06</td>\n",
       "      <td>0.15</td>\n",
       "      <td>1.74</td>\n",
       "    </tr>\n",
       "    <tr>\n",
       "      <th>50%</th>\n",
       "      <td>5.28</td>\n",
       "      <td>1.00</td>\n",
       "      <td>1.03</td>\n",
       "      <td>0.63</td>\n",
       "      <td>0.42</td>\n",
       "      <td>0.10</td>\n",
       "      <td>0.22</td>\n",
       "      <td>2.09</td>\n",
       "    </tr>\n",
       "    <tr>\n",
       "      <th>75%</th>\n",
       "      <td>6.23</td>\n",
       "      <td>1.25</td>\n",
       "      <td>1.23</td>\n",
       "      <td>0.77</td>\n",
       "      <td>0.52</td>\n",
       "      <td>0.17</td>\n",
       "      <td>0.32</td>\n",
       "      <td>2.46</td>\n",
       "    </tr>\n",
       "    <tr>\n",
       "      <th>max</th>\n",
       "      <td>7.59</td>\n",
       "      <td>1.87</td>\n",
       "      <td>1.61</td>\n",
       "      <td>1.03</td>\n",
       "      <td>0.67</td>\n",
       "      <td>0.55</td>\n",
       "      <td>0.84</td>\n",
       "      <td>3.84</td>\n",
       "    </tr>\n",
       "  </tbody>\n",
       "</table>\n",
       "</div>"
      ],
      "text/plain": [
       "       Happiness Score  Economy (GDP per Capita)  Family  \\\n",
       "count           470.00                    470.00  470.00   \n",
       "mean              5.37                      0.93    0.99   \n",
       "std               1.14                      0.42    0.32   \n",
       "min               2.69                      0.00    0.00   \n",
       "25%               4.51                      0.61    0.79   \n",
       "50%               5.28                      1.00    1.03   \n",
       "75%               6.23                      1.25    1.23   \n",
       "max               7.59                      1.87    1.61   \n",
       "\n",
       "       Health (Life Expectancy)  Freedom  Trust (Government Corruption)  \\\n",
       "count                    470.00   470.00                         470.00   \n",
       "mean                       0.58     0.40                           0.13   \n",
       "std                        0.24     0.15                           0.11   \n",
       "min                        0.00     0.00                           0.00   \n",
       "25%                        0.40     0.30                           0.06   \n",
       "50%                        0.63     0.42                           0.10   \n",
       "75%                        0.77     0.52                           0.17   \n",
       "max                        1.03     0.67                           0.55   \n",
       "\n",
       "       Generosity  Dystopia Residual  \n",
       "count      470.00             470.00  \n",
       "mean         0.24               2.09  \n",
       "std          0.13               0.57  \n",
       "min          0.00               0.33  \n",
       "25%          0.15               1.74  \n",
       "50%          0.22               2.09  \n",
       "75%          0.32               2.46  \n",
       "max          0.84               3.84  "
      ]
     },
     "execution_count": 45,
     "metadata": {},
     "output_type": "execute_result"
    }
   ],
   "source": [
    "#summary of numerical/non-year columns\n",
    "world_df.iloc[:,4:12].describe().round(2)"
   ]
  },
  {
   "cell_type": "markdown",
   "metadata": {},
   "source": [
    "### Country Count per Region"
   ]
  },
  {
   "cell_type": "code",
   "execution_count": 48,
   "metadata": {},
   "outputs": [
    {
     "data": {
      "text/html": [
       "<div>\n",
       "<style scoped>\n",
       "    .dataframe tbody tr th:only-of-type {\n",
       "        vertical-align: middle;\n",
       "    }\n",
       "\n",
       "    .dataframe tbody tr th {\n",
       "        vertical-align: top;\n",
       "    }\n",
       "\n",
       "    .dataframe thead th {\n",
       "        text-align: right;\n",
       "    }\n",
       "</style>\n",
       "<table border=\"1\" class=\"dataframe\">\n",
       "  <thead>\n",
       "    <tr style=\"text-align: right;\">\n",
       "      <th></th>\n",
       "      <th>Region</th>\n",
       "      <th>Country No.</th>\n",
       "    </tr>\n",
       "  </thead>\n",
       "  <tbody>\n",
       "    <tr>\n",
       "      <th>0</th>\n",
       "      <td>Australia and New Zealand</td>\n",
       "      <td>2</td>\n",
       "    </tr>\n",
       "    <tr>\n",
       "      <th>1</th>\n",
       "      <td>North America</td>\n",
       "      <td>2</td>\n",
       "    </tr>\n",
       "    <tr>\n",
       "      <th>2</th>\n",
       "      <td>Eastern Asia</td>\n",
       "      <td>6</td>\n",
       "    </tr>\n",
       "    <tr>\n",
       "      <th>3</th>\n",
       "      <td>Southern Asia</td>\n",
       "      <td>7</td>\n",
       "    </tr>\n",
       "    <tr>\n",
       "      <th>4</th>\n",
       "      <td>Southeastern Asia</td>\n",
       "      <td>9</td>\n",
       "    </tr>\n",
       "    <tr>\n",
       "      <th>5</th>\n",
       "      <td>Middle East and Northern Africa</td>\n",
       "      <td>20</td>\n",
       "    </tr>\n",
       "    <tr>\n",
       "      <th>6</th>\n",
       "      <td>Western Europe</td>\n",
       "      <td>21</td>\n",
       "    </tr>\n",
       "    <tr>\n",
       "      <th>7</th>\n",
       "      <td>Latin America and Caribbean</td>\n",
       "      <td>24</td>\n",
       "    </tr>\n",
       "    <tr>\n",
       "      <th>8</th>\n",
       "      <td>Central and Eastern Europe</td>\n",
       "      <td>29</td>\n",
       "    </tr>\n",
       "    <tr>\n",
       "      <th>9</th>\n",
       "      <td>Sub-Saharan Africa</td>\n",
       "      <td>43</td>\n",
       "    </tr>\n",
       "  </tbody>\n",
       "</table>\n",
       "</div>"
      ],
      "text/plain": [
       "                            Region  Country No.\n",
       "0        Australia and New Zealand            2\n",
       "1                    North America            2\n",
       "2                     Eastern Asia            6\n",
       "3                    Southern Asia            7\n",
       "4                Southeastern Asia            9\n",
       "5  Middle East and Northern Africa           20\n",
       "6                   Western Europe           21\n",
       "7      Latin America and Caribbean           24\n",
       "8       Central and Eastern Europe           29\n",
       "9               Sub-Saharan Africa           43"
      ]
     },
     "execution_count": 48,
     "metadata": {},
     "output_type": "execute_result"
    }
   ],
   "source": [
    "#select regions and matching countries \n",
    "reg_n = world_df.groupby('Region')['Country'].unique().to_frame().reset_index() \n",
    "\n",
    "#get country count from list & replace values\n",
    "reg_n['Country'] = reg_n['Country'].str.len() \n",
    "\n",
    "#sort df by value\n",
    "reg_n.rename(columns={'Country':'Country No.'}).sort_values('Country No.').reset_index(drop=True)"
   ]
  },
  {
   "cell_type": "markdown",
   "metadata": {},
   "source": [
    "### Happiness Rank Analysis\n",
    "\n",
    "##### Overall Top & Bottom 10 Ranked Happiest Countries by Average Happiness Rank"
   ]
  },
  {
   "cell_type": "code",
   "execution_count": 51,
   "metadata": {},
   "outputs": [
    {
     "data": {
      "text/html": [
       "<div>\n",
       "<style scoped>\n",
       "    .dataframe tbody tr th:only-of-type {\n",
       "        vertical-align: middle;\n",
       "    }\n",
       "\n",
       "    .dataframe tbody tr th {\n",
       "        vertical-align: top;\n",
       "    }\n",
       "\n",
       "    .dataframe thead th {\n",
       "        text-align: right;\n",
       "    }\n",
       "</style>\n",
       "<table border=\"1\" class=\"dataframe\">\n",
       "  <thead>\n",
       "    <tr style=\"text-align: right;\">\n",
       "      <th></th>\n",
       "      <th>Country</th>\n",
       "      <th>Region</th>\n",
       "      <th>Happiness Rank</th>\n",
       "    </tr>\n",
       "  </thead>\n",
       "  <tbody>\n",
       "    <tr>\n",
       "      <th>0</th>\n",
       "      <td>Denmark</td>\n",
       "      <td>Western Europe</td>\n",
       "      <td>2.00</td>\n",
       "    </tr>\n",
       "    <tr>\n",
       "      <th>1</th>\n",
       "      <td>Switzerland</td>\n",
       "      <td>Western Europe</td>\n",
       "      <td>2.33</td>\n",
       "    </tr>\n",
       "    <tr>\n",
       "      <th>2</th>\n",
       "      <td>Iceland</td>\n",
       "      <td>Western Europe</td>\n",
       "      <td>2.67</td>\n",
       "    </tr>\n",
       "    <tr>\n",
       "      <th>3</th>\n",
       "      <td>Norway</td>\n",
       "      <td>Western Europe</td>\n",
       "      <td>3.00</td>\n",
       "    </tr>\n",
       "    <tr>\n",
       "      <th>4</th>\n",
       "      <td>Finland</td>\n",
       "      <td>Western Europe</td>\n",
       "      <td>5.33</td>\n",
       "    </tr>\n",
       "    <tr>\n",
       "      <th>5</th>\n",
       "      <td>Canada</td>\n",
       "      <td>North America</td>\n",
       "      <td>6.00</td>\n",
       "    </tr>\n",
       "    <tr>\n",
       "      <th>6</th>\n",
       "      <td>Netherlands</td>\n",
       "      <td>Western Europe</td>\n",
       "      <td>6.67</td>\n",
       "    </tr>\n",
       "    <tr>\n",
       "      <th>7</th>\n",
       "      <td>New Zealand</td>\n",
       "      <td>Australia and New Zealand</td>\n",
       "      <td>8.33</td>\n",
       "    </tr>\n",
       "    <tr>\n",
       "      <th>8</th>\n",
       "      <td>Sweden</td>\n",
       "      <td>Western Europe</td>\n",
       "      <td>9.00</td>\n",
       "    </tr>\n",
       "    <tr>\n",
       "      <th>9</th>\n",
       "      <td>Australia</td>\n",
       "      <td>Australia and New Zealand</td>\n",
       "      <td>9.67</td>\n",
       "    </tr>\n",
       "  </tbody>\n",
       "</table>\n",
       "</div>"
      ],
      "text/plain": [
       "       Country                     Region  Happiness Rank\n",
       "0      Denmark             Western Europe            2.00\n",
       "1  Switzerland             Western Europe            2.33\n",
       "2      Iceland             Western Europe            2.67\n",
       "3       Norway             Western Europe            3.00\n",
       "4      Finland             Western Europe            5.33\n",
       "5       Canada              North America            6.00\n",
       "6  Netherlands             Western Europe            6.67\n",
       "7  New Zealand  Australia and New Zealand            8.33\n",
       "8       Sweden             Western Europe            9.00\n",
       "9    Australia  Australia and New Zealand            9.67"
      ]
     },
     "execution_count": 51,
     "metadata": {},
     "output_type": "execute_result"
    }
   ],
   "source": [
    "#top 10 by avg happiness rank\n",
    "world_df.groupby(['Country', 'Region'])['Happiness Rank'].mean().round(2).nsmallest(10).reset_index()"
   ]
  },
  {
   "cell_type": "code",
   "execution_count": 52,
   "metadata": {},
   "outputs": [
    {
     "data": {
      "text/html": [
       "<div>\n",
       "<style scoped>\n",
       "    .dataframe tbody tr th:only-of-type {\n",
       "        vertical-align: middle;\n",
       "    }\n",
       "\n",
       "    .dataframe tbody tr th {\n",
       "        vertical-align: top;\n",
       "    }\n",
       "\n",
       "    .dataframe thead th {\n",
       "        text-align: right;\n",
       "    }\n",
       "</style>\n",
       "<table border=\"1\" class=\"dataframe\">\n",
       "  <thead>\n",
       "    <tr style=\"text-align: right;\">\n",
       "      <th></th>\n",
       "      <th>Country</th>\n",
       "      <th>Region</th>\n",
       "      <th>Happiness Rank</th>\n",
       "    </tr>\n",
       "  </thead>\n",
       "  <tbody>\n",
       "    <tr>\n",
       "      <th>0</th>\n",
       "      <td>Burundi</td>\n",
       "      <td>Sub-Saharan Africa</td>\n",
       "      <td>156.00</td>\n",
       "    </tr>\n",
       "    <tr>\n",
       "      <th>1</th>\n",
       "      <td>Syria</td>\n",
       "      <td>Middle East and Northern Africa</td>\n",
       "      <td>154.67</td>\n",
       "    </tr>\n",
       "    <tr>\n",
       "      <th>2</th>\n",
       "      <td>Togo</td>\n",
       "      <td>Sub-Saharan Africa</td>\n",
       "      <td>154.33</td>\n",
       "    </tr>\n",
       "    <tr>\n",
       "      <th>3</th>\n",
       "      <td>Rwanda</td>\n",
       "      <td>Sub-Saharan Africa</td>\n",
       "      <td>152.33</td>\n",
       "    </tr>\n",
       "    <tr>\n",
       "      <th>4</th>\n",
       "      <td>Central African Republic</td>\n",
       "      <td>Sub-Saharan Africa</td>\n",
       "      <td>151.50</td>\n",
       "    </tr>\n",
       "    <tr>\n",
       "      <th>5</th>\n",
       "      <td>Benin</td>\n",
       "      <td>Sub-Saharan Africa</td>\n",
       "      <td>150.33</td>\n",
       "    </tr>\n",
       "    <tr>\n",
       "      <th>6</th>\n",
       "      <td>Guinea</td>\n",
       "      <td>Sub-Saharan Africa</td>\n",
       "      <td>150.00</td>\n",
       "    </tr>\n",
       "    <tr>\n",
       "      <th>7</th>\n",
       "      <td>Afghanistan</td>\n",
       "      <td>Southern Asia</td>\n",
       "      <td>149.33</td>\n",
       "    </tr>\n",
       "    <tr>\n",
       "      <th>8</th>\n",
       "      <td>Tanzania</td>\n",
       "      <td>Sub-Saharan Africa</td>\n",
       "      <td>149.33</td>\n",
       "    </tr>\n",
       "    <tr>\n",
       "      <th>9</th>\n",
       "      <td>Madagascar</td>\n",
       "      <td>Sub-Saharan Africa</td>\n",
       "      <td>146.33</td>\n",
       "    </tr>\n",
       "  </tbody>\n",
       "</table>\n",
       "</div>"
      ],
      "text/plain": [
       "                    Country                           Region  Happiness Rank\n",
       "0                   Burundi               Sub-Saharan Africa          156.00\n",
       "1                     Syria  Middle East and Northern Africa          154.67\n",
       "2                      Togo               Sub-Saharan Africa          154.33\n",
       "3                    Rwanda               Sub-Saharan Africa          152.33\n",
       "4  Central African Republic               Sub-Saharan Africa          151.50\n",
       "5                     Benin               Sub-Saharan Africa          150.33\n",
       "6                    Guinea               Sub-Saharan Africa          150.00\n",
       "7               Afghanistan                    Southern Asia          149.33\n",
       "8                  Tanzania               Sub-Saharan Africa          149.33\n",
       "9                Madagascar               Sub-Saharan Africa          146.33"
      ]
     },
     "execution_count": 52,
     "metadata": {},
     "output_type": "execute_result"
    }
   ],
   "source": [
    "#bot 10 by avg happiness rank\n",
    "world_df.groupby(['Country', 'Region'])['Happiness Rank'].mean().round(2).nlargest(10).reset_index()"
   ]
  },
  {
   "cell_type": "markdown",
   "metadata": {},
   "source": [
    "#### Top & Bottom 10 Ranked Happiest Countries by Year"
   ]
  },
  {
   "cell_type": "code",
   "execution_count": 53,
   "metadata": {},
   "outputs": [
    {
     "data": {
      "text/html": [
       "<div>\n",
       "<style scoped>\n",
       "    .dataframe tbody tr th:only-of-type {\n",
       "        vertical-align: middle;\n",
       "    }\n",
       "\n",
       "    .dataframe tbody tr th {\n",
       "        vertical-align: top;\n",
       "    }\n",
       "\n",
       "    .dataframe thead tr th {\n",
       "        text-align: left;\n",
       "    }\n",
       "\n",
       "    .dataframe thead tr:last-of-type th {\n",
       "        text-align: right;\n",
       "    }\n",
       "</style>\n",
       "<table border=\"1\" class=\"dataframe\">\n",
       "  <thead>\n",
       "    <tr>\n",
       "      <th>Year</th>\n",
       "      <th colspan=\"2\" halign=\"left\">2015</th>\n",
       "      <th colspan=\"2\" halign=\"left\">2016</th>\n",
       "      <th colspan=\"2\" halign=\"left\">2017</th>\n",
       "    </tr>\n",
       "    <tr>\n",
       "      <th>Area</th>\n",
       "      <th>Country</th>\n",
       "      <th>Region</th>\n",
       "      <th>Country</th>\n",
       "      <th>Region</th>\n",
       "      <th>Country</th>\n",
       "      <th>Region</th>\n",
       "    </tr>\n",
       "    <tr>\n",
       "      <th>Happiness Rank</th>\n",
       "      <th></th>\n",
       "      <th></th>\n",
       "      <th></th>\n",
       "      <th></th>\n",
       "      <th></th>\n",
       "      <th></th>\n",
       "    </tr>\n",
       "  </thead>\n",
       "  <tbody>\n",
       "    <tr>\n",
       "      <th>1</th>\n",
       "      <td>Switzerland</td>\n",
       "      <td>Western Europe</td>\n",
       "      <td>Denmark</td>\n",
       "      <td>Western Europe</td>\n",
       "      <td>Norway</td>\n",
       "      <td>Western Europe</td>\n",
       "    </tr>\n",
       "    <tr>\n",
       "      <th>2</th>\n",
       "      <td>Iceland</td>\n",
       "      <td>Western Europe</td>\n",
       "      <td>Switzerland</td>\n",
       "      <td>Western Europe</td>\n",
       "      <td>Denmark</td>\n",
       "      <td>Western Europe</td>\n",
       "    </tr>\n",
       "    <tr>\n",
       "      <th>3</th>\n",
       "      <td>Denmark</td>\n",
       "      <td>Western Europe</td>\n",
       "      <td>Iceland</td>\n",
       "      <td>Western Europe</td>\n",
       "      <td>Iceland</td>\n",
       "      <td>Western Europe</td>\n",
       "    </tr>\n",
       "    <tr>\n",
       "      <th>4</th>\n",
       "      <td>Norway</td>\n",
       "      <td>Western Europe</td>\n",
       "      <td>Norway</td>\n",
       "      <td>Western Europe</td>\n",
       "      <td>Switzerland</td>\n",
       "      <td>Western Europe</td>\n",
       "    </tr>\n",
       "    <tr>\n",
       "      <th>5</th>\n",
       "      <td>Canada</td>\n",
       "      <td>North America</td>\n",
       "      <td>Finland</td>\n",
       "      <td>Western Europe</td>\n",
       "      <td>Finland</td>\n",
       "      <td>Western Europe</td>\n",
       "    </tr>\n",
       "    <tr>\n",
       "      <th>6</th>\n",
       "      <td>Finland</td>\n",
       "      <td>Western Europe</td>\n",
       "      <td>Canada</td>\n",
       "      <td>North America</td>\n",
       "      <td>Netherlands</td>\n",
       "      <td>Western Europe</td>\n",
       "    </tr>\n",
       "    <tr>\n",
       "      <th>7</th>\n",
       "      <td>Netherlands</td>\n",
       "      <td>Western Europe</td>\n",
       "      <td>Netherlands</td>\n",
       "      <td>Western Europe</td>\n",
       "      <td>Canada</td>\n",
       "      <td>North America</td>\n",
       "    </tr>\n",
       "    <tr>\n",
       "      <th>8</th>\n",
       "      <td>Sweden</td>\n",
       "      <td>Western Europe</td>\n",
       "      <td>New Zealand</td>\n",
       "      <td>Australia and New Zealand</td>\n",
       "      <td>New Zealand</td>\n",
       "      <td>Australia and New Zealand</td>\n",
       "    </tr>\n",
       "    <tr>\n",
       "      <th>9</th>\n",
       "      <td>New Zealand</td>\n",
       "      <td>Australia and New Zealand</td>\n",
       "      <td>Australia</td>\n",
       "      <td>Australia and New Zealand</td>\n",
       "      <td>Sweden</td>\n",
       "      <td>Western Europe</td>\n",
       "    </tr>\n",
       "    <tr>\n",
       "      <th>10</th>\n",
       "      <td>Australia</td>\n",
       "      <td>Australia and New Zealand</td>\n",
       "      <td>Sweden</td>\n",
       "      <td>Western Europe</td>\n",
       "      <td>Australia</td>\n",
       "      <td>Australia and New Zealand</td>\n",
       "    </tr>\n",
       "  </tbody>\n",
       "</table>\n",
       "</div>"
      ],
      "text/plain": [
       "Year                   2015                                    2016  \\\n",
       "Area                Country                     Region      Country   \n",
       "Happiness Rank                                                        \n",
       "1               Switzerland             Western Europe      Denmark   \n",
       "2                   Iceland             Western Europe  Switzerland   \n",
       "3                   Denmark             Western Europe      Iceland   \n",
       "4                    Norway             Western Europe       Norway   \n",
       "5                    Canada              North America      Finland   \n",
       "6                   Finland             Western Europe       Canada   \n",
       "7               Netherlands             Western Europe  Netherlands   \n",
       "8                    Sweden             Western Europe  New Zealand   \n",
       "9               New Zealand  Australia and New Zealand    Australia   \n",
       "10                Australia  Australia and New Zealand       Sweden   \n",
       "\n",
       "Year                                              2017  \\\n",
       "Area                               Region      Country   \n",
       "Happiness Rank                                           \n",
       "1                          Western Europe       Norway   \n",
       "2                          Western Europe      Denmark   \n",
       "3                          Western Europe      Iceland   \n",
       "4                          Western Europe  Switzerland   \n",
       "5                          Western Europe      Finland   \n",
       "6                           North America  Netherlands   \n",
       "7                          Western Europe       Canada   \n",
       "8               Australia and New Zealand  New Zealand   \n",
       "9               Australia and New Zealand       Sweden   \n",
       "10                         Western Europe    Australia   \n",
       "\n",
       "Year                                       \n",
       "Area                               Region  \n",
       "Happiness Rank                             \n",
       "1                          Western Europe  \n",
       "2                          Western Europe  \n",
       "3                          Western Europe  \n",
       "4                          Western Europe  \n",
       "5                          Western Europe  \n",
       "6                          Western Europe  \n",
       "7                           North America  \n",
       "8               Australia and New Zealand  \n",
       "9                          Western Europe  \n",
       "10              Australia and New Zealand  "
      ]
     },
     "execution_count": 53,
     "metadata": {},
     "output_type": "execute_result"
    }
   ],
   "source": [
    "#annual top 10s \n",
    "tops10=world_df.loc[world_df['Happiness Rank']<=10, ('Year', 'Happiness Rank', 'Country','Region')].reset_index(drop=True)\n",
    "t10 = tops10.melt(id_vars=['Happiness Rank', 'Year'], value_vars=['Country', 'Region'], value_name='Geography', var_name='Area').sort_values(['Happiness Rank', 'Year'])\n",
    "yrs_top10 = t10.pivot(index='Happiness Rank', columns=['Year','Area'])\n",
    "\n",
    "#remove geo header\n",
    "yrs_top10.columns = yrs_top10.columns.droplevel(0) \n",
    "yrs_top10"
   ]
  },
  {
   "cell_type": "code",
   "execution_count": 54,
   "metadata": {},
   "outputs": [
    {
     "data": {
      "text/html": [
       "<div>\n",
       "<style scoped>\n",
       "    .dataframe tbody tr th:only-of-type {\n",
       "        vertical-align: middle;\n",
       "    }\n",
       "\n",
       "    .dataframe tbody tr th {\n",
       "        vertical-align: top;\n",
       "    }\n",
       "\n",
       "    .dataframe thead tr th {\n",
       "        text-align: left;\n",
       "    }\n",
       "\n",
       "    .dataframe thead tr:last-of-type th {\n",
       "        text-align: right;\n",
       "    }\n",
       "</style>\n",
       "<table border=\"1\" class=\"dataframe\">\n",
       "  <thead>\n",
       "    <tr>\n",
       "      <th>Year</th>\n",
       "      <th colspan=\"2\" halign=\"left\">2015</th>\n",
       "      <th colspan=\"2\" halign=\"left\">2016</th>\n",
       "      <th colspan=\"2\" halign=\"left\">2017</th>\n",
       "    </tr>\n",
       "    <tr>\n",
       "      <th>Area</th>\n",
       "      <th>Country</th>\n",
       "      <th>Region</th>\n",
       "      <th>Country</th>\n",
       "      <th>Region</th>\n",
       "      <th>Country</th>\n",
       "      <th>Region</th>\n",
       "    </tr>\n",
       "    <tr>\n",
       "      <th>Happiness Rank</th>\n",
       "      <th></th>\n",
       "      <th></th>\n",
       "      <th></th>\n",
       "      <th></th>\n",
       "      <th></th>\n",
       "      <th></th>\n",
       "    </tr>\n",
       "  </thead>\n",
       "  <tbody>\n",
       "    <tr>\n",
       "      <th>1</th>\n",
       "      <td>Chad</td>\n",
       "      <td>Sub-Saharan Africa</td>\n",
       "      <td>Madagascar</td>\n",
       "      <td>Sub-Saharan Africa</td>\n",
       "      <td>Yemen</td>\n",
       "      <td>Middle East and Northern Africa</td>\n",
       "    </tr>\n",
       "    <tr>\n",
       "      <th>2</th>\n",
       "      <td>Guinea</td>\n",
       "      <td>Sub-Saharan Africa</td>\n",
       "      <td>Tanzania</td>\n",
       "      <td>Sub-Saharan Africa</td>\n",
       "      <td>South Sudan</td>\n",
       "      <td>Sub-Saharan Africa</td>\n",
       "    </tr>\n",
       "    <tr>\n",
       "      <th>3</th>\n",
       "      <td>Ivory Coast</td>\n",
       "      <td>Sub-Saharan Africa</td>\n",
       "      <td>Liberia</td>\n",
       "      <td>Sub-Saharan Africa</td>\n",
       "      <td>Liberia</td>\n",
       "      <td>Sub-Saharan Africa</td>\n",
       "    </tr>\n",
       "    <tr>\n",
       "      <th>4</th>\n",
       "      <td>Burkina Faso</td>\n",
       "      <td>Sub-Saharan Africa</td>\n",
       "      <td>Guinea</td>\n",
       "      <td>Sub-Saharan Africa</td>\n",
       "      <td>Guinea</td>\n",
       "      <td>Sub-Saharan Africa</td>\n",
       "    </tr>\n",
       "    <tr>\n",
       "      <th>5</th>\n",
       "      <td>Afghanistan</td>\n",
       "      <td>Southern Asia</td>\n",
       "      <td>Rwanda</td>\n",
       "      <td>Sub-Saharan Africa</td>\n",
       "      <td>Togo</td>\n",
       "      <td>Sub-Saharan Africa</td>\n",
       "    </tr>\n",
       "    <tr>\n",
       "      <th>6</th>\n",
       "      <td>Rwanda</td>\n",
       "      <td>Sub-Saharan Africa</td>\n",
       "      <td>Benin</td>\n",
       "      <td>Sub-Saharan Africa</td>\n",
       "      <td>Rwanda</td>\n",
       "      <td>Sub-Saharan Africa</td>\n",
       "    </tr>\n",
       "    <tr>\n",
       "      <th>7</th>\n",
       "      <td>Benin</td>\n",
       "      <td>Sub-Saharan Africa</td>\n",
       "      <td>Afghanistan</td>\n",
       "      <td>Southern Asia</td>\n",
       "      <td>Syria</td>\n",
       "      <td>Middle East and Northern Africa</td>\n",
       "    </tr>\n",
       "    <tr>\n",
       "      <th>8</th>\n",
       "      <td>Syria</td>\n",
       "      <td>Middle East and Northern Africa</td>\n",
       "      <td>Togo</td>\n",
       "      <td>Sub-Saharan Africa</td>\n",
       "      <td>Tanzania</td>\n",
       "      <td>Sub-Saharan Africa</td>\n",
       "    </tr>\n",
       "    <tr>\n",
       "      <th>9</th>\n",
       "      <td>Burundi</td>\n",
       "      <td>Sub-Saharan Africa</td>\n",
       "      <td>Syria</td>\n",
       "      <td>Middle East and Northern Africa</td>\n",
       "      <td>Burundi</td>\n",
       "      <td>Sub-Saharan Africa</td>\n",
       "    </tr>\n",
       "    <tr>\n",
       "      <th>10</th>\n",
       "      <td>Togo</td>\n",
       "      <td>Sub-Saharan Africa</td>\n",
       "      <td>Burundi</td>\n",
       "      <td>Sub-Saharan Africa</td>\n",
       "      <td>Central African Republic</td>\n",
       "      <td>Sub-Saharan Africa</td>\n",
       "    </tr>\n",
       "  </tbody>\n",
       "</table>\n",
       "</div>"
      ],
      "text/plain": [
       "Year                    2015                                          2016  \\\n",
       "Area                 Country                           Region      Country   \n",
       "Happiness Rank                                                               \n",
       "1                       Chad               Sub-Saharan Africa   Madagascar   \n",
       "2                     Guinea               Sub-Saharan Africa     Tanzania   \n",
       "3                Ivory Coast               Sub-Saharan Africa      Liberia   \n",
       "4               Burkina Faso               Sub-Saharan Africa       Guinea   \n",
       "5                Afghanistan                    Southern Asia       Rwanda   \n",
       "6                     Rwanda               Sub-Saharan Africa        Benin   \n",
       "7                      Benin               Sub-Saharan Africa  Afghanistan   \n",
       "8                      Syria  Middle East and Northern Africa         Togo   \n",
       "9                    Burundi               Sub-Saharan Africa        Syria   \n",
       "10                      Togo               Sub-Saharan Africa      Burundi   \n",
       "\n",
       "Year                                                                 2017  \\\n",
       "Area                                     Region                   Country   \n",
       "Happiness Rank                                                              \n",
       "1                            Sub-Saharan Africa                     Yemen   \n",
       "2                            Sub-Saharan Africa               South Sudan   \n",
       "3                            Sub-Saharan Africa                   Liberia   \n",
       "4                            Sub-Saharan Africa                    Guinea   \n",
       "5                            Sub-Saharan Africa                      Togo   \n",
       "6                            Sub-Saharan Africa                    Rwanda   \n",
       "7                                 Southern Asia                     Syria   \n",
       "8                            Sub-Saharan Africa                  Tanzania   \n",
       "9               Middle East and Northern Africa                   Burundi   \n",
       "10                           Sub-Saharan Africa  Central African Republic   \n",
       "\n",
       "Year                                             \n",
       "Area                                     Region  \n",
       "Happiness Rank                                   \n",
       "1               Middle East and Northern Africa  \n",
       "2                            Sub-Saharan Africa  \n",
       "3                            Sub-Saharan Africa  \n",
       "4                            Sub-Saharan Africa  \n",
       "5                            Sub-Saharan Africa  \n",
       "6                            Sub-Saharan Africa  \n",
       "7               Middle East and Northern Africa  \n",
       "8                            Sub-Saharan Africa  \n",
       "9                            Sub-Saharan Africa  \n",
       "10                           Sub-Saharan Africa  "
      ]
     },
     "metadata": {},
     "output_type": "display_data"
    }
   ],
   "source": [
    "#annual bottom 10 countries and regions \n",
    "bot10s = world_df[['Year', 'Happiness Rank', 'Country', 'Region']].groupby(['Year']).tail(10).reset_index(drop=True)\n",
    "\n",
    "#replace existing Happiness Rank w/ range seq (1-10) seq\n",
    "##create rank list for 1 - 10\n",
    "rk_range = list(range(1, 11))\n",
    "\n",
    "##repeat list x3(per yr) in order and w/nums seperated by commas\n",
    "ranks = [n for n in np.tile(rk_range, 3)] \n",
    "\n",
    "##replace existing Happiness Rank vals with the (1-10) seq\n",
    "bot10s['Happiness Rank'] = ranks\n",
    "\n",
    "b10 = bot10s.melt(id_vars=['Happiness Rank', 'Year'], value_vars=['Country', 'Region'], value_name='Geography', var_name='Area').sort_values(['Year', 'Happiness Rank'], ascending=[True, True])\n",
    "\n",
    "yrs_bot10  = b10.pivot(index='Happiness Rank', columns=['Year','Area'])\n",
    "\n",
    "#remove header\n",
    "yrs_bot10.columns = yrs_bot10.columns.droplevel(0) \n",
    "\n",
    "display(yrs_bot10)"
   ]
  },
  {
   "cell_type": "markdown",
   "metadata": {},
   "source": [
    "#### Most Frequent Region Among Annual Ranked Countries"
   ]
  },
  {
   "cell_type": "code",
   "execution_count": 55,
   "metadata": {},
   "outputs": [
    {
     "data": {
      "text/plain": [
       "0    Western Europe\n",
       "Name: Region, dtype: object"
      ]
     },
     "execution_count": 55,
     "metadata": {},
     "output_type": "execute_result"
    }
   ],
   "source": [
    "#freq region in annual top 10s\n",
    "tops10['Region'].mode()"
   ]
  },
  {
   "cell_type": "code",
   "execution_count": 56,
   "metadata": {},
   "outputs": [
    {
     "data": {
      "text/plain": [
       "0    Sub-Saharan Africa\n",
       "Name: Region, dtype: object"
      ]
     },
     "execution_count": 56,
     "metadata": {},
     "output_type": "execute_result"
    }
   ],
   "source": [
    "#freq region in annual bottom 10s\n",
    "bot10s['Region'].mode()"
   ]
  },
  {
   "cell_type": "markdown",
   "metadata": {},
   "source": [
    "### Annual Percent Changes "
   ]
  },
  {
   "cell_type": "markdown",
   "metadata": {},
   "source": [
    "##### Annual Percent Changes in Social Metrics"
   ]
  },
  {
   "cell_type": "code",
   "execution_count": 57,
   "metadata": {},
   "outputs": [
    {
     "data": {
      "text/html": [
       "<div>\n",
       "<style scoped>\n",
       "    .dataframe tbody tr th:only-of-type {\n",
       "        vertical-align: middle;\n",
       "    }\n",
       "\n",
       "    .dataframe tbody tr th {\n",
       "        vertical-align: top;\n",
       "    }\n",
       "\n",
       "    .dataframe thead th {\n",
       "        text-align: right;\n",
       "    }\n",
       "</style>\n",
       "<table border=\"1\" class=\"dataframe\">\n",
       "  <thead>\n",
       "    <tr style=\"text-align: right;\">\n",
       "      <th></th>\n",
       "      <th>2016</th>\n",
       "      <th>2017</th>\n",
       "      <th>Overall</th>\n",
       "    </tr>\n",
       "  </thead>\n",
       "  <tbody>\n",
       "    <tr>\n",
       "      <th>Happiness Score</th>\n",
       "      <td>-0.51%</td>\n",
       "      <td>-1.79%</td>\n",
       "      <td>-2.30%</td>\n",
       "    </tr>\n",
       "    <tr>\n",
       "      <th>Economy (GDP per Capita)</th>\n",
       "      <td>12.02%</td>\n",
       "      <td>1.92%</td>\n",
       "      <td>14.17%</td>\n",
       "    </tr>\n",
       "    <tr>\n",
       "      <th>Family</th>\n",
       "      <td>-20.43%</td>\n",
       "      <td>47.90%</td>\n",
       "      <td>17.69%</td>\n",
       "    </tr>\n",
       "    <tr>\n",
       "      <th>Health (Life Expectancy)</th>\n",
       "      <td>-12.09%</td>\n",
       "      <td>-2.39%</td>\n",
       "      <td>-14.18%</td>\n",
       "    </tr>\n",
       "    <tr>\n",
       "      <th>Freedom</th>\n",
       "      <td>-13.99%</td>\n",
       "      <td>8.78%</td>\n",
       "      <td>-6.44%</td>\n",
       "    </tr>\n",
       "    <tr>\n",
       "      <th>Trust (Government Corruption)</th>\n",
       "      <td>-4.65%</td>\n",
       "      <td>-11.68%</td>\n",
       "      <td>-15.79%</td>\n",
       "    </tr>\n",
       "    <tr>\n",
       "      <th>Generosity</th>\n",
       "      <td>1.60%</td>\n",
       "      <td>0.45%</td>\n",
       "      <td>2.07%</td>\n",
       "    </tr>\n",
       "    <tr>\n",
       "      <th>Dystopia Residual</th>\n",
       "      <td>10.11%</td>\n",
       "      <td>-21.46%</td>\n",
       "      <td>-13.52%</td>\n",
       "    </tr>\n",
       "  </tbody>\n",
       "</table>\n",
       "</div>"
      ],
      "text/plain": [
       "                                  2016     2017  Overall\n",
       "Happiness Score                 -0.51%   -1.79%   -2.30%\n",
       "Economy (GDP per Capita)        12.02%    1.92%   14.17%\n",
       "Family                         -20.43%   47.90%   17.69%\n",
       "Health (Life Expectancy)       -12.09%   -2.39%  -14.18%\n",
       "Freedom                        -13.99%    8.78%   -6.44%\n",
       "Trust (Government Corruption)   -4.65%  -11.68%  -15.79%\n",
       "Generosity                       1.60%    0.45%    2.07%\n",
       "Dystopia Residual               10.11%  -21.46%  -13.52%"
      ]
     },
     "execution_count": 57,
     "metadata": {},
     "output_type": "execute_result"
    }
   ],
   "source": [
    "## filter df for total metrics by year\n",
    "yr_metrics = world_df.iloc[:,[0,4, 5, 6, 7, 8, 9, 10,11]].groupby('Year').sum().reset_index()\n",
    "\n",
    "#transpose df\n",
    "all_mets =  yr_metrics.T \n",
    "#convert year row to col headers \n",
    "all_mets.columns = [int(x) for x in all_mets.iloc[0]] \n",
    " #drop unneeded year row \n",
    "all_yrs = all_mets.drop(all_mets.index[0])\n",
    "#reset index and rename cols\n",
    "annual_df = all_yrs.reset_index().rename(columns={'index':'Metrics'}) \n",
    "\n",
    "#calc perc change from 2015-2019 \n",
    "ch16 = list((((annual_df[2016]-annual_df[2015])/annual_df[2015])*100))\n",
    "ch17 = list((((annual_df[2017]-annual_df[2016])/annual_df[2016])*100))\n",
    "all_sm = list((((annual_df[2017]-annual_df[2015])/annual_df[2015])*100))\n",
    "\n",
    "data = {\n",
    "    2016: ch16,\n",
    "    2017: ch17,\n",
    "    'Overall': all_sm}\n",
    "\n",
    "#create list of metrics\n",
    "metrics_list =[x for x in annual_df['Metrics']]\n",
    "\n",
    "#create perc change df\n",
    "perc_ch = pd.DataFrame(data, index=metrics_list).map(\"{:,.2f}%\".format).replace('nan%', ' ')\n",
    "perc_ch"
   ]
  },
  {
   "cell_type": "markdown",
   "metadata": {},
   "source": [
    "##### Annual Happiness Percent Changes in Regions"
   ]
  },
  {
   "cell_type": "code",
   "execution_count": 58,
   "metadata": {},
   "outputs": [
    {
     "data": {
      "text/html": [
       "<div>\n",
       "<style scoped>\n",
       "    .dataframe tbody tr th:only-of-type {\n",
       "        vertical-align: middle;\n",
       "    }\n",
       "\n",
       "    .dataframe tbody tr th {\n",
       "        vertical-align: top;\n",
       "    }\n",
       "\n",
       "    .dataframe thead th {\n",
       "        text-align: right;\n",
       "    }\n",
       "</style>\n",
       "<table border=\"1\" class=\"dataframe\">\n",
       "  <thead>\n",
       "    <tr style=\"text-align: right;\">\n",
       "      <th></th>\n",
       "      <th>2016</th>\n",
       "      <th>2017</th>\n",
       "      <th>Overall</th>\n",
       "    </tr>\n",
       "  </thead>\n",
       "  <tbody>\n",
       "    <tr>\n",
       "      <th>Australia and New Zealand</th>\n",
       "      <td>0.53%</td>\n",
       "      <td>-0.33%</td>\n",
       "      <td>0.19%</td>\n",
       "    </tr>\n",
       "    <tr>\n",
       "      <th>Central and Eastern Europe</th>\n",
       "      <td>0.71%</td>\n",
       "      <td>0.73%</td>\n",
       "      <td>1.44%</td>\n",
       "    </tr>\n",
       "    <tr>\n",
       "      <th>Eastern Asia</th>\n",
       "      <td>-0.04%</td>\n",
       "      <td>0.40%</td>\n",
       "      <td>0.36%</td>\n",
       "    </tr>\n",
       "    <tr>\n",
       "      <th>Latin America and Caribbean</th>\n",
       "      <td>8.33%</td>\n",
       "      <td>-10.50%</td>\n",
       "      <td>-3.04%</td>\n",
       "    </tr>\n",
       "    <tr>\n",
       "      <th>Middle East and Northern Africa</th>\n",
       "      <td>-5.37%</td>\n",
       "      <td>-0.30%</td>\n",
       "      <td>-5.65%</td>\n",
       "    </tr>\n",
       "    <tr>\n",
       "      <th>North America</th>\n",
       "      <td>-0.26%</td>\n",
       "      <td>-1.37%</td>\n",
       "      <td>-1.63%</td>\n",
       "    </tr>\n",
       "    <tr>\n",
       "      <th>Southeastern Asia</th>\n",
       "      <td>0.40%</td>\n",
       "      <td>-9.35%</td>\n",
       "      <td>-8.98%</td>\n",
       "    </tr>\n",
       "    <tr>\n",
       "      <th>Southern Asia</th>\n",
       "      <td>-0.38%</td>\n",
       "      <td>1.43%</td>\n",
       "      <td>1.04%</td>\n",
       "    </tr>\n",
       "    <tr>\n",
       "      <th>Sub-Saharan Africa</th>\n",
       "      <td>-6.50%</td>\n",
       "      <td>2.02%</td>\n",
       "      <td>-4.61%</td>\n",
       "    </tr>\n",
       "    <tr>\n",
       "      <th>Western Europe</th>\n",
       "      <td>-0.06%</td>\n",
       "      <td>0.27%</td>\n",
       "      <td>0.21%</td>\n",
       "    </tr>\n",
       "  </tbody>\n",
       "</table>\n",
       "</div>"
      ],
      "text/plain": [
       "                                   2016     2017 Overall\n",
       "Australia and New Zealand         0.53%   -0.33%   0.19%\n",
       "Central and Eastern Europe        0.71%    0.73%   1.44%\n",
       "Eastern Asia                     -0.04%    0.40%   0.36%\n",
       "Latin America and Caribbean       8.33%  -10.50%  -3.04%\n",
       "Middle East and Northern Africa  -5.37%   -0.30%  -5.65%\n",
       "North America                    -0.26%   -1.37%  -1.63%\n",
       "Southeastern Asia                 0.40%   -9.35%  -8.98%\n",
       "Southern Asia                    -0.38%    1.43%   1.04%\n",
       "Sub-Saharan Africa               -6.50%    2.02%  -4.61%\n",
       "Western Europe                   -0.06%    0.27%   0.21%"
      ]
     },
     "execution_count": 58,
     "metadata": {},
     "output_type": "execute_result"
    }
   ],
   "source": [
    "#calc perc change of happiness score by region\n",
    "reg_yrs = world_df.iloc[:,[0,2, 4]].groupby(['Region', 'Year']).sum().reset_index()\n",
    "\n",
    "#pivot data \n",
    "reg_pivot = reg_yrs.pivot(index='Region', columns='Year')\n",
    "\n",
    "#edit col headers to only show year\n",
    "reg_pivot.columns = [2015, 2016, 2017]\n",
    "\n",
    "#reset index\n",
    "annual_reg = reg_pivot.reset_index()\n",
    "\n",
    "#calc annual perc change \n",
    "r_ch16 = list((((annual_reg[2016]-annual_reg[2015])/annual_reg[2015])*100))\n",
    "r_ch17 = list((((annual_reg[2017]-annual_reg[2016])/annual_reg[2016])*100))\n",
    "all_regs = list((((annual_reg[2017]-annual_reg[2015])/annual_reg[2015])*100))\n",
    "\n",
    "#combine lists as dict w/ years as key\n",
    "reg_data = {\n",
    "    2016: r_ch16,\n",
    "    2017: r_ch17,\n",
    "    'Overall': all_regs}\n",
    "\n",
    "#create region list\n",
    "reg_list =[x for x in annual_reg['Region']]\n",
    "\n",
    "#create regional perc change df\n",
    "reg_perc_ch = pd.DataFrame(reg_data, index=reg_list).map(\"{:,.2f}%\".format)\n",
    "reg_perc_ch"
   ]
  },
  {
   "cell_type": "markdown",
   "metadata": {},
   "source": [
    "##### Annual Happiness Percent Changes in Countries"
   ]
  },
  {
   "cell_type": "code",
   "execution_count": 65,
   "metadata": {},
   "outputs": [
    {
     "data": {
      "text/html": [
       "<style type=\"text/css\">\n",
       "</style>\n",
       "<table id=\"T_4483c\">\n",
       "  <thead>\n",
       "    <tr>\n",
       "      <th class=\"blank level0\" >&nbsp;</th>\n",
       "      <th id=\"T_4483c_level0_col0\" class=\"col_heading level0 col0\" >Country</th>\n",
       "      <th id=\"T_4483c_level0_col1\" class=\"col_heading level0 col1\" >2016</th>\n",
       "      <th id=\"T_4483c_level0_col2\" class=\"col_heading level0 col2\" >2017</th>\n",
       "      <th id=\"T_4483c_level0_col3\" class=\"col_heading level0 col3\" >Overall</th>\n",
       "    </tr>\n",
       "  </thead>\n",
       "  <tbody>\n",
       "    <tr>\n",
       "      <th id=\"T_4483c_level0_row0\" class=\"row_heading level0 row0\" >0</th>\n",
       "      <td id=\"T_4483c_row0_col0\" class=\"data row0 col0\" >Afghanistan</td>\n",
       "      <td id=\"T_4483c_row0_col1\" class=\"data row0 col1\" >-6.01%</td>\n",
       "      <td id=\"T_4483c_row0_col2\" class=\"data row0 col2\" >12.92%</td>\n",
       "      <td id=\"T_4483c_row0_col3\" class=\"data row0 col3\" >6.13%</td>\n",
       "    </tr>\n",
       "    <tr>\n",
       "      <th id=\"T_4483c_level0_row1\" class=\"row_heading level0 row1\" >1</th>\n",
       "      <td id=\"T_4483c_row1_col0\" class=\"data row1 col0\" >Albania</td>\n",
       "      <td id=\"T_4483c_row1_col1\" class=\"data row1 col1\" >-6.13%</td>\n",
       "      <td id=\"T_4483c_row1_col2\" class=\"data row1 col2\" >-0.24%</td>\n",
       "      <td id=\"T_4483c_row1_col3\" class=\"data row1 col3\" >-6.35%</td>\n",
       "    </tr>\n",
       "    <tr>\n",
       "      <th id=\"T_4483c_level0_row2\" class=\"row_heading level0 row2\" >2</th>\n",
       "      <td id=\"T_4483c_row2_col0\" class=\"data row2 col0\" >Algeria</td>\n",
       "      <td id=\"T_4483c_row2_col1\" class=\"data row2 col1\" >13.38%</td>\n",
       "      <td id=\"T_4483c_row2_col2\" class=\"data row2 col2\" >-7.60%</td>\n",
       "      <td id=\"T_4483c_row2_col3\" class=\"data row2 col3\" >4.76%</td>\n",
       "    </tr>\n",
       "    <tr>\n",
       "      <th id=\"T_4483c_level0_row3\" class=\"row_heading level0 row3\" >3</th>\n",
       "      <td id=\"T_4483c_row3_col0\" class=\"data row3 col0\" >Angola</td>\n",
       "      <td id=\"T_4483c_row3_col1\" class=\"data row3 col1\" >-4.14%</td>\n",
       "      <td id=\"T_4483c_row3_col2\" class=\"data row3 col2\" >-1.84%</td>\n",
       "      <td id=\"T_4483c_row3_col3\" class=\"data row3 col3\" >-5.90%</td>\n",
       "    </tr>\n",
       "    <tr>\n",
       "      <th id=\"T_4483c_level0_row4\" class=\"row_heading level0 row4\" >4</th>\n",
       "      <td id=\"T_4483c_row4_col0\" class=\"data row4 col0\" >Argentina</td>\n",
       "      <td id=\"T_4483c_row4_col1\" class=\"data row4 col1\" >1.16%</td>\n",
       "      <td id=\"T_4483c_row4_col2\" class=\"data row4 col2\" >-0.77%</td>\n",
       "      <td id=\"T_4483c_row4_col3\" class=\"data row4 col3\" >0.38%</td>\n",
       "    </tr>\n",
       "    <tr>\n",
       "      <th id=\"T_4483c_level0_row5\" class=\"row_heading level0 row5\" >5</th>\n",
       "      <td id=\"T_4483c_row5_col0\" class=\"data row5 col0\" >Armenia</td>\n",
       "      <td id=\"T_4483c_row5_col1\" class=\"data row5 col1\" >0.23%</td>\n",
       "      <td id=\"T_4483c_row5_col2\" class=\"data row5 col2\" >0.37%</td>\n",
       "      <td id=\"T_4483c_row5_col3\" class=\"data row5 col3\" >0.60%</td>\n",
       "    </tr>\n",
       "    <tr>\n",
       "      <th id=\"T_4483c_level0_row6\" class=\"row_heading level0 row6\" >6</th>\n",
       "      <td id=\"T_4483c_row6_col0\" class=\"data row6 col0\" >Australia</td>\n",
       "      <td id=\"T_4483c_row6_col1\" class=\"data row6 col1\" >0.40%</td>\n",
       "      <td id=\"T_4483c_row6_col2\" class=\"data row6 col2\" >-0.40%</td>\n",
       "      <td id=\"T_4483c_row6_col3\" class=\"data row6 col3\" >-0.00%</td>\n",
       "    </tr>\n",
       "    <tr>\n",
       "      <th id=\"T_4483c_level0_row7\" class=\"row_heading level0 row7\" >7</th>\n",
       "      <td id=\"T_4483c_row7_col0\" class=\"data row7 col0\" >Austria</td>\n",
       "      <td id=\"T_4483c_row7_col1\" class=\"data row7 col1\" >-1.13%</td>\n",
       "      <td id=\"T_4483c_row7_col2\" class=\"data row7 col2\" >-1.59%</td>\n",
       "      <td id=\"T_4483c_row7_col3\" class=\"data row7 col3\" >-2.69%</td>\n",
       "    </tr>\n",
       "    <tr>\n",
       "      <th id=\"T_4483c_level0_row8\" class=\"row_heading level0 row8\" >8</th>\n",
       "      <td id=\"T_4483c_row8_col0\" class=\"data row8 col0\" >Azerbaijan</td>\n",
       "      <td id=\"T_4483c_row8_col1\" class=\"data row8 col1\" >1.52%</td>\n",
       "      <td id=\"T_4483c_row8_col2\" class=\"data row8 col2\" >-1.08%</td>\n",
       "      <td id=\"T_4483c_row8_col3\" class=\"data row8 col3\" >0.42%</td>\n",
       "    </tr>\n",
       "    <tr>\n",
       "      <th id=\"T_4483c_level0_row9\" class=\"row_heading level0 row9\" >9</th>\n",
       "      <td id=\"T_4483c_row9_col0\" class=\"data row9 col0\" >Bahrain</td>\n",
       "      <td id=\"T_4483c_row9_col1\" class=\"data row9 col1\" >4.33%</td>\n",
       "      <td id=\"T_4483c_row9_col2\" class=\"data row9 col2\" >-2.11%</td>\n",
       "      <td id=\"T_4483c_row9_col3\" class=\"data row9 col3\" >2.13%</td>\n",
       "    </tr>\n",
       "    <tr>\n",
       "      <th id=\"T_4483c_level0_row10\" class=\"row_heading level0 row10\" >10</th>\n",
       "      <td id=\"T_4483c_row10_col0\" class=\"data row10 col0\" >Bangladesh</td>\n",
       "      <td id=\"T_4483c_row10_col1\" class=\"data row10 col1\" >-1.09%</td>\n",
       "      <td id=\"T_4483c_row10_col2\" class=\"data row10 col2\" >-0.75%</td>\n",
       "      <td id=\"T_4483c_row10_col3\" class=\"data row10 col3\" >-1.83%</td>\n",
       "    </tr>\n",
       "    <tr>\n",
       "      <th id=\"T_4483c_level0_row11\" class=\"row_heading level0 row11\" >11</th>\n",
       "      <td id=\"T_4483c_row11_col0\" class=\"data row11 col0\" >Belarus</td>\n",
       "      <td id=\"T_4483c_row11_col1\" class=\"data row11 col1\" >-0.19%</td>\n",
       "      <td id=\"T_4483c_row11_col2\" class=\"data row11 col2\" >-4.02%</td>\n",
       "      <td id=\"T_4483c_row11_col3\" class=\"data row11 col3\" >-4.20%</td>\n",
       "    </tr>\n",
       "    <tr>\n",
       "      <th id=\"T_4483c_level0_row12\" class=\"row_heading level0 row12\" >12</th>\n",
       "      <td id=\"T_4483c_row12_col0\" class=\"data row12 col0\" >Belgium</td>\n",
       "      <td id=\"T_4483c_row12_col1\" class=\"data row12 col1\" >-0.12%</td>\n",
       "      <td id=\"T_4483c_row12_col2\" class=\"data row12 col2\" >-0.55%</td>\n",
       "      <td id=\"T_4483c_row12_col3\" class=\"data row12 col3\" >-0.66%</td>\n",
       "    </tr>\n",
       "    <tr>\n",
       "      <th id=\"T_4483c_level0_row13\" class=\"row_heading level0 row13\" >13</th>\n",
       "      <td id=\"T_4483c_row13_col0\" class=\"data row13 col0\" >Belize</td>\n",
       "      <td id=\"T_4483c_row13_col1\" class=\"data row13 col1\" >0.00%</td>\n",
       "      <td id=\"T_4483c_row13_col2\" class=\"data row13 col2\" >-0.00%</td>\n",
       "      <td id=\"T_4483c_row13_col3\" class=\"data row13 col3\" >0.00%</td>\n",
       "    </tr>\n",
       "    <tr>\n",
       "      <th id=\"T_4483c_level0_row14\" class=\"row_heading level0 row14\" >14</th>\n",
       "      <td id=\"T_4483c_row14_col0\" class=\"data row14 col0\" >Benin</td>\n",
       "      <td id=\"T_4483c_row14_col1\" class=\"data row14 col1\" >4.31%</td>\n",
       "      <td id=\"T_4483c_row14_col2\" class=\"data row14 col2\" >4.97%</td>\n",
       "      <td id=\"T_4483c_row14_col3\" class=\"data row14 col3\" >9.49%</td>\n",
       "    </tr>\n",
       "    <tr>\n",
       "      <th id=\"T_4483c_level0_row15\" class=\"row_heading level0 row15\" >15</th>\n",
       "      <td id=\"T_4483c_row15_col0\" class=\"data row15 col0\" >Bhutan</td>\n",
       "      <td id=\"T_4483c_row15_col1\" class=\"data row15 col1\" >-1.09%</td>\n",
       "      <td id=\"T_4483c_row15_col2\" class=\"data row15 col2\" >-3.56%</td>\n",
       "      <td id=\"T_4483c_row15_col3\" class=\"data row15 col3\" >-4.61%</td>\n",
       "    </tr>\n",
       "    <tr>\n",
       "      <th id=\"T_4483c_level0_row16\" class=\"row_heading level0 row16\" >16</th>\n",
       "      <td id=\"T_4483c_row16_col0\" class=\"data row16 col0\" >Bolivia</td>\n",
       "      <td id=\"T_4483c_row16_col1\" class=\"data row16 col1\" >-1.15%</td>\n",
       "      <td id=\"T_4483c_row16_col2\" class=\"data row16 col2\" >0.02%</td>\n",
       "      <td id=\"T_4483c_row16_col3\" class=\"data row16 col3\" >-1.14%</td>\n",
       "    </tr>\n",
       "    <tr>\n",
       "      <th id=\"T_4483c_level0_row17\" class=\"row_heading level0 row17\" >17</th>\n",
       "      <td id=\"T_4483c_row17_col0\" class=\"data row17 col0\" >Bosnia and Herzegovina</td>\n",
       "      <td id=\"T_4483c_row17_col1\" class=\"data row17 col1\" >4.32%</td>\n",
       "      <td id=\"T_4483c_row17_col2\" class=\"data row17 col2\" >0.37%</td>\n",
       "      <td id=\"T_4483c_row17_col3\" class=\"data row17 col3\" >4.71%</td>\n",
       "    </tr>\n",
       "    <tr>\n",
       "      <th id=\"T_4483c_level0_row18\" class=\"row_heading level0 row18\" >18</th>\n",
       "      <td id=\"T_4483c_row18_col0\" class=\"data row18 col0\" >Botswana</td>\n",
       "      <td id=\"T_4483c_row18_col1\" class=\"data row18 col1\" >-8.26%</td>\n",
       "      <td id=\"T_4483c_row18_col2\" class=\"data row18 col2\" >-5.23%</td>\n",
       "      <td id=\"T_4483c_row18_col3\" class=\"data row18 col3\" >-13.07%</td>\n",
       "    </tr>\n",
       "    <tr>\n",
       "      <th id=\"T_4483c_level0_row19\" class=\"row_heading level0 row19\" >19</th>\n",
       "      <td id=\"T_4483c_row19_col0\" class=\"data row19 col0\" >Brazil</td>\n",
       "      <td id=\"T_4483c_row19_col1\" class=\"data row19 col1\" >-0.44%</td>\n",
       "      <td id=\"T_4483c_row19_col2\" class=\"data row19 col2\" >-4.56%</td>\n",
       "      <td id=\"T_4483c_row19_col3\" class=\"data row19 col3\" >-4.98%</td>\n",
       "    </tr>\n",
       "    <tr>\n",
       "      <th id=\"T_4483c_level0_row20\" class=\"row_heading level0 row20\" >20</th>\n",
       "      <td id=\"T_4483c_row20_col0\" class=\"data row20 col0\" >Bulgaria</td>\n",
       "      <td id=\"T_4483c_row20_col1\" class=\"data row20 col1\" >-0.02%</td>\n",
       "      <td id=\"T_4483c_row20_col2\" class=\"data row20 col2\" >11.79%</td>\n",
       "      <td id=\"T_4483c_row20_col3\" class=\"data row20 col3\" >11.76%</td>\n",
       "    </tr>\n",
       "    <tr>\n",
       "      <th id=\"T_4483c_level0_row21\" class=\"row_heading level0 row21\" >21</th>\n",
       "      <td id=\"T_4483c_row21_col0\" class=\"data row21 col0\" >Burkina Faso</td>\n",
       "      <td id=\"T_4483c_row21_col1\" class=\"data row21 col1\" >4.24%</td>\n",
       "      <td id=\"T_4483c_row21_col2\" class=\"data row21 col2\" >7.84%</td>\n",
       "      <td id=\"T_4483c_row21_col3\" class=\"data row21 col3\" >12.41%</td>\n",
       "    </tr>\n",
       "    <tr>\n",
       "      <th id=\"T_4483c_level0_row22\" class=\"row_heading level0 row22\" >22</th>\n",
       "      <td id=\"T_4483c_row22_col0\" class=\"data row22 col0\" >Burundi</td>\n",
       "      <td id=\"T_4483c_row22_col1\" class=\"data row22 col1\" >0.00%</td>\n",
       "      <td id=\"T_4483c_row22_col2\" class=\"data row22 col2\" >-0.00%</td>\n",
       "      <td id=\"T_4483c_row22_col3\" class=\"data row22 col3\" >-0.00%</td>\n",
       "    </tr>\n",
       "    <tr>\n",
       "      <th id=\"T_4483c_level0_row23\" class=\"row_heading level0 row23\" >23</th>\n",
       "      <td id=\"T_4483c_row23_col0\" class=\"data row23 col0\" >Cambodia</td>\n",
       "      <td id=\"T_4483c_row23_col1\" class=\"data row23 col1\" >2.30%</td>\n",
       "      <td id=\"T_4483c_row23_col2\" class=\"data row23 col2\" >6.68%</td>\n",
       "      <td id=\"T_4483c_row23_col3\" class=\"data row23 col3\" >9.14%</td>\n",
       "    </tr>\n",
       "    <tr>\n",
       "      <th id=\"T_4483c_level0_row24\" class=\"row_heading level0 row24\" >24</th>\n",
       "      <td id=\"T_4483c_row24_col0\" class=\"data row24 col0\" >Cameroon</td>\n",
       "      <td id=\"T_4483c_row24_col1\" class=\"data row24 col1\" >6.14%</td>\n",
       "      <td id=\"T_4483c_row24_col2\" class=\"data row24 col2\" >4.03%</td>\n",
       "      <td id=\"T_4483c_row24_col3\" class=\"data row24 col3\" >10.42%</td>\n",
       "    </tr>\n",
       "    <tr>\n",
       "      <th id=\"T_4483c_level0_row25\" class=\"row_heading level0 row25\" >25</th>\n",
       "      <td id=\"T_4483c_row25_col0\" class=\"data row25 col0\" >Canada</td>\n",
       "      <td id=\"T_4483c_row25_col1\" class=\"data row25 col1\" >-0.31%</td>\n",
       "      <td id=\"T_4483c_row25_col2\" class=\"data row25 col2\" >-1.19%</td>\n",
       "      <td id=\"T_4483c_row25_col3\" class=\"data row25 col3\" >-1.49%</td>\n",
       "    </tr>\n",
       "    <tr>\n",
       "      <th id=\"T_4483c_level0_row26\" class=\"row_heading level0 row26\" >26</th>\n",
       "      <td id=\"T_4483c_row26_col0\" class=\"data row26 col0\" >Central African Republic</td>\n",
       "      <td id=\"T_4483c_row26_col1\" class=\"data row26 col1\" >0.00%</td>\n",
       "      <td id=\"T_4483c_row26_col2\" class=\"data row26 col2\" >0.00%</td>\n",
       "      <td id=\"T_4483c_row26_col3\" class=\"data row26 col3\" >-26.78%</td>\n",
       "    </tr>\n",
       "    <tr>\n",
       "      <th id=\"T_4483c_level0_row27\" class=\"row_heading level0 row27\" >27</th>\n",
       "      <td id=\"T_4483c_row27_col0\" class=\"data row27 col0\" >Chad</td>\n",
       "      <td id=\"T_4483c_row27_col1\" class=\"data row27 col1\" >2.62%</td>\n",
       "      <td id=\"T_4483c_row27_col2\" class=\"data row27 col2\" >4.60%</td>\n",
       "      <td id=\"T_4483c_row27_col3\" class=\"data row27 col3\" >7.34%</td>\n",
       "    </tr>\n",
       "    <tr>\n",
       "      <th id=\"T_4483c_level0_row28\" class=\"row_heading level0 row28\" >28</th>\n",
       "      <td id=\"T_4483c_row28_col0\" class=\"data row28 col0\" >Chile</td>\n",
       "      <td id=\"T_4483c_row28_col1\" class=\"data row28 col1\" >0.52%</td>\n",
       "      <td id=\"T_4483c_row28_col2\" class=\"data row28 col2\" >-0.79%</td>\n",
       "      <td id=\"T_4483c_row28_col3\" class=\"data row28 col3\" >-0.27%</td>\n",
       "    </tr>\n",
       "    <tr>\n",
       "      <th id=\"T_4483c_level0_row29\" class=\"row_heading level0 row29\" >29</th>\n",
       "      <td id=\"T_4483c_row29_col0\" class=\"data row29 col0\" >China</td>\n",
       "      <td id=\"T_4483c_row29_col1\" class=\"data row29 col1\" >2.04%</td>\n",
       "      <td id=\"T_4483c_row29_col2\" class=\"data row29 col2\" >0.53%</td>\n",
       "      <td id=\"T_4483c_row29_col3\" class=\"data row29 col3\" >2.59%</td>\n",
       "    </tr>\n",
       "    <tr>\n",
       "      <th id=\"T_4483c_level0_row30\" class=\"row_heading level0 row30\" >30</th>\n",
       "      <td id=\"T_4483c_row30_col0\" class=\"data row30 col0\" >Colombia</td>\n",
       "      <td id=\"T_4483c_row30_col1\" class=\"data row30 col1\" >0.06%</td>\n",
       "      <td id=\"T_4483c_row30_col2\" class=\"data row30 col2\" >-1.91%</td>\n",
       "      <td id=\"T_4483c_row30_col3\" class=\"data row30 col3\" >-1.85%</td>\n",
       "    </tr>\n",
       "    <tr>\n",
       "      <th id=\"T_4483c_level0_row31\" class=\"row_heading level0 row31\" >31</th>\n",
       "      <td id=\"T_4483c_row31_col0\" class=\"data row31 col0\" >Comoros</td>\n",
       "      <td id=\"T_4483c_row31_col1\" class=\"data row31 col1\" >0.00%</td>\n",
       "      <td id=\"T_4483c_row31_col2\" class=\"data row31 col2\" >0.00%</td>\n",
       "      <td id=\"T_4483c_row31_col3\" class=\"data row31 col3\" >0.00%</td>\n",
       "    </tr>\n",
       "    <tr>\n",
       "      <th id=\"T_4483c_level0_row32\" class=\"row_heading level0 row32\" >32</th>\n",
       "      <td id=\"T_4483c_row32_col0\" class=\"data row32 col0\" >Congo (Brazzaville)</td>\n",
       "      <td id=\"T_4483c_row32_col1\" class=\"data row32 col1\" >6.19%</td>\n",
       "      <td id=\"T_4483c_row32_col2\" class=\"data row32 col2\" >1.30%</td>\n",
       "      <td id=\"T_4483c_row32_col3\" class=\"data row32 col3\" >7.57%</td>\n",
       "    </tr>\n",
       "    <tr>\n",
       "      <th id=\"T_4483c_level0_row33\" class=\"row_heading level0 row33\" >33</th>\n",
       "      <td id=\"T_4483c_row33_col0\" class=\"data row33 col0\" >Congo (Kinshasa)</td>\n",
       "      <td id=\"T_4483c_row33_col1\" class=\"data row33 col1\" >-5.42%</td>\n",
       "      <td id=\"T_4483c_row33_col2\" class=\"data row33 col2\" >0.19%</td>\n",
       "      <td id=\"T_4483c_row33_col3\" class=\"data row33 col3\" >-5.25%</td>\n",
       "    </tr>\n",
       "    <tr>\n",
       "      <th id=\"T_4483c_level0_row34\" class=\"row_heading level0 row34\" >34</th>\n",
       "      <td id=\"T_4483c_row34_col0\" class=\"data row34 col0\" >Costa Rica</td>\n",
       "      <td id=\"T_4483c_row34_col1\" class=\"data row34 col1\" >-1.92%</td>\n",
       "      <td id=\"T_4483c_row34_col2\" class=\"data row34 col2\" >-0.11%</td>\n",
       "      <td id=\"T_4483c_row34_col3\" class=\"data row34 col3\" >-2.03%</td>\n",
       "    </tr>\n",
       "    <tr>\n",
       "      <th id=\"T_4483c_level0_row35\" class=\"row_heading level0 row35\" >35</th>\n",
       "      <td id=\"T_4483c_row35_col0\" class=\"data row35 col0\" >Croatia</td>\n",
       "      <td id=\"T_4483c_row35_col1\" class=\"data row35 col1\" >-4.71%</td>\n",
       "      <td id=\"T_4483c_row35_col2\" class=\"data row35 col2\" >-3.55%</td>\n",
       "      <td id=\"T_4483c_row35_col3\" class=\"data row35 col3\" >-8.09%</td>\n",
       "    </tr>\n",
       "    <tr>\n",
       "      <th id=\"T_4483c_level0_row36\" class=\"row_heading level0 row36\" >36</th>\n",
       "      <td id=\"T_4483c_row36_col0\" class=\"data row36 col0\" >Cyprus</td>\n",
       "      <td id=\"T_4483c_row36_col1\" class=\"data row36 col1\" >-2.51%</td>\n",
       "      <td id=\"T_4483c_row36_col2\" class=\"data row36 col2\" >1.35%</td>\n",
       "      <td id=\"T_4483c_row36_col3\" class=\"data row36 col3\" >-1.20%</td>\n",
       "    </tr>\n",
       "    <tr>\n",
       "      <th id=\"T_4483c_level0_row37\" class=\"row_heading level0 row37\" >37</th>\n",
       "      <td id=\"T_4483c_row37_col0\" class=\"data row37 col0\" >Czech Republic</td>\n",
       "      <td id=\"T_4483c_row37_col1\" class=\"data row37 col1\" >1.40%</td>\n",
       "      <td id=\"T_4483c_row37_col2\" class=\"data row37 col2\" >0.20%</td>\n",
       "      <td id=\"T_4483c_row37_col3\" class=\"data row37 col3\" >1.60%</td>\n",
       "    </tr>\n",
       "    <tr>\n",
       "      <th id=\"T_4483c_level0_row38\" class=\"row_heading level0 row38\" >38</th>\n",
       "      <td id=\"T_4483c_row38_col0\" class=\"data row38 col0\" >Denmark</td>\n",
       "      <td id=\"T_4483c_row38_col1\" class=\"data row38 col1\" >-0.01%</td>\n",
       "      <td id=\"T_4483c_row38_col2\" class=\"data row38 col2\" >-0.05%</td>\n",
       "      <td id=\"T_4483c_row38_col3\" class=\"data row38 col3\" >-0.07%</td>\n",
       "    </tr>\n",
       "    <tr>\n",
       "      <th id=\"T_4483c_level0_row39\" class=\"row_heading level0 row39\" >39</th>\n",
       "      <td id=\"T_4483c_row39_col0\" class=\"data row39 col0\" >Djibouti</td>\n",
       "      <td id=\"T_4483c_row39_col1\" class=\"data row39 col1\" >0.00%</td>\n",
       "      <td id=\"T_4483c_row39_col2\" class=\"data row39 col2\" >0.00%</td>\n",
       "      <td id=\"T_4483c_row39_col3\" class=\"data row39 col3\" >0.00%</td>\n",
       "    </tr>\n",
       "    <tr>\n",
       "      <th id=\"T_4483c_level0_row40\" class=\"row_heading level0 row40\" >40</th>\n",
       "      <td id=\"T_4483c_row40_col0\" class=\"data row40 col0\" >Dominican Republic</td>\n",
       "      <td id=\"T_4483c_row40_col1\" class=\"data row40 col1\" >5.53%</td>\n",
       "      <td id=\"T_4483c_row40_col2\" class=\"data row40 col2\" >1.45%</td>\n",
       "      <td id=\"T_4483c_row40_col3\" class=\"data row40 col3\" >7.06%</td>\n",
       "    </tr>\n",
       "    <tr>\n",
       "      <th id=\"T_4483c_level0_row41\" class=\"row_heading level0 row41\" >41</th>\n",
       "      <td id=\"T_4483c_row41_col0\" class=\"data row41 col0\" >Ecuador</td>\n",
       "      <td id=\"T_4483c_row41_col1\" class=\"data row41 col1\" >0.02%</td>\n",
       "      <td id=\"T_4483c_row41_col2\" class=\"data row41 col2\" >0.54%</td>\n",
       "      <td id=\"T_4483c_row41_col3\" class=\"data row41 col3\" >0.55%</td>\n",
       "    </tr>\n",
       "    <tr>\n",
       "      <th id=\"T_4483c_level0_row42\" class=\"row_heading level0 row42\" >42</th>\n",
       "      <td id=\"T_4483c_row42_col0\" class=\"data row42 col0\" >Egypt</td>\n",
       "      <td id=\"T_4483c_row42_col1\" class=\"data row42 col1\" >4.01%</td>\n",
       "      <td id=\"T_4483c_row42_col2\" class=\"data row42 col2\" >8.55%</td>\n",
       "      <td id=\"T_4483c_row42_col3\" class=\"data row42 col3\" >12.90%</td>\n",
       "    </tr>\n",
       "    <tr>\n",
       "      <th id=\"T_4483c_level0_row43\" class=\"row_heading level0 row43\" >43</th>\n",
       "      <td id=\"T_4483c_row43_col0\" class=\"data row43 col0\" >El Salvador</td>\n",
       "      <td id=\"T_4483c_row43_col1\" class=\"data row43 col1\" >-1.01%</td>\n",
       "      <td id=\"T_4483c_row43_col2\" class=\"data row43 col2\" >-1.07%</td>\n",
       "      <td id=\"T_4483c_row43_col3\" class=\"data row43 col3\" >-2.07%</td>\n",
       "    </tr>\n",
       "    <tr>\n",
       "      <th id=\"T_4483c_level0_row44\" class=\"row_heading level0 row44\" >44</th>\n",
       "      <td id=\"T_4483c_row44_col0\" class=\"data row44 col0\" >Estonia</td>\n",
       "      <td id=\"T_4483c_row44_col1\" class=\"data row44 col1\" >1.62%</td>\n",
       "      <td id=\"T_4483c_row44_col2\" class=\"data row44 col2\" >1.70%</td>\n",
       "      <td id=\"T_4483c_row44_col3\" class=\"data row44 col3\" >3.35%</td>\n",
       "    </tr>\n",
       "    <tr>\n",
       "      <th id=\"T_4483c_level0_row45\" class=\"row_heading level0 row45\" >45</th>\n",
       "      <td id=\"T_4483c_row45_col0\" class=\"data row45 col0\" >Ethiopia</td>\n",
       "      <td id=\"T_4483c_row45_col1\" class=\"data row45 col1\" >-0.09%</td>\n",
       "      <td id=\"T_4483c_row45_col2\" class=\"data row45 col2\" >-1.06%</td>\n",
       "      <td id=\"T_4483c_row45_col3\" class=\"data row45 col3\" >-1.15%</td>\n",
       "    </tr>\n",
       "    <tr>\n",
       "      <th id=\"T_4483c_level0_row46\" class=\"row_heading level0 row46\" >46</th>\n",
       "      <td id=\"T_4483c_row46_col0\" class=\"data row46 col0\" >Finland</td>\n",
       "      <td id=\"T_4483c_row46_col1\" class=\"data row46 col1\" >0.09%</td>\n",
       "      <td id=\"T_4483c_row46_col2\" class=\"data row46 col2\" >0.76%</td>\n",
       "      <td id=\"T_4483c_row46_col3\" class=\"data row46 col3\" >0.85%</td>\n",
       "    </tr>\n",
       "    <tr>\n",
       "      <th id=\"T_4483c_level0_row47\" class=\"row_heading level0 row47\" >47</th>\n",
       "      <td id=\"T_4483c_row47_col0\" class=\"data row47 col0\" >France</td>\n",
       "      <td id=\"T_4483c_row47_col1\" class=\"data row47 col1\" >-1.48%</td>\n",
       "      <td id=\"T_4483c_row47_col2\" class=\"data row47 col2\" >-0.56%</td>\n",
       "      <td id=\"T_4483c_row47_col3\" class=\"data row47 col3\" >-2.02%</td>\n",
       "    </tr>\n",
       "    <tr>\n",
       "      <th id=\"T_4483c_level0_row48\" class=\"row_heading level0 row48\" >48</th>\n",
       "      <td id=\"T_4483c_row48_col0\" class=\"data row48 col0\" >Gabon</td>\n",
       "      <td id=\"T_4483c_row48_col1\" class=\"data row48 col1\" >5.78%</td>\n",
       "      <td id=\"T_4483c_row48_col2\" class=\"data row48 col2\" >8.35%</td>\n",
       "      <td id=\"T_4483c_row48_col3\" class=\"data row48 col3\" >14.60%</td>\n",
       "    </tr>\n",
       "    <tr>\n",
       "      <th id=\"T_4483c_level0_row49\" class=\"row_heading level0 row49\" >49</th>\n",
       "      <td id=\"T_4483c_row49_col0\" class=\"data row49 col0\" >Georgia</td>\n",
       "      <td id=\"T_4483c_row49_col1\" class=\"data row49 col1\" >-1.05%</td>\n",
       "      <td id=\"T_4483c_row49_col2\" class=\"data row49 col2\" >0.80%</td>\n",
       "      <td id=\"T_4483c_row49_col3\" class=\"data row49 col3\" >-0.26%</td>\n",
       "    </tr>\n",
       "    <tr>\n",
       "      <th id=\"T_4483c_level0_row50\" class=\"row_heading level0 row50\" >50</th>\n",
       "      <td id=\"T_4483c_row50_col0\" class=\"data row50 col0\" >Germany</td>\n",
       "      <td id=\"T_4483c_row50_col1\" class=\"data row50 col1\" >3.61%</td>\n",
       "      <td id=\"T_4483c_row50_col2\" class=\"data row50 col2\" >-0.61%</td>\n",
       "      <td id=\"T_4483c_row50_col3\" class=\"data row50 col3\" >2.98%</td>\n",
       "    </tr>\n",
       "    <tr>\n",
       "      <th id=\"T_4483c_level0_row51\" class=\"row_heading level0 row51\" >51</th>\n",
       "      <td id=\"T_4483c_row51_col0\" class=\"data row51 col0\" >Ghana</td>\n",
       "      <td id=\"T_4483c_row51_col1\" class=\"data row51 col1\" >-7.71%</td>\n",
       "      <td id=\"T_4483c_row51_col2\" class=\"data row51 col2\" >-3.65%</td>\n",
       "      <td id=\"T_4483c_row51_col3\" class=\"data row51 col3\" >-11.07%</td>\n",
       "    </tr>\n",
       "    <tr>\n",
       "      <th id=\"T_4483c_level0_row52\" class=\"row_heading level0 row52\" >52</th>\n",
       "      <td id=\"T_4483c_row52_col0\" class=\"data row52 col0\" >Greece</td>\n",
       "      <td id=\"T_4483c_row52_col1\" class=\"data row52 col1\" >3.62%</td>\n",
       "      <td id=\"T_4483c_row52_col2\" class=\"data row52 col2\" >3.85%</td>\n",
       "      <td id=\"T_4483c_row52_col3\" class=\"data row52 col3\" >7.62%</td>\n",
       "    </tr>\n",
       "    <tr>\n",
       "      <th id=\"T_4483c_level0_row53\" class=\"row_heading level0 row53\" >53</th>\n",
       "      <td id=\"T_4483c_row53_col0\" class=\"data row53 col0\" >Guatemala</td>\n",
       "      <td id=\"T_4483c_row53_col1\" class=\"data row53 col1\" >3.28%</td>\n",
       "      <td id=\"T_4483c_row53_col2\" class=\"data row53 col2\" >2.06%</td>\n",
       "      <td id=\"T_4483c_row53_col3\" class=\"data row53 col3\" >5.41%</td>\n",
       "    </tr>\n",
       "    <tr>\n",
       "      <th id=\"T_4483c_level0_row54\" class=\"row_heading level0 row54\" >54</th>\n",
       "      <td id=\"T_4483c_row54_col0\" class=\"data row54 col0\" >Guinea</td>\n",
       "      <td id=\"T_4483c_row54_col1\" class=\"data row54 col1\" >-1.34%</td>\n",
       "      <td id=\"T_4483c_row54_col2\" class=\"data row54 col2\" >-2.77%</td>\n",
       "      <td id=\"T_4483c_row54_col3\" class=\"data row54 col3\" >-4.08%</td>\n",
       "    </tr>\n",
       "    <tr>\n",
       "      <th id=\"T_4483c_level0_row55\" class=\"row_heading level0 row55\" >55</th>\n",
       "      <td id=\"T_4483c_row55_col0\" class=\"data row55 col0\" >Haiti</td>\n",
       "      <td id=\"T_4483c_row55_col1\" class=\"data row55 col1\" >-10.85%</td>\n",
       "      <td id=\"T_4483c_row55_col2\" class=\"data row55 col2\" >-10.55%</td>\n",
       "      <td id=\"T_4483c_row55_col3\" class=\"data row55 col3\" >-20.25%</td>\n",
       "    </tr>\n",
       "    <tr>\n",
       "      <th id=\"T_4483c_level0_row56\" class=\"row_heading level0 row56\" >56</th>\n",
       "      <td id=\"T_4483c_row56_col0\" class=\"data row56 col0\" >Honduras</td>\n",
       "      <td id=\"T_4483c_row56_col1\" class=\"data row56 col1\" >1.73%</td>\n",
       "      <td id=\"T_4483c_row56_col2\" class=\"data row56 col2\" >6.36%</td>\n",
       "      <td id=\"T_4483c_row56_col3\" class=\"data row56 col3\" >8.21%</td>\n",
       "    </tr>\n",
       "    <tr>\n",
       "      <th id=\"T_4483c_level0_row57\" class=\"row_heading level0 row57\" >57</th>\n",
       "      <td id=\"T_4483c_row57_col0\" class=\"data row57 col0\" >Hong Kong</td>\n",
       "      <td id=\"T_4483c_row57_col1\" class=\"data row57 col1\" >-0.29%</td>\n",
       "      <td id=\"T_4483c_row57_col2\" class=\"data row57 col2\" >0.26%</td>\n",
       "      <td id=\"T_4483c_row57_col3\" class=\"data row57 col3\" >-0.04%</td>\n",
       "    </tr>\n",
       "    <tr>\n",
       "      <th id=\"T_4483c_level0_row58\" class=\"row_heading level0 row58\" >58</th>\n",
       "      <td id=\"T_4483c_row58_col0\" class=\"data row58 col0\" >Hungary</td>\n",
       "      <td id=\"T_4483c_row58_col1\" class=\"data row58 col1\" >7.19%</td>\n",
       "      <td id=\"T_4483c_row58_col2\" class=\"data row58 col2\" >3.48%</td>\n",
       "      <td id=\"T_4483c_row58_col3\" class=\"data row58 col3\" >10.92%</td>\n",
       "    </tr>\n",
       "    <tr>\n",
       "      <th id=\"T_4483c_level0_row59\" class=\"row_heading level0 row59\" >59</th>\n",
       "      <td id=\"T_4483c_row59_col0\" class=\"data row59 col0\" >Iceland</td>\n",
       "      <td id=\"T_4483c_row59_col1\" class=\"data row59 col1\" >-0.79%</td>\n",
       "      <td id=\"T_4483c_row59_col2\" class=\"data row59 col2\" >0.04%</td>\n",
       "      <td id=\"T_4483c_row59_col3\" class=\"data row59 col3\" >-0.75%</td>\n",
       "    </tr>\n",
       "    <tr>\n",
       "      <th id=\"T_4483c_level0_row60\" class=\"row_heading level0 row60\" >60</th>\n",
       "      <td id=\"T_4483c_row60_col0\" class=\"data row60 col0\" >India</td>\n",
       "      <td id=\"T_4483c_row60_col1\" class=\"data row60 col1\" >-3.53%</td>\n",
       "      <td id=\"T_4483c_row60_col2\" class=\"data row60 col2\" >-2.02%</td>\n",
       "      <td id=\"T_4483c_row60_col3\" class=\"data row60 col3\" >-5.48%</td>\n",
       "    </tr>\n",
       "    <tr>\n",
       "      <th id=\"T_4483c_level0_row61\" class=\"row_heading level0 row61\" >61</th>\n",
       "      <td id=\"T_4483c_row61_col0\" class=\"data row61 col0\" >Indonesia</td>\n",
       "      <td id=\"T_4483c_row61_col1\" class=\"data row61 col1\" >-1.57%</td>\n",
       "      <td id=\"T_4483c_row61_col2\" class=\"data row61 col2\" >-0.98%</td>\n",
       "      <td id=\"T_4483c_row61_col3\" class=\"data row61 col3\" >-2.54%</td>\n",
       "    </tr>\n",
       "    <tr>\n",
       "      <th id=\"T_4483c_level0_row62\" class=\"row_heading level0 row62\" >62</th>\n",
       "      <td id=\"T_4483c_row62_col0\" class=\"data row62 col0\" >Iran</td>\n",
       "      <td id=\"T_4483c_row62_col1\" class=\"data row62 col1\" >2.71%</td>\n",
       "      <td id=\"T_4483c_row62_col2\" class=\"data row62 col2\" >-2.51%</td>\n",
       "      <td id=\"T_4483c_row62_col3\" class=\"data row62 col3\" >0.13%</td>\n",
       "    </tr>\n",
       "    <tr>\n",
       "      <th id=\"T_4483c_level0_row63\" class=\"row_heading level0 row63\" >63</th>\n",
       "      <td id=\"T_4483c_row63_col0\" class=\"data row63 col0\" >Iraq</td>\n",
       "      <td id=\"T_4483c_row63_col1\" class=\"data row63 col1\" >-2.18%</td>\n",
       "      <td id=\"T_4483c_row63_col2\" class=\"data row63 col2\" >-1.70%</td>\n",
       "      <td id=\"T_4483c_row63_col3\" class=\"data row63 col3\" >-3.85%</td>\n",
       "    </tr>\n",
       "    <tr>\n",
       "      <th id=\"T_4483c_level0_row64\" class=\"row_heading level0 row64\" >64</th>\n",
       "      <td id=\"T_4483c_row64_col0\" class=\"data row64 col0\" >Ireland</td>\n",
       "      <td id=\"T_4483c_row64_col1\" class=\"data row64 col1\" >-0.48%</td>\n",
       "      <td id=\"T_4483c_row64_col2\" class=\"data row64 col2\" >1.01%</td>\n",
       "      <td id=\"T_4483c_row64_col3\" class=\"data row64 col3\" >0.53%</td>\n",
       "    </tr>\n",
       "    <tr>\n",
       "      <th id=\"T_4483c_level0_row65\" class=\"row_heading level0 row65\" >65</th>\n",
       "      <td id=\"T_4483c_row65_col0\" class=\"data row65 col0\" >Israel</td>\n",
       "      <td id=\"T_4483c_row65_col1\" class=\"data row65 col1\" >-0.15%</td>\n",
       "      <td id=\"T_4483c_row65_col2\" class=\"data row65 col2\" >-0.74%</td>\n",
       "      <td id=\"T_4483c_row65_col3\" class=\"data row65 col3\" >-0.89%</td>\n",
       "    </tr>\n",
       "    <tr>\n",
       "      <th id=\"T_4483c_level0_row66\" class=\"row_heading level0 row66\" >66</th>\n",
       "      <td id=\"T_4483c_row66_col0\" class=\"data row66 col0\" >Italy</td>\n",
       "      <td id=\"T_4483c_row66_col1\" class=\"data row66 col1\" >0.49%</td>\n",
       "      <td id=\"T_4483c_row66_col2\" class=\"data row66 col2\" >-0.22%</td>\n",
       "      <td id=\"T_4483c_row66_col3\" class=\"data row66 col3\" >0.27%</td>\n",
       "    </tr>\n",
       "    <tr>\n",
       "      <th id=\"T_4483c_level0_row67\" class=\"row_heading level0 row67\" >67</th>\n",
       "      <td id=\"T_4483c_row67_col0\" class=\"data row67 col0\" >Ivory Coast</td>\n",
       "      <td id=\"T_4483c_row67_col1\" class=\"data row67 col1\" >7.14%</td>\n",
       "      <td id=\"T_4483c_row67_col2\" class=\"data row67 col2\" >6.74%</td>\n",
       "      <td id=\"T_4483c_row67_col3\" class=\"data row67 col3\" >14.36%</td>\n",
       "    </tr>\n",
       "    <tr>\n",
       "      <th id=\"T_4483c_level0_row68\" class=\"row_heading level0 row68\" >68</th>\n",
       "      <td id=\"T_4483c_row68_col0\" class=\"data row68 col0\" >Jamaica</td>\n",
       "      <td id=\"T_4483c_row68_col1\" class=\"data row68 col1\" >-3.49%</td>\n",
       "      <td id=\"T_4483c_row68_col2\" class=\"data row68 col2\" >-3.61%</td>\n",
       "      <td id=\"T_4483c_row68_col3\" class=\"data row68 col3\" >-6.97%</td>\n",
       "    </tr>\n",
       "    <tr>\n",
       "      <th id=\"T_4483c_level0_row69\" class=\"row_heading level0 row69\" >69</th>\n",
       "      <td id=\"T_4483c_row69_col0\" class=\"data row69 col0\" >Japan</td>\n",
       "      <td id=\"T_4483c_row69_col1\" class=\"data row69 col1\" >-1.10%</td>\n",
       "      <td id=\"T_4483c_row69_col2\" class=\"data row69 col2\" >-0.02%</td>\n",
       "      <td id=\"T_4483c_row69_col3\" class=\"data row69 col3\" >-1.12%</td>\n",
       "    </tr>\n",
       "    <tr>\n",
       "      <th id=\"T_4483c_level0_row70\" class=\"row_heading level0 row70\" >70</th>\n",
       "      <td id=\"T_4483c_row70_col0\" class=\"data row70 col0\" >Jordan</td>\n",
       "      <td id=\"T_4483c_row70_col1\" class=\"data row70 col1\" >2.14%</td>\n",
       "      <td id=\"T_4483c_row70_col2\" class=\"data row70 col2\" >0.62%</td>\n",
       "      <td id=\"T_4483c_row70_col3\" class=\"data row70 col3\" >2.77%</td>\n",
       "    </tr>\n",
       "    <tr>\n",
       "      <th id=\"T_4483c_level0_row71\" class=\"row_heading level0 row71\" >71</th>\n",
       "      <td id=\"T_4483c_row71_col0\" class=\"data row71 col0\" >Kazakhstan</td>\n",
       "      <td id=\"T_4483c_row71_col1\" class=\"data row71 col1\" >1.09%</td>\n",
       "      <td id=\"T_4483c_row71_col2\" class=\"data row71 col2\" >-1.69%</td>\n",
       "      <td id=\"T_4483c_row71_col3\" class=\"data row71 col3\" >-0.61%</td>\n",
       "    </tr>\n",
       "    <tr>\n",
       "      <th id=\"T_4483c_level0_row72\" class=\"row_heading level0 row72\" >72</th>\n",
       "      <td id=\"T_4483c_row72_col0\" class=\"data row72 col0\" >Kenya</td>\n",
       "      <td id=\"T_4483c_row72_col1\" class=\"data row72 col1\" >-1.43%</td>\n",
       "      <td id=\"T_4483c_row72_col2\" class=\"data row72 col2\" >4.52%</td>\n",
       "      <td id=\"T_4483c_row72_col3\" class=\"data row72 col3\" >3.03%</td>\n",
       "    </tr>\n",
       "    <tr>\n",
       "      <th id=\"T_4483c_level0_row73\" class=\"row_heading level0 row73\" >73</th>\n",
       "      <td id=\"T_4483c_row73_col0\" class=\"data row73 col0\" >Kosovo</td>\n",
       "      <td id=\"T_4483c_row73_col1\" class=\"data row73 col1\" >-3.36%</td>\n",
       "      <td id=\"T_4483c_row73_col2\" class=\"data row73 col2\" >-2.26%</td>\n",
       "      <td id=\"T_4483c_row73_col3\" class=\"data row73 col3\" >-5.55%</td>\n",
       "    </tr>\n",
       "    <tr>\n",
       "      <th id=\"T_4483c_level0_row74\" class=\"row_heading level0 row74\" >74</th>\n",
       "      <td id=\"T_4483c_row74_col0\" class=\"data row74 col0\" >Kuwait</td>\n",
       "      <td id=\"T_4483c_row74_col1\" class=\"data row74 col1\" >-0.89%</td>\n",
       "      <td id=\"T_4483c_row74_col2\" class=\"data row74 col2\" >-2.15%</td>\n",
       "      <td id=\"T_4483c_row74_col3\" class=\"data row74 col3\" >-3.02%</td>\n",
       "    </tr>\n",
       "    <tr>\n",
       "      <th id=\"T_4483c_level0_row75\" class=\"row_heading level0 row75\" >75</th>\n",
       "      <td id=\"T_4483c_row75_col0\" class=\"data row75 col0\" >Kyrgyzstan</td>\n",
       "      <td id=\"T_4483c_row75_col1\" class=\"data row75 col1\" >-1.91%</td>\n",
       "      <td id=\"T_4483c_row75_col2\" class=\"data row75 col2\" >-3.49%</td>\n",
       "      <td id=\"T_4483c_row75_col3\" class=\"data row75 col3\" >-5.33%</td>\n",
       "    </tr>\n",
       "    <tr>\n",
       "      <th id=\"T_4483c_level0_row76\" class=\"row_heading level0 row76\" >76</th>\n",
       "      <td id=\"T_4483c_row76_col0\" class=\"data row76 col0\" >Laos</td>\n",
       "      <td id=\"T_4483c_row76_col1\" class=\"data row76 col1\" >0.00%</td>\n",
       "      <td id=\"T_4483c_row76_col2\" class=\"data row76 col2\" >0.00%</td>\n",
       "      <td id=\"T_4483c_row76_col3\" class=\"data row76 col3\" >0.00%</td>\n",
       "    </tr>\n",
       "    <tr>\n",
       "      <th id=\"T_4483c_level0_row77\" class=\"row_heading level0 row77\" >77</th>\n",
       "      <td id=\"T_4483c_row77_col0\" class=\"data row77 col0\" >Latvia</td>\n",
       "      <td id=\"T_4483c_row77_col1\" class=\"data row77 col1\" >9.06%</td>\n",
       "      <td id=\"T_4483c_row77_col2\" class=\"data row77 col2\" >5.22%</td>\n",
       "      <td id=\"T_4483c_row77_col3\" class=\"data row77 col3\" >14.75%</td>\n",
       "    </tr>\n",
       "    <tr>\n",
       "      <th id=\"T_4483c_level0_row78\" class=\"row_heading level0 row78\" >78</th>\n",
       "      <td id=\"T_4483c_row78_col0\" class=\"data row78 col0\" >Lebanon</td>\n",
       "      <td id=\"T_4483c_row78_col1\" class=\"data row78 col1\" >5.99%</td>\n",
       "      <td id=\"T_4483c_row78_col2\" class=\"data row78 col2\" >1.87%</td>\n",
       "      <td id=\"T_4483c_row78_col3\" class=\"data row78 col3\" >7.98%</td>\n",
       "    </tr>\n",
       "    <tr>\n",
       "      <th id=\"T_4483c_level0_row79\" class=\"row_heading level0 row79\" >79</th>\n",
       "      <td id=\"T_4483c_row79_col0\" class=\"data row79 col0\" >Lesotho</td>\n",
       "      <td id=\"T_4483c_row79_col1\" class=\"data row79 col1\" >0.00%</td>\n",
       "      <td id=\"T_4483c_row79_col2\" class=\"data row79 col2\" >0.00%</td>\n",
       "      <td id=\"T_4483c_row79_col3\" class=\"data row79 col3\" >-22.25%</td>\n",
       "    </tr>\n",
       "    <tr>\n",
       "      <th id=\"T_4483c_level0_row80\" class=\"row_heading level0 row80\" >80</th>\n",
       "      <td id=\"T_4483c_row80_col0\" class=\"data row80 col0\" >Liberia</td>\n",
       "      <td id=\"T_4483c_row80_col1\" class=\"data row80 col1\" >-20.76%</td>\n",
       "      <td id=\"T_4483c_row80_col2\" class=\"data row80 col2\" >-2.46%</td>\n",
       "      <td id=\"T_4483c_row80_col3\" class=\"data row80 col3\" >-22.71%</td>\n",
       "    </tr>\n",
       "    <tr>\n",
       "      <th id=\"T_4483c_level0_row81\" class=\"row_heading level0 row81\" >81</th>\n",
       "      <td id=\"T_4483c_row81_col0\" class=\"data row81 col0\" >Libya</td>\n",
       "      <td id=\"T_4483c_row81_col1\" class=\"data row81 col1\" >-2.42%</td>\n",
       "      <td id=\"T_4483c_row81_col2\" class=\"data row81 col2\" >-1.60%</td>\n",
       "      <td id=\"T_4483c_row81_col3\" class=\"data row81 col3\" >-3.98%</td>\n",
       "    </tr>\n",
       "    <tr>\n",
       "      <th id=\"T_4483c_level0_row82\" class=\"row_heading level0 row82\" >82</th>\n",
       "      <td id=\"T_4483c_row82_col0\" class=\"data row82 col0\" >Lithuania</td>\n",
       "      <td id=\"T_4483c_row82_col1\" class=\"data row82 col1\" >-0.34%</td>\n",
       "      <td id=\"T_4483c_row82_col2\" class=\"data row82 col2\" >1.53%</td>\n",
       "      <td id=\"T_4483c_row82_col3\" class=\"data row82 col3\" >1.18%</td>\n",
       "    </tr>\n",
       "    <tr>\n",
       "      <th id=\"T_4483c_level0_row83\" class=\"row_heading level0 row83\" >83</th>\n",
       "      <td id=\"T_4483c_row83_col0\" class=\"data row83 col0\" >Luxembourg</td>\n",
       "      <td id=\"T_4483c_row83_col1\" class=\"data row83 col1\" >-1.08%</td>\n",
       "      <td id=\"T_4483c_row83_col2\" class=\"data row83 col2\" >-0.12%</td>\n",
       "      <td id=\"T_4483c_row83_col3\" class=\"data row83 col3\" >-1.19%</td>\n",
       "    </tr>\n",
       "    <tr>\n",
       "      <th id=\"T_4483c_level0_row84\" class=\"row_heading level0 row84\" >84</th>\n",
       "      <td id=\"T_4483c_row84_col0\" class=\"data row84 col0\" >Macedonia</td>\n",
       "      <td id=\"T_4483c_row84_col1\" class=\"data row84 col1\" >2.28%</td>\n",
       "      <td id=\"T_4483c_row84_col2\" class=\"data row84 col2\" >1.05%</td>\n",
       "      <td id=\"T_4483c_row84_col3\" class=\"data row84 col3\" >3.36%</td>\n",
       "    </tr>\n",
       "    <tr>\n",
       "      <th id=\"T_4483c_level0_row85\" class=\"row_heading level0 row85\" >85</th>\n",
       "      <td id=\"T_4483c_row85_col0\" class=\"data row85 col0\" >Madagascar</td>\n",
       "      <td id=\"T_4483c_row85_col1\" class=\"data row85 col1\" >0.38%</td>\n",
       "      <td id=\"T_4483c_row85_col2\" class=\"data row85 col2\" >-1.38%</td>\n",
       "      <td id=\"T_4483c_row85_col3\" class=\"data row85 col3\" >-1.01%</td>\n",
       "    </tr>\n",
       "    <tr>\n",
       "      <th id=\"T_4483c_level0_row86\" class=\"row_heading level0 row86\" >86</th>\n",
       "      <td id=\"T_4483c_row86_col0\" class=\"data row86 col0\" >Malawi</td>\n",
       "      <td id=\"T_4483c_row86_col1\" class=\"data row86 col1\" >-3.17%</td>\n",
       "      <td id=\"T_4483c_row86_col2\" class=\"data row86 col2\" >-4.48%</td>\n",
       "      <td id=\"T_4483c_row86_col3\" class=\"data row86 col3\" >-7.50%</td>\n",
       "    </tr>\n",
       "    <tr>\n",
       "      <th id=\"T_4483c_level0_row87\" class=\"row_heading level0 row87\" >87</th>\n",
       "      <td id=\"T_4483c_row87_col0\" class=\"data row87 col0\" >Malaysia</td>\n",
       "      <td id=\"T_4483c_row87_col1\" class=\"data row87 col1\" >4.07%</td>\n",
       "      <td id=\"T_4483c_row87_col2\" class=\"data row87 col2\" >1.32%</td>\n",
       "      <td id=\"T_4483c_row87_col3\" class=\"data row87 col3\" >5.44%</td>\n",
       "    </tr>\n",
       "    <tr>\n",
       "      <th id=\"T_4483c_level0_row88\" class=\"row_heading level0 row88\" >88</th>\n",
       "      <td id=\"T_4483c_row88_col0\" class=\"data row88 col0\" >Mali</td>\n",
       "      <td id=\"T_4483c_row88_col1\" class=\"data row88 col1\" >1.95%</td>\n",
       "      <td id=\"T_4483c_row88_col2\" class=\"data row88 col2\" >2.87%</td>\n",
       "      <td id=\"T_4483c_row88_col3\" class=\"data row88 col3\" >4.88%</td>\n",
       "    </tr>\n",
       "    <tr>\n",
       "      <th id=\"T_4483c_level0_row89\" class=\"row_heading level0 row89\" >89</th>\n",
       "      <td id=\"T_4483c_row89_col0\" class=\"data row89 col0\" >Malta</td>\n",
       "      <td id=\"T_4483c_row89_col1\" class=\"data row89 col1\" >2.95%</td>\n",
       "      <td id=\"T_4483c_row89_col2\" class=\"data row89 col2\" >0.60%</td>\n",
       "      <td id=\"T_4483c_row89_col3\" class=\"data row89 col3\" >3.57%</td>\n",
       "    </tr>\n",
       "    <tr>\n",
       "      <th id=\"T_4483c_level0_row90\" class=\"row_heading level0 row90\" >90</th>\n",
       "      <td id=\"T_4483c_row90_col0\" class=\"data row90 col0\" >Mauritania</td>\n",
       "      <td id=\"T_4483c_row90_col1\" class=\"data row90 col1\" >-5.30%</td>\n",
       "      <td id=\"T_4483c_row90_col2\" class=\"data row90 col2\" >2.17%</td>\n",
       "      <td id=\"T_4483c_row90_col3\" class=\"data row90 col3\" >-3.25%</td>\n",
       "    </tr>\n",
       "    <tr>\n",
       "      <th id=\"T_4483c_level0_row91\" class=\"row_heading level0 row91\" >91</th>\n",
       "      <td id=\"T_4483c_row91_col0\" class=\"data row91 col0\" >Mauritius</td>\n",
       "      <td id=\"T_4483c_row91_col1\" class=\"data row91 col1\" >3.12%</td>\n",
       "      <td id=\"T_4483c_row91_col2\" class=\"data row91 col2\" >-0.34%</td>\n",
       "      <td id=\"T_4483c_row91_col3\" class=\"data row91 col3\" >2.78%</td>\n",
       "    </tr>\n",
       "    <tr>\n",
       "      <th id=\"T_4483c_level0_row92\" class=\"row_heading level0 row92\" >92</th>\n",
       "      <td id=\"T_4483c_row92_col0\" class=\"data row92 col0\" >Mexico</td>\n",
       "      <td id=\"T_4483c_row92_col1\" class=\"data row92 col1\" >-5.69%</td>\n",
       "      <td id=\"T_4483c_row92_col2\" class=\"data row92 col2\" >-2.95%</td>\n",
       "      <td id=\"T_4483c_row92_col3\" class=\"data row92 col3\" >-8.47%</td>\n",
       "    </tr>\n",
       "    <tr>\n",
       "      <th id=\"T_4483c_level0_row93\" class=\"row_heading level0 row93\" >93</th>\n",
       "      <td id=\"T_4483c_row93_col0\" class=\"data row93 col0\" >Moldova</td>\n",
       "      <td id=\"T_4483c_row93_col1\" class=\"data row93 col1\" >0.14%</td>\n",
       "      <td id=\"T_4483c_row93_col2\" class=\"data row93 col2\" >-1.00%</td>\n",
       "      <td id=\"T_4483c_row93_col3\" class=\"data row93 col3\" >-0.87%</td>\n",
       "    </tr>\n",
       "    <tr>\n",
       "      <th id=\"T_4483c_level0_row94\" class=\"row_heading level0 row94\" >94</th>\n",
       "      <td id=\"T_4483c_row94_col0\" class=\"data row94 col0\" >Mongolia</td>\n",
       "      <td id=\"T_4483c_row94_col1\" class=\"data row94 col1\" >0.68%</td>\n",
       "      <td id=\"T_4483c_row94_col2\" class=\"data row94 col2\" >0.98%</td>\n",
       "      <td id=\"T_4483c_row94_col3\" class=\"data row94 col3\" >1.66%</td>\n",
       "    </tr>\n",
       "    <tr>\n",
       "      <th id=\"T_4483c_level0_row95\" class=\"row_heading level0 row95\" >95</th>\n",
       "      <td id=\"T_4483c_row95_col0\" class=\"data row95 col0\" >Montenegro</td>\n",
       "      <td id=\"T_4483c_row95_col1\" class=\"data row95 col1\" >-0.60%</td>\n",
       "      <td id=\"T_4483c_row95_col2\" class=\"data row95 col2\" >1.47%</td>\n",
       "      <td id=\"T_4483c_row95_col3\" class=\"data row95 col3\" >0.87%</td>\n",
       "    </tr>\n",
       "    <tr>\n",
       "      <th id=\"T_4483c_level0_row96\" class=\"row_heading level0 row96\" >96</th>\n",
       "      <td id=\"T_4483c_row96_col0\" class=\"data row96 col0\" >Morocco</td>\n",
       "      <td id=\"T_4483c_row96_col1\" class=\"data row96 col1\" >2.75%</td>\n",
       "      <td id=\"T_4483c_row96_col2\" class=\"data row96 col2\" >1.63%</td>\n",
       "      <td id=\"T_4483c_row96_col3\" class=\"data row96 col3\" >4.43%</td>\n",
       "    </tr>\n",
       "    <tr>\n",
       "      <th id=\"T_4483c_level0_row97\" class=\"row_heading level0 row97\" >97</th>\n",
       "      <td id=\"T_4483c_row97_col0\" class=\"data row97 col0\" >Mozambique</td>\n",
       "      <td id=\"T_4483c_row97_col1\" class=\"data row97 col1\" >0.00%</td>\n",
       "      <td id=\"T_4483c_row97_col2\" class=\"data row97 col2\" >0.00%</td>\n",
       "      <td id=\"T_4483c_row97_col3\" class=\"data row97 col3\" >-8.47%</td>\n",
       "    </tr>\n",
       "    <tr>\n",
       "      <th id=\"T_4483c_level0_row98\" class=\"row_heading level0 row98\" >98</th>\n",
       "      <td id=\"T_4483c_row98_col0\" class=\"data row98 col0\" >Myanmar</td>\n",
       "      <td id=\"T_4483c_row98_col1\" class=\"data row98 col1\" >2.04%</td>\n",
       "      <td id=\"T_4483c_row98_col2\" class=\"data row98 col2\" >3.41%</td>\n",
       "      <td id=\"T_4483c_row98_col3\" class=\"data row98 col3\" >5.53%</td>\n",
       "    </tr>\n",
       "    <tr>\n",
       "      <th id=\"T_4483c_level0_row99\" class=\"row_heading level0 row99\" >99</th>\n",
       "      <td id=\"T_4483c_row99_col0\" class=\"data row99 col0\" >Namibia</td>\n",
       "      <td id=\"T_4483c_row99_col1\" class=\"data row99 col1\" >0.00%</td>\n",
       "      <td id=\"T_4483c_row99_col2\" class=\"data row99 col2\" >-0.00%</td>\n",
       "      <td id=\"T_4483c_row99_col3\" class=\"data row99 col3\" >0.00%</td>\n",
       "    </tr>\n",
       "    <tr>\n",
       "      <th id=\"T_4483c_level0_row100\" class=\"row_heading level0 row100\" >100</th>\n",
       "      <td id=\"T_4483c_row100_col0\" class=\"data row100 col0\" >Nepal</td>\n",
       "      <td id=\"T_4483c_row100_col1\" class=\"data row100 col1\" >6.18%</td>\n",
       "      <td id=\"T_4483c_row100_col2\" class=\"data row100 col2\" >3.53%</td>\n",
       "      <td id=\"T_4483c_row100_col3\" class=\"data row100 col3\" >9.92%</td>\n",
       "    </tr>\n",
       "    <tr>\n",
       "      <th id=\"T_4483c_level0_row101\" class=\"row_heading level0 row101\" >101</th>\n",
       "      <td id=\"T_4483c_row101_col0\" class=\"data row101 col0\" >Netherlands</td>\n",
       "      <td id=\"T_4483c_row101_col1\" class=\"data row101 col1\" >-0.53%</td>\n",
       "      <td id=\"T_4483c_row101_col2\" class=\"data row101 col2\" >0.52%</td>\n",
       "      <td id=\"T_4483c_row101_col3\" class=\"data row101 col3\" >-0.01%</td>\n",
       "    </tr>\n",
       "    <tr>\n",
       "      <th id=\"T_4483c_level0_row102\" class=\"row_heading level0 row102\" >102</th>\n",
       "      <td id=\"T_4483c_row102_col0\" class=\"data row102 col0\" >New Zealand</td>\n",
       "      <td id=\"T_4483c_row102_col1\" class=\"data row102 col1\" >0.66%</td>\n",
       "      <td id=\"T_4483c_row102_col2\" class=\"data row102 col2\" >-0.27%</td>\n",
       "      <td id=\"T_4483c_row102_col3\" class=\"data row102 col3\" >0.38%</td>\n",
       "    </tr>\n",
       "    <tr>\n",
       "      <th id=\"T_4483c_level0_row103\" class=\"row_heading level0 row103\" >103</th>\n",
       "      <td id=\"T_4483c_row103_col0\" class=\"data row103 col0\" >Nicaragua</td>\n",
       "      <td id=\"T_4483c_row103_col1\" class=\"data row103 col1\" >2.81%</td>\n",
       "      <td id=\"T_4483c_row103_col2\" class=\"data row103 col2\" >1.32%</td>\n",
       "      <td id=\"T_4483c_row103_col3\" class=\"data row103 col3\" >4.17%</td>\n",
       "    </tr>\n",
       "    <tr>\n",
       "      <th id=\"T_4483c_level0_row104\" class=\"row_heading level0 row104\" >104</th>\n",
       "      <td id=\"T_4483c_row104_col0\" class=\"data row104 col0\" >Niger</td>\n",
       "      <td id=\"T_4483c_row104_col1\" class=\"data row104 col1\" >0.29%</td>\n",
       "      <td id=\"T_4483c_row104_col2\" class=\"data row104 col2\" >4.46%</td>\n",
       "      <td id=\"T_4483c_row104_col3\" class=\"data row104 col3\" >4.76%</td>\n",
       "    </tr>\n",
       "    <tr>\n",
       "      <th id=\"T_4483c_level0_row105\" class=\"row_heading level0 row105\" >105</th>\n",
       "      <td id=\"T_4483c_row105_col0\" class=\"data row105 col0\" >Nigeria</td>\n",
       "      <td id=\"T_4483c_row105_col1\" class=\"data row105 col1\" >-7.46%</td>\n",
       "      <td id=\"T_4483c_row105_col2\" class=\"data row105 col2\" >4.08%</td>\n",
       "      <td id=\"T_4483c_row105_col3\" class=\"data row105 col3\" >-3.68%</td>\n",
       "    </tr>\n",
       "    <tr>\n",
       "      <th id=\"T_4483c_level0_row106\" class=\"row_heading level0 row106\" >106</th>\n",
       "      <td id=\"T_4483c_row106_col0\" class=\"data row106 col0\" >North Cyprus</td>\n",
       "      <td id=\"T_4483c_row106_col1\" class=\"data row106 col1\" >1.33%</td>\n",
       "      <td id=\"T_4483c_row106_col2\" class=\"data row106 col2\" >0.68%</td>\n",
       "      <td id=\"T_4483c_row106_col3\" class=\"data row106 col3\" >2.02%</td>\n",
       "    </tr>\n",
       "    <tr>\n",
       "      <th id=\"T_4483c_level0_row107\" class=\"row_heading level0 row107\" >107</th>\n",
       "      <td id=\"T_4483c_row107_col0\" class=\"data row107 col0\" >Norway</td>\n",
       "      <td id=\"T_4483c_row107_col1\" class=\"data row107 col1\" >-0.32%</td>\n",
       "      <td id=\"T_4483c_row107_col2\" class=\"data row107 col2\" >0.52%</td>\n",
       "      <td id=\"T_4483c_row107_col3\" class=\"data row107 col3\" >0.20%</td>\n",
       "    </tr>\n",
       "    <tr>\n",
       "      <th id=\"T_4483c_level0_row108\" class=\"row_heading level0 row108\" >108</th>\n",
       "      <td id=\"T_4483c_row108_col0\" class=\"data row108 col0\" >Oman</td>\n",
       "      <td id=\"T_4483c_row108_col1\" class=\"data row108 col1\" >0.00%</td>\n",
       "      <td id=\"T_4483c_row108_col2\" class=\"data row108 col2\" >0.00%</td>\n",
       "      <td id=\"T_4483c_row108_col3\" class=\"data row108 col3\" >0.00%</td>\n",
       "    </tr>\n",
       "    <tr>\n",
       "      <th id=\"T_4483c_level0_row109\" class=\"row_heading level0 row109\" >109</th>\n",
       "      <td id=\"T_4483c_row109_col0\" class=\"data row109 col0\" >Pakistan</td>\n",
       "      <td id=\"T_4483c_row109_col1\" class=\"data row109 col1\" >-1.19%</td>\n",
       "      <td id=\"T_4483c_row109_col2\" class=\"data row109 col2\" >2.67%</td>\n",
       "      <td id=\"T_4483c_row109_col3\" class=\"data row109 col3\" >1.44%</td>\n",
       "    </tr>\n",
       "    <tr>\n",
       "      <th id=\"T_4483c_level0_row110\" class=\"row_heading level0 row110\" >110</th>\n",
       "      <td id=\"T_4483c_row110_col0\" class=\"data row110 col0\" >Palestinian Territories</td>\n",
       "      <td id=\"T_4483c_row110_col1\" class=\"data row110 col1\" >0.83%</td>\n",
       "      <td id=\"T_4483c_row110_col2\" class=\"data row110 col2\" >0.44%</td>\n",
       "      <td id=\"T_4483c_row110_col3\" class=\"data row110 col3\" >1.27%</td>\n",
       "    </tr>\n",
       "    <tr>\n",
       "      <th id=\"T_4483c_level0_row111\" class=\"row_heading level0 row111\" >111</th>\n",
       "      <td id=\"T_4483c_row111_col0\" class=\"data row111 col0\" >Panama</td>\n",
       "      <td id=\"T_4483c_row111_col1\" class=\"data row111 col1\" >-1.25%</td>\n",
       "      <td id=\"T_4483c_row111_col2\" class=\"data row111 col2\" >-3.72%</td>\n",
       "      <td id=\"T_4483c_row111_col3\" class=\"data row111 col3\" >-4.92%</td>\n",
       "    </tr>\n",
       "    <tr>\n",
       "      <th id=\"T_4483c_level0_row112\" class=\"row_heading level0 row112\" >112</th>\n",
       "      <td id=\"T_4483c_row112_col0\" class=\"data row112 col0\" >Paraguay</td>\n",
       "      <td id=\"T_4483c_row112_col1\" class=\"data row112 col1\" >-5.78%</td>\n",
       "      <td id=\"T_4483c_row112_col2\" class=\"data row112 col2\" >-0.81%</td>\n",
       "      <td id=\"T_4483c_row112_col3\" class=\"data row112 col3\" >-6.55%</td>\n",
       "    </tr>\n",
       "    <tr>\n",
       "      <th id=\"T_4483c_level0_row113\" class=\"row_heading level0 row113\" >113</th>\n",
       "      <td id=\"T_4483c_row113_col0\" class=\"data row113 col0\" >Peru</td>\n",
       "      <td id=\"T_4483c_row113_col1\" class=\"data row113 col1\" >-1.39%</td>\n",
       "      <td id=\"T_4483c_row113_col2\" class=\"data row113 col2\" >-0.49%</td>\n",
       "      <td id=\"T_4483c_row113_col3\" class=\"data row113 col3\" >-1.87%</td>\n",
       "    </tr>\n",
       "    <tr>\n",
       "      <th id=\"T_4483c_level0_row114\" class=\"row_heading level0 row114\" >114</th>\n",
       "      <td id=\"T_4483c_row114_col0\" class=\"data row114 col0\" >Philippines</td>\n",
       "      <td id=\"T_4483c_row114_col1\" class=\"data row114 col1\" >4.06%</td>\n",
       "      <td id=\"T_4483c_row114_col2\" class=\"data row114 col2\" >2.86%</td>\n",
       "      <td id=\"T_4483c_row114_col3\" class=\"data row114 col3\" >7.04%</td>\n",
       "    </tr>\n",
       "    <tr>\n",
       "      <th id=\"T_4483c_level0_row115\" class=\"row_heading level0 row115\" >115</th>\n",
       "      <td id=\"T_4483c_row115_col0\" class=\"data row115 col0\" >Poland</td>\n",
       "      <td id=\"T_4483c_row115_col1\" class=\"data row115 col1\" >0.76%</td>\n",
       "      <td id=\"T_4483c_row115_col2\" class=\"data row115 col2\" >2.37%</td>\n",
       "      <td id=\"T_4483c_row115_col3\" class=\"data row115 col3\" >3.14%</td>\n",
       "    </tr>\n",
       "    <tr>\n",
       "      <th id=\"T_4483c_level0_row116\" class=\"row_heading level0 row116\" >116</th>\n",
       "      <td id=\"T_4483c_row116_col0\" class=\"data row116 col0\" >Portugal</td>\n",
       "      <td id=\"T_4483c_row116_col1\" class=\"data row116 col1\" >0.41%</td>\n",
       "      <td id=\"T_4483c_row116_col2\" class=\"data row116 col2\" >1.41%</td>\n",
       "      <td id=\"T_4483c_row116_col3\" class=\"data row116 col3\" >1.82%</td>\n",
       "    </tr>\n",
       "    <tr>\n",
       "      <th id=\"T_4483c_level0_row117\" class=\"row_heading level0 row117\" >117</th>\n",
       "      <td id=\"T_4483c_row117_col0\" class=\"data row117 col0\" >Puerto Rico</td>\n",
       "      <td id=\"T_4483c_row117_col1\" class=\"data row117 col1\" >0.00%</td>\n",
       "      <td id=\"T_4483c_row117_col2\" class=\"data row117 col2\" >0.00%</td>\n",
       "      <td id=\"T_4483c_row117_col3\" class=\"data row117 col3\" >0.00%</td>\n",
       "    </tr>\n",
       "    <tr>\n",
       "      <th id=\"T_4483c_level0_row118\" class=\"row_heading level0 row118\" >118</th>\n",
       "      <td id=\"T_4483c_row118_col0\" class=\"data row118 col0\" >Qatar</td>\n",
       "      <td id=\"T_4483c_row118_col1\" class=\"data row118 col1\" >-3.57%</td>\n",
       "      <td id=\"T_4483c_row118_col2\" class=\"data row118 col2\" >0.00%</td>\n",
       "      <td id=\"T_4483c_row118_col3\" class=\"data row118 col3\" >-3.57%</td>\n",
       "    </tr>\n",
       "    <tr>\n",
       "      <th id=\"T_4483c_level0_row119\" class=\"row_heading level0 row119\" >119</th>\n",
       "      <td id=\"T_4483c_row119_col0\" class=\"data row119 col0\" >Romania</td>\n",
       "      <td id=\"T_4483c_row119_col1\" class=\"data row119 col1\" >7.88%</td>\n",
       "      <td id=\"T_4483c_row119_col2\" class=\"data row119 col2\" >5.37%</td>\n",
       "      <td id=\"T_4483c_row119_col3\" class=\"data row119 col3\" >13.68%</td>\n",
       "    </tr>\n",
       "    <tr>\n",
       "      <th id=\"T_4483c_level0_row120\" class=\"row_heading level0 row120\" >120</th>\n",
       "      <td id=\"T_4483c_row120_col0\" class=\"data row120 col0\" >Russia</td>\n",
       "      <td id=\"T_4483c_row120_col1\" class=\"data row120 col1\" >2.45%</td>\n",
       "      <td id=\"T_4483c_row120_col2\" class=\"data row120 col2\" >1.83%</td>\n",
       "      <td id=\"T_4483c_row120_col3\" class=\"data row120 col3\" >4.32%</td>\n",
       "    </tr>\n",
       "    <tr>\n",
       "      <th id=\"T_4483c_level0_row121\" class=\"row_heading level0 row121\" >121</th>\n",
       "      <td id=\"T_4483c_row121_col0\" class=\"data row121 col0\" >Rwanda</td>\n",
       "      <td id=\"T_4483c_row121_col1\" class=\"data row121 col1\" >1.44%</td>\n",
       "      <td id=\"T_4483c_row121_col2\" class=\"data row121 col2\" >-1.25%</td>\n",
       "      <td id=\"T_4483c_row121_col3\" class=\"data row121 col3\" >0.17%</td>\n",
       "    </tr>\n",
       "    <tr>\n",
       "      <th id=\"T_4483c_level0_row122\" class=\"row_heading level0 row122\" >122</th>\n",
       "      <td id=\"T_4483c_row122_col0\" class=\"data row122 col0\" >Saudi Arabia</td>\n",
       "      <td id=\"T_4483c_row122_col1\" class=\"data row122 col1\" >-0.50%</td>\n",
       "      <td id=\"T_4483c_row122_col2\" class=\"data row122 col2\" >-0.55%</td>\n",
       "      <td id=\"T_4483c_row122_col3\" class=\"data row122 col3\" >-1.05%</td>\n",
       "    </tr>\n",
       "    <tr>\n",
       "      <th id=\"T_4483c_level0_row123\" class=\"row_heading level0 row123\" >123</th>\n",
       "      <td id=\"T_4483c_row123_col0\" class=\"data row123 col0\" >Senegal</td>\n",
       "      <td id=\"T_4483c_row123_col1\" class=\"data row123 col1\" >8.07%</td>\n",
       "      <td id=\"T_4483c_row123_col2\" class=\"data row123 col2\" >7.49%</td>\n",
       "      <td id=\"T_4483c_row123_col3\" class=\"data row123 col3\" >16.16%</td>\n",
       "    </tr>\n",
       "    <tr>\n",
       "      <th id=\"T_4483c_level0_row124\" class=\"row_heading level0 row124\" >124</th>\n",
       "      <td id=\"T_4483c_row124_col0\" class=\"data row124 col0\" >Serbia</td>\n",
       "      <td id=\"T_4483c_row124_col1\" class=\"data row124 col1\" >1.05%</td>\n",
       "      <td id=\"T_4483c_row124_col2\" class=\"data row124 col2\" >4.21%</td>\n",
       "      <td id=\"T_4483c_row124_col3\" class=\"data row124 col3\" >5.31%</td>\n",
       "    </tr>\n",
       "    <tr>\n",
       "      <th id=\"T_4483c_level0_row125\" class=\"row_heading level0 row125\" >125</th>\n",
       "      <td id=\"T_4483c_row125_col0\" class=\"data row125 col0\" >Sierra Leone</td>\n",
       "      <td id=\"T_4483c_row125_col1\" class=\"data row125 col1\" >2.84%</td>\n",
       "      <td id=\"T_4483c_row125_col2\" class=\"data row125 col2\" >1.60%</td>\n",
       "      <td id=\"T_4483c_row125_col3\" class=\"data row125 col3\" >4.48%</td>\n",
       "    </tr>\n",
       "    <tr>\n",
       "      <th id=\"T_4483c_level0_row126\" class=\"row_heading level0 row126\" >126</th>\n",
       "      <td id=\"T_4483c_row126_col0\" class=\"data row126 col0\" >Singapore</td>\n",
       "      <td id=\"T_4483c_row126_col1\" class=\"data row126 col1\" >-0.87%</td>\n",
       "      <td id=\"T_4483c_row126_col2\" class=\"data row126 col2\" >-2.48%</td>\n",
       "      <td id=\"T_4483c_row126_col3\" class=\"data row126 col3\" >-3.32%</td>\n",
       "    </tr>\n",
       "    <tr>\n",
       "      <th id=\"T_4483c_level0_row127\" class=\"row_heading level0 row127\" >127</th>\n",
       "      <td id=\"T_4483c_row127_col0\" class=\"data row127 col0\" >Slovakia</td>\n",
       "      <td id=\"T_4483c_row127_col1\" class=\"data row127 col1\" >1.38%</td>\n",
       "      <td id=\"T_4483c_row127_col2\" class=\"data row127 col2\" >0.33%</td>\n",
       "      <td id=\"T_4483c_row127_col3\" class=\"data row127 col3\" >1.72%</td>\n",
       "    </tr>\n",
       "    <tr>\n",
       "      <th id=\"T_4483c_level0_row128\" class=\"row_heading level0 row128\" >128</th>\n",
       "      <td id=\"T_4483c_row128_col0\" class=\"data row128 col0\" >Slovenia</td>\n",
       "      <td id=\"T_4483c_row128_col1\" class=\"data row128 col1\" >-1.37%</td>\n",
       "      <td id=\"T_4483c_row128_col2\" class=\"data row128 col2\" >-0.17%</td>\n",
       "      <td id=\"T_4483c_row128_col3\" class=\"data row128 col3\" >-1.54%</td>\n",
       "    </tr>\n",
       "    <tr>\n",
       "      <th id=\"T_4483c_level0_row129\" class=\"row_heading level0 row129\" >129</th>\n",
       "      <td id=\"T_4483c_row129_col0\" class=\"data row129 col0\" >Somalia</td>\n",
       "      <td id=\"T_4483c_row129_col1\" class=\"data row129 col1\" >0.00%</td>\n",
       "      <td id=\"T_4483c_row129_col2\" class=\"data row129 col2\" >-5.31%</td>\n",
       "      <td id=\"T_4483c_row129_col3\" class=\"data row129 col3\" >0.00%</td>\n",
       "    </tr>\n",
       "    <tr>\n",
       "      <th id=\"T_4483c_level0_row130\" class=\"row_heading level0 row130\" >130</th>\n",
       "      <td id=\"T_4483c_row130_col0\" class=\"data row130 col0\" >Somaliland Region</td>\n",
       "      <td id=\"T_4483c_row130_col1\" class=\"data row130 col1\" >0.00%</td>\n",
       "      <td id=\"T_4483c_row130_col2\" class=\"data row130 col2\" >0.00%</td>\n",
       "      <td id=\"T_4483c_row130_col3\" class=\"data row130 col3\" >0.00%</td>\n",
       "    </tr>\n",
       "    <tr>\n",
       "      <th id=\"T_4483c_level0_row131\" class=\"row_heading level0 row131\" >131</th>\n",
       "      <td id=\"T_4483c_row131_col0\" class=\"data row131 col0\" >South Africa</td>\n",
       "      <td id=\"T_4483c_row131_col1\" class=\"data row131 col1\" >-3.94%</td>\n",
       "      <td id=\"T_4483c_row131_col2\" class=\"data row131 col2\" >8.30%</td>\n",
       "      <td id=\"T_4483c_row131_col3\" class=\"data row131 col3\" >4.03%</td>\n",
       "    </tr>\n",
       "    <tr>\n",
       "      <th id=\"T_4483c_level0_row132\" class=\"row_heading level0 row132\" >132</th>\n",
       "      <td id=\"T_4483c_row132_col0\" class=\"data row132 col0\" >South Korea</td>\n",
       "      <td id=\"T_4483c_row132_col1\" class=\"data row132 col1\" >-2.49%</td>\n",
       "      <td id=\"T_4483c_row132_col2\" class=\"data row132 col2\" >0.05%</td>\n",
       "      <td id=\"T_4483c_row132_col3\" class=\"data row132 col3\" >-2.44%</td>\n",
       "    </tr>\n",
       "    <tr>\n",
       "      <th id=\"T_4483c_level0_row133\" class=\"row_heading level0 row133\" >133</th>\n",
       "      <td id=\"T_4483c_row133_col0\" class=\"data row133 col0\" >South Sudan</td>\n",
       "      <td id=\"T_4483c_row133_col1\" class=\"data row133 col1\" >0.00%</td>\n",
       "      <td id=\"T_4483c_row133_col2\" class=\"data row133 col2\" >-6.29%</td>\n",
       "      <td id=\"T_4483c_row133_col3\" class=\"data row133 col3\" >0.00%</td>\n",
       "    </tr>\n",
       "    <tr>\n",
       "      <th id=\"T_4483c_level0_row134\" class=\"row_heading level0 row134\" >134</th>\n",
       "      <td id=\"T_4483c_row134_col0\" class=\"data row134 col0\" >Spain</td>\n",
       "      <td id=\"T_4483c_row134_col1\" class=\"data row134 col1\" >0.51%</td>\n",
       "      <td id=\"T_4483c_row134_col2\" class=\"data row134 col2\" >0.66%</td>\n",
       "      <td id=\"T_4483c_row134_col3\" class=\"data row134 col3\" >1.17%</td>\n",
       "    </tr>\n",
       "    <tr>\n",
       "      <th id=\"T_4483c_level0_row135\" class=\"row_heading level0 row135\" >135</th>\n",
       "      <td id=\"T_4483c_row135_col0\" class=\"data row135 col0\" >Sri Lanka</td>\n",
       "      <td id=\"T_4483c_row135_col1\" class=\"data row135 col1\" >3.37%</td>\n",
       "      <td id=\"T_4483c_row135_col2\" class=\"data row135 col2\" >0.57%</td>\n",
       "      <td id=\"T_4483c_row135_col3\" class=\"data row135 col3\" >3.96%</td>\n",
       "    </tr>\n",
       "    <tr>\n",
       "      <th id=\"T_4483c_level0_row136\" class=\"row_heading level0 row136\" >136</th>\n",
       "      <td id=\"T_4483c_row136_col0\" class=\"data row136 col0\" >Sudan</td>\n",
       "      <td id=\"T_4483c_row136_col1\" class=\"data row136 col1\" >-9.03%</td>\n",
       "      <td id=\"T_4483c_row136_col2\" class=\"data row136 col2\" >-0.00%</td>\n",
       "      <td id=\"T_4483c_row136_col3\" class=\"data row136 col3\" >-9.03%</td>\n",
       "    </tr>\n",
       "    <tr>\n",
       "      <th id=\"T_4483c_level0_row137\" class=\"row_heading level0 row137\" >137</th>\n",
       "      <td id=\"T_4483c_row137_col0\" class=\"data row137 col0\" >Suriname</td>\n",
       "      <td id=\"T_4483c_row137_col1\" class=\"data row137 col1\" >0.00%</td>\n",
       "      <td id=\"T_4483c_row137_col2\" class=\"data row137 col2\" >0.00%</td>\n",
       "      <td id=\"T_4483c_row137_col3\" class=\"data row137 col3\" >0.00%</td>\n",
       "    </tr>\n",
       "    <tr>\n",
       "      <th id=\"T_4483c_level0_row138\" class=\"row_heading level0 row138\" >138</th>\n",
       "      <td id=\"T_4483c_row138_col0\" class=\"data row138 col0\" >Swaziland</td>\n",
       "      <td id=\"T_4483c_row138_col1\" class=\"data row138 col1\" >0.00%</td>\n",
       "      <td id=\"T_4483c_row138_col2\" class=\"data row138 col2\" >0.00%</td>\n",
       "      <td id=\"T_4483c_row138_col3\" class=\"data row138 col3\" >0.00%</td>\n",
       "    </tr>\n",
       "    <tr>\n",
       "      <th id=\"T_4483c_level0_row139\" class=\"row_heading level0 row139\" >139</th>\n",
       "      <td id=\"T_4483c_row139_col0\" class=\"data row139 col0\" >Sweden</td>\n",
       "      <td id=\"T_4483c_row139_col1\" class=\"data row139 col1\" >-0.99%</td>\n",
       "      <td id=\"T_4483c_row139_col2\" class=\"data row139 col2\" >-0.10%</td>\n",
       "      <td id=\"T_4483c_row139_col3\" class=\"data row139 col3\" >-1.09%</td>\n",
       "    </tr>\n",
       "    <tr>\n",
       "      <th id=\"T_4483c_level0_row140\" class=\"row_heading level0 row140\" >140</th>\n",
       "      <td id=\"T_4483c_row140_col0\" class=\"data row140 col0\" >Switzerland</td>\n",
       "      <td id=\"T_4483c_row140_col1\" class=\"data row140 col1\" >-1.03%</td>\n",
       "      <td id=\"T_4483c_row140_col2\" class=\"data row140 col2\" >-0.20%</td>\n",
       "      <td id=\"T_4483c_row140_col3\" class=\"data row140 col3\" >-1.23%</td>\n",
       "    </tr>\n",
       "    <tr>\n",
       "      <th id=\"T_4483c_level0_row141\" class=\"row_heading level0 row141\" >141</th>\n",
       "      <td id=\"T_4483c_row141_col0\" class=\"data row141 col0\" >Syria</td>\n",
       "      <td id=\"T_4483c_row141_col1\" class=\"data row141 col1\" >2.10%</td>\n",
       "      <td id=\"T_4483c_row141_col2\" class=\"data row141 col2\" >12.81%</td>\n",
       "      <td id=\"T_4483c_row141_col3\" class=\"data row141 col3\" >15.17%</td>\n",
       "    </tr>\n",
       "    <tr>\n",
       "      <th id=\"T_4483c_level0_row142\" class=\"row_heading level0 row142\" >142</th>\n",
       "      <td id=\"T_4483c_row142_col0\" class=\"data row142 col0\" >Taiwan</td>\n",
       "      <td id=\"T_4483c_row142_col1\" class=\"data row142 col1\" >1.29%</td>\n",
       "      <td id=\"T_4483c_row142_col2\" class=\"data row142 col2\" >0.67%</td>\n",
       "      <td id=\"T_4483c_row142_col3\" class=\"data row142 col3\" >1.97%</td>\n",
       "    </tr>\n",
       "    <tr>\n",
       "      <th id=\"T_4483c_level0_row143\" class=\"row_heading level0 row143\" >143</th>\n",
       "      <td id=\"T_4483c_row143_col0\" class=\"data row143 col0\" >Tajikistan</td>\n",
       "      <td id=\"T_4483c_row143_col1\" class=\"data row143 col1\" >4.39%</td>\n",
       "      <td id=\"T_4483c_row143_col2\" class=\"data row143 col2\" >0.90%</td>\n",
       "      <td id=\"T_4483c_row143_col3\" class=\"data row143 col3\" >5.33%</td>\n",
       "    </tr>\n",
       "    <tr>\n",
       "      <th id=\"T_4483c_level0_row144\" class=\"row_heading level0 row144\" >144</th>\n",
       "      <td id=\"T_4483c_row144_col0\" class=\"data row144 col0\" >Tanzania</td>\n",
       "      <td id=\"T_4483c_row144_col1\" class=\"data row144 col1\" >-3.04%</td>\n",
       "      <td id=\"T_4483c_row144_col2\" class=\"data row144 col2\" >-8.65%</td>\n",
       "      <td id=\"T_4483c_row144_col3\" class=\"data row144 col3\" >-11.43%</td>\n",
       "    </tr>\n",
       "    <tr>\n",
       "      <th id=\"T_4483c_level0_row145\" class=\"row_heading level0 row145\" >145</th>\n",
       "      <td id=\"T_4483c_row145_col0\" class=\"data row145 col0\" >Thailand</td>\n",
       "      <td id=\"T_4483c_row145_col1\" class=\"data row145 col1\" >0.29%</td>\n",
       "      <td id=\"T_4483c_row145_col2\" class=\"data row145 col2\" >-0.77%</td>\n",
       "      <td id=\"T_4483c_row145_col3\" class=\"data row145 col3\" >-0.48%</td>\n",
       "    </tr>\n",
       "    <tr>\n",
       "      <th id=\"T_4483c_level0_row146\" class=\"row_heading level0 row146\" >146</th>\n",
       "      <td id=\"T_4483c_row146_col0\" class=\"data row146 col0\" >Togo</td>\n",
       "      <td id=\"T_4483c_row146_col1\" class=\"data row146 col1\" >16.34%</td>\n",
       "      <td id=\"T_4483c_row146_col2\" class=\"data row146 col2\" >5.81%</td>\n",
       "      <td id=\"T_4483c_row146_col3\" class=\"data row146 col3\" >23.11%</td>\n",
       "    </tr>\n",
       "    <tr>\n",
       "      <th id=\"T_4483c_level0_row147\" class=\"row_heading level0 row147\" >147</th>\n",
       "      <td id=\"T_4483c_row147_col0\" class=\"data row147 col0\" >Trinidad and Tobago</td>\n",
       "      <td id=\"T_4483c_row147_col1\" class=\"data row147 col1\" >0.00%</td>\n",
       "      <td id=\"T_4483c_row147_col2\" class=\"data row147 col2\" >0.00%</td>\n",
       "      <td id=\"T_4483c_row147_col3\" class=\"data row147 col3\" >0.00%</td>\n",
       "    </tr>\n",
       "    <tr>\n",
       "      <th id=\"T_4483c_level0_row148\" class=\"row_heading level0 row148\" >148</th>\n",
       "      <td id=\"T_4483c_row148_col0\" class=\"data row148 col0\" >Tunisia</td>\n",
       "      <td id=\"T_4483c_row148_col1\" class=\"data row148 col1\" >6.46%</td>\n",
       "      <td id=\"T_4483c_row148_col2\" class=\"data row148 col2\" >-4.76%</td>\n",
       "      <td id=\"T_4483c_row148_col3\" class=\"data row148 col3\" >1.39%</td>\n",
       "    </tr>\n",
       "    <tr>\n",
       "      <th id=\"T_4483c_level0_row149\" class=\"row_heading level0 row149\" >149</th>\n",
       "      <td id=\"T_4483c_row149_col0\" class=\"data row149 col0\" >Turkey</td>\n",
       "      <td id=\"T_4483c_row149_col1\" class=\"data row149 col1\" >1.07%</td>\n",
       "      <td id=\"T_4483c_row149_col2\" class=\"data row149 col2\" >2.06%</td>\n",
       "      <td id=\"T_4483c_row149_col3\" class=\"data row149 col3\" >3.15%</td>\n",
       "    </tr>\n",
       "    <tr>\n",
       "      <th id=\"T_4483c_level0_row150\" class=\"row_heading level0 row150\" >150</th>\n",
       "      <td id=\"T_4483c_row150_col0\" class=\"data row150 col0\" >Turkmenistan</td>\n",
       "      <td id=\"T_4483c_row150_col1\" class=\"data row150 col1\" >1.98%</td>\n",
       "      <td id=\"T_4483c_row150_col2\" class=\"data row150 col2\" >2.90%</td>\n",
       "      <td id=\"T_4483c_row150_col3\" class=\"data row150 col3\" >4.94%</td>\n",
       "    </tr>\n",
       "    <tr>\n",
       "      <th id=\"T_4483c_level0_row151\" class=\"row_heading level0 row151\" >151</th>\n",
       "      <td id=\"T_4483c_row151_col0\" class=\"data row151 col0\" >Uganda</td>\n",
       "      <td id=\"T_4483c_row151_col1\" class=\"data row151 col1\" >-4.88%</td>\n",
       "      <td id=\"T_4483c_row151_col2\" class=\"data row151 col2\" >9.15%</td>\n",
       "      <td id=\"T_4483c_row151_col3\" class=\"data row151 col3\" >3.82%</td>\n",
       "    </tr>\n",
       "    <tr>\n",
       "      <th id=\"T_4483c_level0_row152\" class=\"row_heading level0 row152\" >152</th>\n",
       "      <td id=\"T_4483c_row152_col0\" class=\"data row152 col0\" >Ukraine</td>\n",
       "      <td id=\"T_4483c_row152_col1\" class=\"data row152 col1\" >-7.63%</td>\n",
       "      <td id=\"T_4483c_row152_col2\" class=\"data row152 col2\" >-5.27%</td>\n",
       "      <td id=\"T_4483c_row152_col3\" class=\"data row152 col3\" >-12.50%</td>\n",
       "    </tr>\n",
       "    <tr>\n",
       "      <th id=\"T_4483c_level0_row153\" class=\"row_heading level0 row153\" >153</th>\n",
       "      <td id=\"T_4483c_row153_col0\" class=\"data row153 col0\" >United Arab Emirates</td>\n",
       "      <td id=\"T_4483c_row153_col1\" class=\"data row153 col1\" >-4.75%</td>\n",
       "      <td id=\"T_4483c_row153_col2\" class=\"data row153 col2\" >1.14%</td>\n",
       "      <td id=\"T_4483c_row153_col3\" class=\"data row153 col3\" >-3.67%</td>\n",
       "    </tr>\n",
       "    <tr>\n",
       "      <th id=\"T_4483c_level0_row154\" class=\"row_heading level0 row154\" >154</th>\n",
       "      <td id=\"T_4483c_row154_col0\" class=\"data row154 col0\" >United Kingdom</td>\n",
       "      <td id=\"T_4483c_row154_col1\" class=\"data row154 col1\" >-2.07%</td>\n",
       "      <td id=\"T_4483c_row154_col2\" class=\"data row154 col2\" >-0.16%</td>\n",
       "      <td id=\"T_4483c_row154_col3\" class=\"data row154 col3\" >-2.23%</td>\n",
       "    </tr>\n",
       "    <tr>\n",
       "      <th id=\"T_4483c_level0_row155\" class=\"row_heading level0 row155\" >155</th>\n",
       "      <td id=\"T_4483c_row155_col0\" class=\"data row155 col0\" >United States</td>\n",
       "      <td id=\"T_4483c_row155_col1\" class=\"data row155 col1\" >-0.21%</td>\n",
       "      <td id=\"T_4483c_row155_col2\" class=\"data row155 col2\" >-1.56%</td>\n",
       "      <td id=\"T_4483c_row155_col3\" class=\"data row155 col3\" >-1.77%</td>\n",
       "    </tr>\n",
       "    <tr>\n",
       "      <th id=\"T_4483c_level0_row156\" class=\"row_heading level0 row156\" >156</th>\n",
       "      <td id=\"T_4483c_row156_col0\" class=\"data row156 col0\" >Uruguay</td>\n",
       "      <td id=\"T_4483c_row156_col1\" class=\"data row156 col1\" >0.93%</td>\n",
       "      <td id=\"T_4483c_row156_col2\" class=\"data row156 col2\" >-1.39%</td>\n",
       "      <td id=\"T_4483c_row156_col3\" class=\"data row156 col3\" >-0.48%</td>\n",
       "    </tr>\n",
       "    <tr>\n",
       "      <th id=\"T_4483c_level0_row157\" class=\"row_heading level0 row157\" >157</th>\n",
       "      <td id=\"T_4483c_row157_col0\" class=\"data row157 col0\" >Uzbekistan</td>\n",
       "      <td id=\"T_4483c_row157_col1\" class=\"data row157 col1\" >-0.27%</td>\n",
       "      <td id=\"T_4483c_row157_col2\" class=\"data row157 col2\" >-0.27%</td>\n",
       "      <td id=\"T_4483c_row157_col3\" class=\"data row157 col3\" >-0.53%</td>\n",
       "    </tr>\n",
       "    <tr>\n",
       "      <th id=\"T_4483c_level0_row158\" class=\"row_heading level0 row158\" >158</th>\n",
       "      <td id=\"T_4483c_row158_col0\" class=\"data row158 col0\" >Venezuela</td>\n",
       "      <td id=\"T_4483c_row158_col1\" class=\"data row158 col1\" >-10.66%</td>\n",
       "      <td id=\"T_4483c_row158_col2\" class=\"data row158 col2\" >-13.71%</td>\n",
       "      <td id=\"T_4483c_row158_col3\" class=\"data row158 col3\" >-22.91%</td>\n",
       "    </tr>\n",
       "    <tr>\n",
       "      <th id=\"T_4483c_level0_row159\" class=\"row_heading level0 row159\" >159</th>\n",
       "      <td id=\"T_4483c_row159_col0\" class=\"data row159 col0\" >Vietnam</td>\n",
       "      <td id=\"T_4483c_row159_col1\" class=\"data row159 col1\" >-5.58%</td>\n",
       "      <td id=\"T_4483c_row159_col2\" class=\"data row159 col2\" >0.26%</td>\n",
       "      <td id=\"T_4483c_row159_col3\" class=\"data row159 col3\" >-5.34%</td>\n",
       "    </tr>\n",
       "    <tr>\n",
       "      <th id=\"T_4483c_level0_row160\" class=\"row_heading level0 row160\" >160</th>\n",
       "      <td id=\"T_4483c_row160_col0\" class=\"data row160 col0\" >Yemen</td>\n",
       "      <td id=\"T_4483c_row160_col1\" class=\"data row160 col1\" >-8.66%</td>\n",
       "      <td id=\"T_4483c_row160_col2\" class=\"data row160 col2\" >-3.52%</td>\n",
       "      <td id=\"T_4483c_row160_col3\" class=\"data row160 col3\" >-11.87%</td>\n",
       "    </tr>\n",
       "    <tr>\n",
       "      <th id=\"T_4483c_level0_row161\" class=\"row_heading level0 row161\" >161</th>\n",
       "      <td id=\"T_4483c_row161_col0\" class=\"data row161 col0\" >Zambia</td>\n",
       "      <td id=\"T_4483c_row161_col1\" class=\"data row161 col1\" >-6.51%</td>\n",
       "      <td id=\"T_4483c_row161_col2\" class=\"data row161 col2\" >-5.86%</td>\n",
       "      <td id=\"T_4483c_row161_col3\" class=\"data row161 col3\" >-11.99%</td>\n",
       "    </tr>\n",
       "    <tr>\n",
       "      <th id=\"T_4483c_level0_row162\" class=\"row_heading level0 row162\" >162</th>\n",
       "      <td id=\"T_4483c_row162_col0\" class=\"data row162 col0\" >Zimbabwe</td>\n",
       "      <td id=\"T_4483c_row162_col1\" class=\"data row162 col1\" >-9.05%</td>\n",
       "      <td id=\"T_4483c_row162_col2\" class=\"data row162 col2\" >-7.58%</td>\n",
       "      <td id=\"T_4483c_row162_col3\" class=\"data row162 col3\" >-15.94%</td>\n",
       "    </tr>\n",
       "  </tbody>\n",
       "</table>\n"
      ],
      "text/plain": [
       "<pandas.io.formats.style.Styler at 0x18c127fa450>"
      ]
     },
     "metadata": {},
     "output_type": "display_data"
    }
   ],
   "source": [
    "#display all rows and columns\n",
    "pd.set_option('display.max_rows', None)\n",
    "\n",
    "#annual percent change of happiness score by years and countries\n",
    "co_yrs = world_df[['Country', 'Year', 'Happiness Score']].sort_values(['Country', 'Year']).reset_index(drop=True)\n",
    "\n",
    "#pivot data  \n",
    "co_pivot = co_yrs.pivot(index='Country', columns='Year')\n",
    "\n",
    "#edit col headers to only show year\n",
    "co_pivot.columns = [2015, 2016, 2017]\n",
    "\n",
    "#reset index\n",
    "annual_co = co_pivot.reset_index()\n",
    "\n",
    "#calc annual perc change \n",
    "c_ch16 = list((((annual_co[2016]-annual_co[2015])/annual_co[2015])*100))\n",
    "c_ch17 = list((((annual_co[2017]-annual_co[2016])/annual_co[2016])*100))\n",
    "all_ch = list((((annual_co[2017]-annual_co[2015])/annual_co[2015])*100))\n",
    "\n",
    "#combine country lists as dict w/ years as key\n",
    "co_data = {\n",
    "    2016: c_ch16,\n",
    "    2017: c_ch17,\n",
    "    'Overall':all_ch}\n",
    "\n",
    "#create country list for new df\n",
    "co_list =[x for x in annual_co['Country']]\n",
    "\n",
    "#create country perc change df and replace NA values \n",
    "co_perc_ch = pd.DataFrame(co_data, index=co_list).reset_index().rename(columns={'index':'Country'}).fillna(0)\n",
    "\n",
    "#convert year cols to float\n",
    "total_chs_co = co_perc_ch.convert_dtypes()\n",
    "\n",
    "\n",
    "#format df: round values & add percent symbol \n",
    "multi_yr_percs = total_chs_co.copy().style.format({2016: '{:,.2f}%'.format,\n",
    "                                                   2017: '{:,.2f}%'.format,\n",
    "                                                  'Overall': '{:,.2f}%'.format})\n",
    "\n",
    "#view data\n",
    "display(multi_yr_percs)"
   ]
  },
  {
   "cell_type": "markdown",
   "metadata": {},
   "source": [
    "#### Maximum and Minimum Percent Changes"
   ]
  },
  {
   "cell_type": "code",
   "execution_count": 66,
   "metadata": {},
   "outputs": [
    {
     "data": {
      "text/plain": [
       "Country         Togo\n",
       "Overall    23.106724\n",
       "Name: 146, dtype: object"
      ]
     },
     "metadata": {},
     "output_type": "display_data"
    },
    {
     "data": {
      "text/plain": [
       "Country    Central African Republic\n",
       "Overall                  -26.780857\n",
       "Name: 26, dtype: object"
      ]
     },
     "metadata": {},
     "output_type": "display_data"
    }
   ],
   "source": [
    "#filter df for countries and overall changes\n",
    "co_percents = total_chs_co[['Country', 'Overall']]\n",
    "\n",
    "#max\n",
    "display(co_percents.loc[co_percents['Overall'].idxmax()])\n",
    "\n",
    "#min\n",
    "display(co_percents.loc[co_percents['Overall'].idxmin()])"
   ]
  },
  {
   "cell_type": "markdown",
   "metadata": {},
   "source": [
    "## Step 4 - Visualizations"
   ]
  },
  {
   "cell_type": "code",
   "execution_count": 93,
   "metadata": {},
   "outputs": [
    {
     "data": {
      "image/png": "[encoded data removed]",
      "text/plain": [
       "<Figure size 2000x1000 with 7 Axes>"
      ]
     },
     "metadata": {},
     "output_type": "display_data"
    }
   ],
   "source": [
    "#filter data for plot\n",
    "scatter_df = world_df.iloc[:,[1,4, 5, 6, 7, 8, 9, 10, 11]].groupby('Country').sum().reset_index()\n",
    "\n",
    "#pivot df\n",
    "scatter_pivot = scatter_df.melt(id_vars=['Country', 'Happiness Score'], var_name='Metrics', value_name='Values')\n",
    "\n",
    "#create scatterplot & grid by metrics\n",
    "sns.relplot(scatter_pivot, x='Values', y='Happiness Score', hue='Metrics', col='Metrics', col_wrap=4, legend=False)\n",
    "plt.suptitle('Relationship between Happiness Score and Social Metrics', fontsize=20)\n",
    "plt.subplots_adjust(top=0.9)\n",
    "plt.show()"
   ]
  },
  {
   "cell_type": "code",
   "execution_count": 91,
   "metadata": {},
   "outputs": [
    {
     "data": {
      "image/png": "[encoded data removed]",
      "text/plain": [
       "<Figure size 640x480 with 2 Axes>"
      ]
     },
     "metadata": {},
     "output_type": "display_data"
    }
   ],
   "source": [
    "sns.heatmap(world_df.iloc[:,4:12].corr(), linewidths=0.5, linecolor=\"white\", fmt='.2f', annot=True)\n",
    "plt.title('Correlation between Social Metrics')\n",
    "plt.show()"
   ]
  },
  {
   "cell_type": "code",
   "execution_count": 89,
   "metadata": {},
   "outputs": [
    {
     "data": {
      "image/png": "[encoded data removed]",
      "text/plain": [
       "<Figure size 640x480 with 1 Axes>"
      ]
     },
     "metadata": {},
     "output_type": "display_data"
    }
   ],
   "source": [
    "#prep data for chart\n",
    "reg_df = world_df.iloc[:,[2, 5, 6, 7, 8, 9, 10, 11]].groupby('Region').mean()\n",
    "\n",
    "# get total of factors\n",
    "reg_df['Total'] = reg_df.sum(axis=1)\n",
    "\n",
    "# sort df by desc order by total\n",
    "reg_df.sort_values('Total', inplace=True)\n",
    "\n",
    "#plot \n",
    "reg_df.iloc[:,[0, 1, 2, 3, 4, 5, 6]].plot.barh(stacked=True)\n",
    "plt.legend(bbox_to_anchor=(1.05, 1), loc='upper left')\n",
    "plt.title('Average Happiness Factors by Region')\n",
    "plt.ylabel('')\n",
    "plt.show()\n"
   ]
  },
  {
   "cell_type": "code",
   "execution_count": 96,
   "metadata": {},
   "outputs": [
    {
     "data": {
      "application/vnd.plotly.v1+json": {
       "config": {
        "plotlyServerURL": "https://plot.ly"
       },
       "data": [
        {
         "alignmentgroup": "True",
         "customdata": [
          [
           "Denmark",
           "Western Europe",
           1,
           2
          ],
          [
           "Switzerland",
           "Western Europe",
           2,
           2.3333333333333335
          ],
          [
           "Iceland",
           "Western Europe",
           3,
           2.6666666666666665
          ],
          [
           "Norway",
           "Western Europe",
           4,
           3
          ],
          [
           "Finland",
           "Western Europe",
           5,
           5.333333333333333
          ],
          [
           "Canada",
           "North America",
           6,
           6
          ],
          [
           "Netherlands",
           "Western Europe",
           7,
           6.666666666666667
          ],
          [
           "New Zealand",
           "Australia and New Zealand",
           8,
           8.333333333333334
          ],
          [
           "Sweden",
           "Western Europe",
           9,
           9
          ],
          [
           "Australia",
           "Australia and New Zealand",
           10,
           9.666666666666666
          ]
         ],
         "hovertemplate": "<b>Rank: %{customdata[2]}</b><br><b>%{x}</b><br><b>%{customdata[1]}</b><br><br>Average Happiness Rank: %{customdata[3]:,.2f}<br>Average Happiness Score: %{y:.2f}<br><extra></extra>",
         "legendgroup": "",
         "marker": {
          "color": "green",
          "pattern": {
           "shape": ""
          }
         },
         "name": "",
         "offsetgroup": "",
         "orientation": "v",
         "showlegend": false,
         "textposition": "auto",
         "type": "bar",
         "x": [
          "Denmark",
          "Switzerland",
          "Iceland",
          "Norway",
          "Finland",
          "Canada",
          "Netherlands",
          "New Zealand",
          "Sweden",
          "Australia"
         ],
         "xaxis": "x",
         "y": [
          7.524999945322674,
          7.529999986012776,
          7.522000062306724,
          7.519000059763591,
          7.429333287556967,
          7.3823333282470704,
          7.364666618347168,
          7.311333376566569,
          7.31299997329712,
          7.293666639963786
         ],
         "yaxis": "y"
        },
        {
         "alignmentgroup": "True",
         "customdata": [
          [
           "Burundi",
           "Sub-Saharan Africa",
           1,
           156
          ],
          [
           "Syria",
           "Middle East and Northern Africa",
           2,
           154.66666666666666
          ],
          [
           "Togo",
           "Sub-Saharan Africa",
           3,
           154.33333333333334
          ],
          [
           "Rwanda",
           "Sub-Saharan Africa",
           4,
           152.33333333333334
          ],
          [
           "Central African Republic",
           "Sub-Saharan Africa",
           5,
           151.5
          ],
          [
           "Benin",
           "Sub-Saharan Africa",
           6,
           150.33333333333334
          ],
          [
           "Guinea",
           "Sub-Saharan Africa",
           7,
           150
          ],
          [
           "Afghanistan",
           "Southern Asia",
           8,
           149.33333333333334
          ],
          [
           "Tanzania",
           "Sub-Saharan Africa",
           9,
           149.33333333333334
          ],
          [
           "Madagascar",
           "Sub-Saharan Africa",
           10,
           146.33333333333334
          ]
         ],
         "hovertemplate": "<b>Rank: %{customdata[2]}</b><br><b>%{x}</b><br><b>%{customdata[1]}</b><br><br>Average Happiness Rank: %{customdata[3]:,.2f}<br>Average Happiness Score: %{y:.2f}<br><extra></extra>",
         "legendgroup": "",
         "marker": {
          "color": "red",
          "pattern": {
           "shape": ""
          }
         },
         "name": "",
         "offsetgroup": "",
         "orientation": "v",
         "showlegend": false,
         "textposition": "auto",
         "type": "bar",
         "x": [
          "Burundi",
          "Syria",
          "Togo",
          "Rwanda",
          "Central African Republic",
          "Benin",
          "Guinea",
          "Afghanistan",
          "Tanzania",
          "Madagascar"
         ],
         "xaxis": "x",
         "y": [
          2.9049999904632564,
          3.17899996439616,
          3.21233329518636,
          3.48366665204366,
          3.1855000391006447,
          3.4936666882832834,
          3.5899999898274735,
          3.5763333034515363,
          3.598666659037273,
          3.6733333511352533
         ],
         "yaxis": "y"
        }
       ],
       "layout": {
        "barmode": "relative",
        "height": 500,
        "legend": {
         "tracegroupgap": 0
        },
        "template": {
         "data": {
          "bar": [
           {
            "error_x": {
             "color": "#2a3f5f"
            },
            "error_y": {
             "color": "#2a3f5f"
            },
            "marker": {
             "line": {
              "color": "#E5ECF6",
              "width": 0.5
             },
             "pattern": {
              "fillmode": "overlay",
              "size": 10,
              "solidity": 0.2
             }
            },
            "type": "bar"
           }
          ],
          "barpolar": [
           {
            "marker": {
             "line": {
              "color": "#E5ECF6",
              "width": 0.5
             },
             "pattern": {
              "fillmode": "overlay",
              "size": 10,
              "solidity": 0.2
             }
            },
            "type": "barpolar"
           }
          ],
          "carpet": [
           {
            "aaxis": {
             "endlinecolor": "#2a3f5f",
             "gridcolor": "white",
             "linecolor": "white",
             "minorgridcolor": "white",
             "startlinecolor": "#2a3f5f"
            },
            "baxis": {
             "endlinecolor": "#2a3f5f",
             "gridcolor": "white",
             "linecolor": "white",
             "minorgridcolor": "white",
             "startlinecolor": "#2a3f5f"
            },
            "type": "carpet"
           }
          ],
          "choropleth": [
           {
            "colorbar": {
             "outlinewidth": 0,
             "ticks": ""
            },
            "type": "choropleth"
           }
          ],
          "contour": [
           {
            "colorbar": {
             "outlinewidth": 0,
             "ticks": ""
            },
            "colorscale": [
             [
              0,
              "#0d0887"
             ],
             [
              0.1111111111111111,
              "#46039f"
             ],
             [
              0.2222222222222222,
              "#7201a8"
             ],
             [
              0.3333333333333333,
              "#9c179e"
             ],
             [
              0.4444444444444444,
              "#bd3786"
             ],
             [
              0.5555555555555556,
              "#d8576b"
             ],
             [
              0.6666666666666666,
              "#ed7953"
             ],
             [
              0.7777777777777778,
              "#fb9f3a"
             ],
             [
              0.8888888888888888,
              "#fdca26"
             ],
             [
              1,
              "#f0f921"
             ]
            ],
            "type": "contour"
           }
          ],
          "contourcarpet": [
           {
            "colorbar": {
             "outlinewidth": 0,
             "ticks": ""
            },
            "type": "contourcarpet"
           }
          ],
          "heatmap": [
           {
            "colorbar": {
             "outlinewidth": 0,
             "ticks": ""
            },
            "colorscale": [
             [
              0,
              "#0d0887"
             ],
             [
              0.1111111111111111,
              "#46039f"
             ],
             [
              0.2222222222222222,
              "#7201a8"
             ],
             [
              0.3333333333333333,
              "#9c179e"
             ],
             [
              0.4444444444444444,
              "#bd3786"
             ],
             [
              0.5555555555555556,
              "#d8576b"
             ],
             [
              0.6666666666666666,
              "#ed7953"
             ],
             [
              0.7777777777777778,
              "#fb9f3a"
             ],
             [
              0.8888888888888888,
              "#fdca26"
             ],
             [
              1,
              "#f0f921"
             ]
            ],
            "type": "heatmap"
           }
          ],
          "heatmapgl": [
           {
            "colorbar": {
             "outlinewidth": 0,
             "ticks": ""
            },
            "colorscale": [
             [
              0,
              "#0d0887"
             ],
             [
              0.1111111111111111,
              "#46039f"
             ],
             [
              0.2222222222222222,
              "#7201a8"
             ],
             [
              0.3333333333333333,
              "#9c179e"
             ],
             [
              0.4444444444444444,
              "#bd3786"
             ],
             [
              0.5555555555555556,
              "#d8576b"
             ],
             [
              0.6666666666666666,
              "#ed7953"
             ],
             [
              0.7777777777777778,
              "#fb9f3a"
             ],
             [
              0.8888888888888888,
              "#fdca26"
             ],
             [
              1,
              "#f0f921"
             ]
            ],
            "type": "heatmapgl"
           }
          ],
          "histogram": [
           {
            "marker": {
             "pattern": {
              "fillmode": "overlay",
              "size": 10,
              "solidity": 0.2
             }
            },
            "type": "histogram"
           }
          ],
          "histogram2d": [
           {
            "colorbar": {
             "outlinewidth": 0,
             "ticks": ""
            },
            "colorscale": [
             [
              0,
              "#0d0887"
             ],
             [
              0.1111111111111111,
              "#46039f"
             ],
             [
              0.2222222222222222,
              "#7201a8"
             ],
             [
              0.3333333333333333,
              "#9c179e"
             ],
             [
              0.4444444444444444,
              "#bd3786"
             ],
             [
              0.5555555555555556,
              "#d8576b"
             ],
             [
              0.6666666666666666,
              "#ed7953"
             ],
             [
              0.7777777777777778,
              "#fb9f3a"
             ],
             [
              0.8888888888888888,
              "#fdca26"
             ],
             [
              1,
              "#f0f921"
             ]
            ],
            "type": "histogram2d"
           }
          ],
          "histogram2dcontour": [
           {
            "colorbar": {
             "outlinewidth": 0,
             "ticks": ""
            },
            "colorscale": [
             [
              0,
              "#0d0887"
             ],
             [
              0.1111111111111111,
              "#46039f"
             ],
             [
              0.2222222222222222,
              "#7201a8"
             ],
             [
              0.3333333333333333,
              "#9c179e"
             ],
             [
              0.4444444444444444,
              "#bd3786"
             ],
             [
              0.5555555555555556,
              "#d8576b"
             ],
             [
              0.6666666666666666,
              "#ed7953"
             ],
             [
              0.7777777777777778,
              "#fb9f3a"
             ],
             [
              0.8888888888888888,
              "#fdca26"
             ],
             [
              1,
              "#f0f921"
             ]
            ],
            "type": "histogram2dcontour"
           }
          ],
          "mesh3d": [
           {
            "colorbar": {
             "outlinewidth": 0,
             "ticks": ""
            },
            "type": "mesh3d"
           }
          ],
          "parcoords": [
           {
            "line": {
             "colorbar": {
              "outlinewidth": 0,
              "ticks": ""
             }
            },
            "type": "parcoords"
           }
          ],
          "pie": [
           {
            "automargin": true,
            "type": "pie"
           }
          ],
          "scatter": [
           {
            "fillpattern": {
             "fillmode": "overlay",
             "size": 10,
             "solidity": 0.2
            },
            "type": "scatter"
           }
          ],
          "scatter3d": [
           {
            "line": {
             "colorbar": {
              "outlinewidth": 0,
              "ticks": ""
             }
            },
            "marker": {
             "colorbar": {
              "outlinewidth": 0,
              "ticks": ""
             }
            },
            "type": "scatter3d"
           }
          ],
          "scattercarpet": [
           {
            "marker": {
             "colorbar": {
              "outlinewidth": 0,
              "ticks": ""
             }
            },
            "type": "scattercarpet"
           }
          ],
          "scattergeo": [
           {
            "marker": {
             "colorbar": {
              "outlinewidth": 0,
              "ticks": ""
             }
            },
            "type": "scattergeo"
           }
          ],
          "scattergl": [
           {
            "marker": {
             "colorbar": {
              "outlinewidth": 0,
              "ticks": ""
             }
            },
            "type": "scattergl"
           }
          ],
          "scattermapbox": [
           {
            "marker": {
             "colorbar": {
              "outlinewidth": 0,
              "ticks": ""
             }
            },
            "type": "scattermapbox"
           }
          ],
          "scatterpolar": [
           {
            "marker": {
             "colorbar": {
              "outlinewidth": 0,
              "ticks": ""
             }
            },
            "type": "scatterpolar"
           }
          ],
          "scatterpolargl": [
           {
            "marker": {
             "colorbar": {
              "outlinewidth": 0,
              "ticks": ""
             }
            },
            "type": "scatterpolargl"
           }
          ],
          "scatterternary": [
           {
            "marker": {
             "colorbar": {
              "outlinewidth": 0,
              "ticks": ""
             }
            },
            "type": "scatterternary"
           }
          ],
          "surface": [
           {
            "colorbar": {
             "outlinewidth": 0,
             "ticks": ""
            },
            "colorscale": [
             [
              0,
              "#0d0887"
             ],
             [
              0.1111111111111111,
              "#46039f"
             ],
             [
              0.2222222222222222,
              "#7201a8"
             ],
             [
              0.3333333333333333,
              "#9c179e"
             ],
             [
              0.4444444444444444,
              "#bd3786"
             ],
             [
              0.5555555555555556,
              "#d8576b"
             ],
             [
              0.6666666666666666,
              "#ed7953"
             ],
             [
              0.7777777777777778,
              "#fb9f3a"
             ],
             [
              0.8888888888888888,
              "#fdca26"
             ],
             [
              1,
              "#f0f921"
             ]
            ],
            "type": "surface"
           }
          ],
          "table": [
           {
            "cells": {
             "fill": {
              "color": "#EBF0F8"
             },
             "line": {
              "color": "white"
             }
            },
            "header": {
             "fill": {
              "color": "#C8D4E3"
             },
             "line": {
              "color": "white"
             }
            },
            "type": "table"
           }
          ]
         },
         "layout": {
          "annotationdefaults": {
           "arrowcolor": "#2a3f5f",
           "arrowhead": 0,
           "arrowwidth": 1
          },
          "autotypenumbers": "strict",
          "coloraxis": {
           "colorbar": {
            "outlinewidth": 0,
            "ticks": ""
           }
          },
          "colorscale": {
           "diverging": [
            [
             0,
             "#8e0152"
            ],
            [
             0.1,
             "#c51b7d"
            ],
            [
             0.2,
             "#de77ae"
            ],
            [
             0.3,
             "#f1b6da"
            ],
            [
             0.4,
             "#fde0ef"
            ],
            [
             0.5,
             "#f7f7f7"
            ],
            [
             0.6,
             "#e6f5d0"
            ],
            [
             0.7,
             "#b8e186"
            ],
            [
             0.8,
             "#7fbc41"
            ],
            [
             0.9,
             "#4d9221"
            ],
            [
             1,
             "#276419"
            ]
           ],
           "sequential": [
            [
             0,
             "#0d0887"
            ],
            [
             0.1111111111111111,
             "#46039f"
            ],
            [
             0.2222222222222222,
             "#7201a8"
            ],
            [
             0.3333333333333333,
             "#9c179e"
            ],
            [
             0.4444444444444444,
             "#bd3786"
            ],
            [
             0.5555555555555556,
             "#d8576b"
            ],
            [
             0.6666666666666666,
             "#ed7953"
            ],
            [
             0.7777777777777778,
             "#fb9f3a"
            ],
            [
             0.8888888888888888,
             "#fdca26"
            ],
            [
             1,
             "#f0f921"
            ]
           ],
           "sequentialminus": [
            [
             0,
             "#0d0887"
            ],
            [
             0.1111111111111111,
             "#46039f"
            ],
            [
             0.2222222222222222,
             "#7201a8"
            ],
            [
             0.3333333333333333,
             "#9c179e"
            ],
            [
             0.4444444444444444,
             "#bd3786"
            ],
            [
             0.5555555555555556,
             "#d8576b"
            ],
            [
             0.6666666666666666,
             "#ed7953"
            ],
            [
             0.7777777777777778,
             "#fb9f3a"
            ],
            [
             0.8888888888888888,
             "#fdca26"
            ],
            [
             1,
             "#f0f921"
            ]
           ]
          },
          "colorway": [
           "#636efa",
           "#EF553B",
           "#00cc96",
           "#ab63fa",
           "#FFA15A",
           "#19d3f3",
           "#FF6692",
           "#B6E880",
           "#FF97FF",
           "#FECB52"
          ],
          "font": {
           "color": "#2a3f5f"
          },
          "geo": {
           "bgcolor": "white",
           "lakecolor": "white",
           "landcolor": "#E5ECF6",
           "showlakes": true,
           "showland": true,
           "subunitcolor": "white"
          },
          "hoverlabel": {
           "align": "left"
          },
          "hovermode": "closest",
          "mapbox": {
           "style": "light"
          },
          "paper_bgcolor": "white",
          "plot_bgcolor": "#E5ECF6",
          "polar": {
           "angularaxis": {
            "gridcolor": "white",
            "linecolor": "white",
            "ticks": ""
           },
           "bgcolor": "#E5ECF6",
           "radialaxis": {
            "gridcolor": "white",
            "linecolor": "white",
            "ticks": ""
           }
          },
          "scene": {
           "xaxis": {
            "backgroundcolor": "#E5ECF6",
            "gridcolor": "white",
            "gridwidth": 2,
            "linecolor": "white",
            "showbackground": true,
            "ticks": "",
            "zerolinecolor": "white"
           },
           "yaxis": {
            "backgroundcolor": "#E5ECF6",
            "gridcolor": "white",
            "gridwidth": 2,
            "linecolor": "white",
            "showbackground": true,
            "ticks": "",
            "zerolinecolor": "white"
           },
           "zaxis": {
            "backgroundcolor": "#E5ECF6",
            "gridcolor": "white",
            "gridwidth": 2,
            "linecolor": "white",
            "showbackground": true,
            "ticks": "",
            "zerolinecolor": "white"
           }
          },
          "shapedefaults": {
           "line": {
            "color": "#2a3f5f"
           }
          },
          "ternary": {
           "aaxis": {
            "gridcolor": "white",
            "linecolor": "white",
            "ticks": ""
           },
           "baxis": {
            "gridcolor": "white",
            "linecolor": "white",
            "ticks": ""
           },
           "bgcolor": "#E5ECF6",
           "caxis": {
            "gridcolor": "white",
            "linecolor": "white",
            "ticks": ""
           }
          },
          "title": {
           "x": 0.05
          },
          "xaxis": {
           "automargin": true,
           "gridcolor": "white",
           "linecolor": "white",
           "ticks": "",
           "title": {
            "standoff": 15
           },
           "zerolinecolor": "white",
           "zerolinewidth": 2
          },
          "yaxis": {
           "automargin": true,
           "gridcolor": "white",
           "linecolor": "white",
           "ticks": "",
           "title": {
            "standoff": 15
           },
           "zerolinecolor": "white",
           "zerolinewidth": 2
          }
         }
        },
        "title": {
         "text": "<b>Overall Top and Bottom 10 Happiest Countries"
        },
        "width": 900,
        "xaxis": {
         "anchor": "y",
         "domain": [
          0,
          1
         ],
         "title": {
          "text": "Country"
         }
        },
        "yaxis": {
         "anchor": "x",
         "domain": [
          0,
          1
         ],
         "title": {
          "text": "Average Happiness Score"
         }
        }
       }
      }
     },
     "metadata": {},
     "output_type": "display_data"
    }
   ],
   "source": [
    "#prep dfs\n",
    "#top 10 happiest country by avg happiness rank\n",
    "tops = world_df.groupby(['Country', 'Region'])[['Happiness Rank', 'Happiness Score']].mean().nsmallest(10, 'Happiness Rank').reset_index()\n",
    "\n",
    "tops['Average Happiness Rank'] = tops['Happiness Rank']\n",
    "tops['Happiness Rank'] = list(range(1,11))\n",
    "\n",
    "\n",
    "#bottom 10 happiest country by avg happiness rank\n",
    "bots = world_df.groupby(['Country', 'Region'])[['Happiness Rank', 'Happiness Score']].mean().nlargest(10, 'Happiness Rank').reset_index()\n",
    "\n",
    "bots['Average Happiness Rank'] = bots['Happiness Rank']\n",
    "bots['Happiness Rank'] = list(range(1,11))\n",
    "\n",
    "#merge both dfs\n",
    "ranks_df = pd.concat([tops,bots], join='outer').reset_index(drop=True).rename(columns={'Happiness Rank': 'Overall Happiness Rank', 'Happiness Score': 'Average Happiness Score'})\n",
    "\n",
    "#assign colors\n",
    "rank_colors = ['green' if float(x) > 5 else 'red' for x in ranks_df['Average Happiness Score']]\n",
    "\n",
    "#plot chart\n",
    "fig = px.bar(ranks_df, x='Country', y='Average Happiness Score', color=rank_colors, color_discrete_map='identity', \n",
    "             custom_data=['Country','Region','Overall Happiness Rank','Average Happiness Rank'],\n",
    "             title='<b>Overall Top and Bottom 10 Happiest Countries', height=500, width=900)\n",
    "\n",
    "fig.update_traces(hovertemplate = \n",
    "                \"<b>Rank: %{customdata[2]}</b><br>\" +\n",
    "                \"<b>%{x}</b><br>\" +\n",
    "                \"<b>%{customdata[1]}</b><br><br>\" +\n",
    "                \"Average Happiness Rank: %{customdata[3]:,.2f}<br>\" +\n",
    "                \"Average Happiness Score: %{y:.2f}<br>\" +\n",
    "                \"<extra></extra>\")\n",
    "fig.show()"
   ]
  },
  {
   "cell_type": "code",
   "execution_count": 95,
   "metadata": {},
   "outputs": [
    {
     "data": {
      "application/vnd.plotly.v1+json": {
       "config": {
        "plotlyServerURL": "https://plot.ly"
       },
       "data": [
        {
         "alignmentgroup": "True",
         "hovertemplate": "%{x}<br>%{y:,.2f}%",
         "legendgroup": "",
         "marker": {
          "color": "green",
          "pattern": {
           "shape": ""
          }
         },
         "name": "",
         "offsetgroup": "",
         "orientation": "v",
         "showlegend": false,
         "textposition": "auto",
         "type": "bar",
         "x": [
          "Afghanistan",
          "Algeria",
          "Argentina",
          "Armenia",
          "Azerbaijan",
          "Bahrain",
          "Benin",
          "Bosnia and Herzegovina",
          "Bulgaria",
          "Burkina Faso",
          "Cambodia",
          "Cameroon",
          "Chad",
          "China",
          "Congo (Brazzaville)",
          "Czech Republic",
          "Dominican Republic",
          "Ecuador",
          "Egypt",
          "Estonia",
          "Finland",
          "Gabon",
          "Germany",
          "Greece",
          "Guatemala",
          "Honduras",
          "Hungary",
          "Iran",
          "Ireland",
          "Italy",
          "Ivory Coast",
          "Jordan",
          "Kenya",
          "Latvia",
          "Lebanon",
          "Lithuania",
          "Macedonia",
          "Malaysia",
          "Mali",
          "Malta",
          "Mauritius",
          "Mongolia",
          "Montenegro",
          "Morocco",
          "Myanmar",
          "Nepal",
          "New Zealand",
          "Nicaragua",
          "Niger",
          "North Cyprus",
          "Norway",
          "Pakistan",
          "Palestinian Territories",
          "Philippines",
          "Poland",
          "Portugal",
          "Romania",
          "Russia",
          "Rwanda",
          "Senegal",
          "Serbia",
          "Sierra Leone",
          "Slovakia",
          "South Africa",
          "Spain",
          "Sri Lanka",
          "Syria",
          "Taiwan",
          "Tajikistan",
          "Togo",
          "Trinidad and Tobago",
          "Tunisia",
          "Turkey",
          "Turkmenistan",
          "Uganda"
         ],
         "xaxis": "x",
         "y": [
          6.125871618310759,
          4.763607804419969,
          0.38028562689108786,
          0.5976994832356445,
          0.4221067918965836,
          2.1308706910818818,
          9.491019905684135,
          4.70802505995736,
          11.759132884474623,
          12.405912039304425,
          9.138523730097923,
          10.418630565883817,
          7.335699719631035,
          2.587544036746513,
          7.570816981042375,
          1.5987733434842395,
          7.062436419109316,
          0.5522995314338182,
          12.899383250224128,
          3.3523680426443088,
          0.8506597714137256,
          14.604726709134749,
          2.9777809425637103,
          7.61787598334835,
          5.40584674481953,
          8.208024910119661,
          10.916664203007928,
          0.12803910076739827,
          0.5331446183174234,
          0.2690017664280289,
          14.363880392301521,
          2.7734970274984594,
          3.0323596582285686,
          14.75088082841448,
          7.976852751241366,
          1.1829238883754467,
          3.355306385757141,
          5.441942991788912,
          4.881102809022773,
          3.5702943574887405,
          2.7752453335798655,
          1.6618777945435081,
          0.8667178073172151,
          4.428488599928186,
          5.525889860551413,
          9.924676410910054,
          0.38430043507699846,
          4.169528125980259,
          4.759424653568009,
          2.019314184012991,
          0.19941743274088627,
          1.4439748441617248,
          1.272536487114104,
          7.037252677678296,
          3.1428086615620727,
          1.822817947106611,
          13.6807144665328,
          4.321200502260848,
          0.17315890709899728,
          16.162905927564303,
          5.3093886575543605,
          4.481919472514314,
          1.7180992425531258,
          4.028435936779399,
          1.169219117233219,
          3.9569200941339258,
          15.169657125365282,
          1.9688779189496675,
          5.3280378055532935,
          23.10672368999929,
          0.0000035871018074040074,
          1.3926952593083035,
          3.1507876969242337,
          4.93871713595674,
          3.81581916120097
         ],
         "yaxis": "y"
        },
        {
         "alignmentgroup": "True",
         "hovertemplate": "%{x}<br>%{y:,.2f}%",
         "legendgroup": "",
         "marker": {
          "color": "red",
          "pattern": {
           "shape": ""
          }
         },
         "name": "",
         "offsetgroup": "",
         "orientation": "v",
         "showlegend": false,
         "textposition": "auto",
         "type": "bar",
         "x": [
          "Albania",
          "Angola",
          "Australia",
          "Austria",
          "Bangladesh",
          "Belarus",
          "Belgium",
          "Belize",
          "Bhutan",
          "Bolivia",
          "Botswana",
          "Brazil",
          "Burundi",
          "Canada",
          "Central African Republic",
          "Chile",
          "Colombia",
          "Comoros",
          "Congo (Kinshasa)",
          "Costa Rica",
          "Croatia",
          "Cyprus",
          "Denmark",
          "Djibouti",
          "El Salvador",
          "Ethiopia",
          "France",
          "Georgia",
          "Ghana",
          "Guinea",
          "Haiti",
          "Hong Kong",
          "Iceland",
          "India",
          "Indonesia",
          "Iraq",
          "Israel",
          "Jamaica",
          "Japan",
          "Kazakhstan",
          "Kosovo",
          "Kuwait",
          "Kyrgyzstan",
          "Laos",
          "Lesotho",
          "Liberia",
          "Libya",
          "Luxembourg",
          "Madagascar",
          "Malawi",
          "Mauritania",
          "Mexico",
          "Moldova",
          "Mozambique",
          "Namibia",
          "Netherlands",
          "Nigeria",
          "Oman",
          "Panama",
          "Paraguay",
          "Peru",
          "Puerto Rico",
          "Qatar",
          "Saudi Arabia",
          "Singapore",
          "Slovenia",
          "Somalia",
          "Somaliland Region",
          "South Korea",
          "South Sudan",
          "Sudan",
          "Suriname",
          "Swaziland",
          "Sweden",
          "Switzerland",
          "Tanzania",
          "Thailand",
          "Ukraine",
          "United Arab Emirates",
          "United Kingdom",
          "United States",
          "Uruguay",
          "Uzbekistan",
          "Venezuela",
          "Vietnam",
          "Yemen",
          "Zambia",
          "Zimbabwe"
         ],
         "xaxis": "x",
         "y": [
          -6.352086037391404,
          -5.901312266453016,
          -0.0000010997891230332675,
          -2.694443861643476,
          -1.8321303443600243,
          -4.197492391132451,
          -0.6631138243282393,
          0,
          -4.606888322813829,
          -1.1375219995988037,
          -13.065557884927747,
          -4.9835281557806,
          -9.848616089802913e-7,
          -1.4945471288378829,
          -26.78085703639777,
          -0.2698658109604189,
          -1.852711531341826,
          0,
          -5.246840606412458,
          -2.0343205620633813,
          -8.091678741926735,
          -1.1952924401506348,
          -0.06642970681519719,
          0,
          -2.071781687401951,
          -1.1524814240476415,
          -2.0228150226317863,
          -0.255997790717693,
          -11.072741516100146,
          -4.075493176082605,
          -20.252325683634343,
          -0.036534123669900685,
          -0.753866063745938,
          -5.476450006123559,
          -2.5375053913069117,
          -3.8486162617545414,
          -0.8931049641490697,
          -6.9714508617920705,
          -1.1190900902964813,
          -0.6148630691123839,
          -5.546612892280551,
          -3.018268164043051,
          -5.33484322890333,
          0,
          -22.253979425519795,
          -22.708379077431413,
          -3.979838453815949,
          -1.1949335433823722,
          -1.0051601900092395,
          -7.502329249528655,
          -3.24617184638119,
          -8.47363199297969,
          -0.8660244403255212,
          -8.469117064275606,
          0,
          -0.013555773359985908,
          -3.682614241754356,
          0,
          -4.921895945419981,
          -6.549846367513103,
          -1.8715633140815608,
          0,
          -3.569807895931021,
          -1.0450809129480483,
          -3.324506815197412,
          -1.5389894493301914,
          0,
          0,
          -2.4398425683617933,
          0,
          -9.032968374399113,
          0,
          0,
          -1.0863671932189,
          -1.2257814941567111,
          -11.42554940196192,
          -0.48025117928815647,
          -12.497325474267045,
          -3.6661387699062367,
          -2.2280439046579352,
          -1.7699110757468728,
          -0.47802627316422897,
          -0.5330635590611437,
          -22.907488986784134,
          -5.335823101783955,
          -11.871475713756437,
          -11.99064264057632,
          -15.943600867678963
         ],
         "yaxis": "y"
        }
       ],
       "layout": {
        "barmode": "relative",
        "height": 700,
        "legend": {
         "tracegroupgap": 0
        },
        "template": {
         "data": {
          "bar": [
           {
            "error_x": {
             "color": "#2a3f5f"
            },
            "error_y": {
             "color": "#2a3f5f"
            },
            "marker": {
             "line": {
              "color": "#E5ECF6",
              "width": 0.5
             },
             "pattern": {
              "fillmode": "overlay",
              "size": 10,
              "solidity": 0.2
             }
            },
            "type": "bar"
           }
          ],
          "barpolar": [
           {
            "marker": {
             "line": {
              "color": "#E5ECF6",
              "width": 0.5
             },
             "pattern": {
              "fillmode": "overlay",
              "size": 10,
              "solidity": 0.2
             }
            },
            "type": "barpolar"
           }
          ],
          "carpet": [
           {
            "aaxis": {
             "endlinecolor": "#2a3f5f",
             "gridcolor": "white",
             "linecolor": "white",
             "minorgridcolor": "white",
             "startlinecolor": "#2a3f5f"
            },
            "baxis": {
             "endlinecolor": "#2a3f5f",
             "gridcolor": "white",
             "linecolor": "white",
             "minorgridcolor": "white",
             "startlinecolor": "#2a3f5f"
            },
            "type": "carpet"
           }
          ],
          "choropleth": [
           {
            "colorbar": {
             "outlinewidth": 0,
             "ticks": ""
            },
            "type": "choropleth"
           }
          ],
          "contour": [
           {
            "colorbar": {
             "outlinewidth": 0,
             "ticks": ""
            },
            "colorscale": [
             [
              0,
              "#0d0887"
             ],
             [
              0.1111111111111111,
              "#46039f"
             ],
             [
              0.2222222222222222,
              "#7201a8"
             ],
             [
              0.3333333333333333,
              "#9c179e"
             ],
             [
              0.4444444444444444,
              "#bd3786"
             ],
             [
              0.5555555555555556,
              "#d8576b"
             ],
             [
              0.6666666666666666,
              "#ed7953"
             ],
             [
              0.7777777777777778,
              "#fb9f3a"
             ],
             [
              0.8888888888888888,
              "#fdca26"
             ],
             [
              1,
              "#f0f921"
             ]
            ],
            "type": "contour"
           }
          ],
          "contourcarpet": [
           {
            "colorbar": {
             "outlinewidth": 0,
             "ticks": ""
            },
            "type": "contourcarpet"
           }
          ],
          "heatmap": [
           {
            "colorbar": {
             "outlinewidth": 0,
             "ticks": ""
            },
            "colorscale": [
             [
              0,
              "#0d0887"
             ],
             [
              0.1111111111111111,
              "#46039f"
             ],
             [
              0.2222222222222222,
              "#7201a8"
             ],
             [
              0.3333333333333333,
              "#9c179e"
             ],
             [
              0.4444444444444444,
              "#bd3786"
             ],
             [
              0.5555555555555556,
              "#d8576b"
             ],
             [
              0.6666666666666666,
              "#ed7953"
             ],
             [
              0.7777777777777778,
              "#fb9f3a"
             ],
             [
              0.8888888888888888,
              "#fdca26"
             ],
             [
              1,
              "#f0f921"
             ]
            ],
            "type": "heatmap"
           }
          ],
          "heatmapgl": [
           {
            "colorbar": {
             "outlinewidth": 0,
             "ticks": ""
            },
            "colorscale": [
             [
              0,
              "#0d0887"
             ],
             [
              0.1111111111111111,
              "#46039f"
             ],
             [
              0.2222222222222222,
              "#7201a8"
             ],
             [
              0.3333333333333333,
              "#9c179e"
             ],
             [
              0.4444444444444444,
              "#bd3786"
             ],
             [
              0.5555555555555556,
              "#d8576b"
             ],
             [
              0.6666666666666666,
              "#ed7953"
             ],
             [
              0.7777777777777778,
              "#fb9f3a"
             ],
             [
              0.8888888888888888,
              "#fdca26"
             ],
             [
              1,
              "#f0f921"
             ]
            ],
            "type": "heatmapgl"
           }
          ],
          "histogram": [
           {
            "marker": {
             "pattern": {
              "fillmode": "overlay",
              "size": 10,
              "solidity": 0.2
             }
            },
            "type": "histogram"
           }
          ],
          "histogram2d": [
           {
            "colorbar": {
             "outlinewidth": 0,
             "ticks": ""
            },
            "colorscale": [
             [
              0,
              "#0d0887"
             ],
             [
              0.1111111111111111,
              "#46039f"
             ],
             [
              0.2222222222222222,
              "#7201a8"
             ],
             [
              0.3333333333333333,
              "#9c179e"
             ],
             [
              0.4444444444444444,
              "#bd3786"
             ],
             [
              0.5555555555555556,
              "#d8576b"
             ],
             [
              0.6666666666666666,
              "#ed7953"
             ],
             [
              0.7777777777777778,
              "#fb9f3a"
             ],
             [
              0.8888888888888888,
              "#fdca26"
             ],
             [
              1,
              "#f0f921"
             ]
            ],
            "type": "histogram2d"
           }
          ],
          "histogram2dcontour": [
           {
            "colorbar": {
             "outlinewidth": 0,
             "ticks": ""
            },
            "colorscale": [
             [
              0,
              "#0d0887"
             ],
             [
              0.1111111111111111,
              "#46039f"
             ],
             [
              0.2222222222222222,
              "#7201a8"
             ],
             [
              0.3333333333333333,
              "#9c179e"
             ],
             [
              0.4444444444444444,
              "#bd3786"
             ],
             [
              0.5555555555555556,
              "#d8576b"
             ],
             [
              0.6666666666666666,
              "#ed7953"
             ],
             [
              0.7777777777777778,
              "#fb9f3a"
             ],
             [
              0.8888888888888888,
              "#fdca26"
             ],
             [
              1,
              "#f0f921"
             ]
            ],
            "type": "histogram2dcontour"
           }
          ],
          "mesh3d": [
           {
            "colorbar": {
             "outlinewidth": 0,
             "ticks": ""
            },
            "type": "mesh3d"
           }
          ],
          "parcoords": [
           {
            "line": {
             "colorbar": {
              "outlinewidth": 0,
              "ticks": ""
             }
            },
            "type": "parcoords"
           }
          ],
          "pie": [
           {
            "automargin": true,
            "type": "pie"
           }
          ],
          "scatter": [
           {
            "fillpattern": {
             "fillmode": "overlay",
             "size": 10,
             "solidity": 0.2
            },
            "type": "scatter"
           }
          ],
          "scatter3d": [
           {
            "line": {
             "colorbar": {
              "outlinewidth": 0,
              "ticks": ""
             }
            },
            "marker": {
             "colorbar": {
              "outlinewidth": 0,
              "ticks": ""
             }
            },
            "type": "scatter3d"
           }
          ],
          "scattercarpet": [
           {
            "marker": {
             "colorbar": {
              "outlinewidth": 0,
              "ticks": ""
             }
            },
            "type": "scattercarpet"
           }
          ],
          "scattergeo": [
           {
            "marker": {
             "colorbar": {
              "outlinewidth": 0,
              "ticks": ""
             }
            },
            "type": "scattergeo"
           }
          ],
          "scattergl": [
           {
            "marker": {
             "colorbar": {
              "outlinewidth": 0,
              "ticks": ""
             }
            },
            "type": "scattergl"
           }
          ],
          "scattermapbox": [
           {
            "marker": {
             "colorbar": {
              "outlinewidth": 0,
              "ticks": ""
             }
            },
            "type": "scattermapbox"
           }
          ],
          "scatterpolar": [
           {
            "marker": {
             "colorbar": {
              "outlinewidth": 0,
              "ticks": ""
             }
            },
            "type": "scatterpolar"
           }
          ],
          "scatterpolargl": [
           {
            "marker": {
             "colorbar": {
              "outlinewidth": 0,
              "ticks": ""
             }
            },
            "type": "scatterpolargl"
           }
          ],
          "scatterternary": [
           {
            "marker": {
             "colorbar": {
              "outlinewidth": 0,
              "ticks": ""
             }
            },
            "type": "scatterternary"
           }
          ],
          "surface": [
           {
            "colorbar": {
             "outlinewidth": 0,
             "ticks": ""
            },
            "colorscale": [
             [
              0,
              "#0d0887"
             ],
             [
              0.1111111111111111,
              "#46039f"
             ],
             [
              0.2222222222222222,
              "#7201a8"
             ],
             [
              0.3333333333333333,
              "#9c179e"
             ],
             [
              0.4444444444444444,
              "#bd3786"
             ],
             [
              0.5555555555555556,
              "#d8576b"
             ],
             [
              0.6666666666666666,
              "#ed7953"
             ],
             [
              0.7777777777777778,
              "#fb9f3a"
             ],
             [
              0.8888888888888888,
              "#fdca26"
             ],
             [
              1,
              "#f0f921"
             ]
            ],
            "type": "surface"
           }
          ],
          "table": [
           {
            "cells": {
             "fill": {
              "color": "#EBF0F8"
             },
             "line": {
              "color": "white"
             }
            },
            "header": {
             "fill": {
              "color": "#C8D4E3"
             },
             "line": {
              "color": "white"
             }
            },
            "type": "table"
           }
          ]
         },
         "layout": {
          "annotationdefaults": {
           "arrowcolor": "#2a3f5f",
           "arrowhead": 0,
           "arrowwidth": 1
          },
          "autotypenumbers": "strict",
          "coloraxis": {
           "colorbar": {
            "outlinewidth": 0,
            "ticks": ""
           }
          },
          "colorscale": {
           "diverging": [
            [
             0,
             "#8e0152"
            ],
            [
             0.1,
             "#c51b7d"
            ],
            [
             0.2,
             "#de77ae"
            ],
            [
             0.3,
             "#f1b6da"
            ],
            [
             0.4,
             "#fde0ef"
            ],
            [
             0.5,
             "#f7f7f7"
            ],
            [
             0.6,
             "#e6f5d0"
            ],
            [
             0.7,
             "#b8e186"
            ],
            [
             0.8,
             "#7fbc41"
            ],
            [
             0.9,
             "#4d9221"
            ],
            [
             1,
             "#276419"
            ]
           ],
           "sequential": [
            [
             0,
             "#0d0887"
            ],
            [
             0.1111111111111111,
             "#46039f"
            ],
            [
             0.2222222222222222,
             "#7201a8"
            ],
            [
             0.3333333333333333,
             "#9c179e"
            ],
            [
             0.4444444444444444,
             "#bd3786"
            ],
            [
             0.5555555555555556,
             "#d8576b"
            ],
            [
             0.6666666666666666,
             "#ed7953"
            ],
            [
             0.7777777777777778,
             "#fb9f3a"
            ],
            [
             0.8888888888888888,
             "#fdca26"
            ],
            [
             1,
             "#f0f921"
            ]
           ],
           "sequentialminus": [
            [
             0,
             "#0d0887"
            ],
            [
             0.1111111111111111,
             "#46039f"
            ],
            [
             0.2222222222222222,
             "#7201a8"
            ],
            [
             0.3333333333333333,
             "#9c179e"
            ],
            [
             0.4444444444444444,
             "#bd3786"
            ],
            [
             0.5555555555555556,
             "#d8576b"
            ],
            [
             0.6666666666666666,
             "#ed7953"
            ],
            [
             0.7777777777777778,
             "#fb9f3a"
            ],
            [
             0.8888888888888888,
             "#fdca26"
            ],
            [
             1,
             "#f0f921"
            ]
           ]
          },
          "colorway": [
           "#636efa",
           "#EF553B",
           "#00cc96",
           "#ab63fa",
           "#FFA15A",
           "#19d3f3",
           "#FF6692",
           "#B6E880",
           "#FF97FF",
           "#FECB52"
          ],
          "font": {
           "color": "#2a3f5f"
          },
          "geo": {
           "bgcolor": "white",
           "lakecolor": "white",
           "landcolor": "#E5ECF6",
           "showlakes": true,
           "showland": true,
           "subunitcolor": "white"
          },
          "hoverlabel": {
           "align": "left"
          },
          "hovermode": "closest",
          "mapbox": {
           "style": "light"
          },
          "paper_bgcolor": "white",
          "plot_bgcolor": "#E5ECF6",
          "polar": {
           "angularaxis": {
            "gridcolor": "white",
            "linecolor": "white",
            "ticks": ""
           },
           "bgcolor": "#E5ECF6",
           "radialaxis": {
            "gridcolor": "white",
            "linecolor": "white",
            "ticks": ""
           }
          },
          "scene": {
           "xaxis": {
            "backgroundcolor": "#E5ECF6",
            "gridcolor": "white",
            "gridwidth": 2,
            "linecolor": "white",
            "showbackground": true,
            "ticks": "",
            "zerolinecolor": "white"
           },
           "yaxis": {
            "backgroundcolor": "#E5ECF6",
            "gridcolor": "white",
            "gridwidth": 2,
            "linecolor": "white",
            "showbackground": true,
            "ticks": "",
            "zerolinecolor": "white"
           },
           "zaxis": {
            "backgroundcolor": "#E5ECF6",
            "gridcolor": "white",
            "gridwidth": 2,
            "linecolor": "white",
            "showbackground": true,
            "ticks": "",
            "zerolinecolor": "white"
           }
          },
          "shapedefaults": {
           "line": {
            "color": "#2a3f5f"
           }
          },
          "ternary": {
           "aaxis": {
            "gridcolor": "white",
            "linecolor": "white",
            "ticks": ""
           },
           "baxis": {
            "gridcolor": "white",
            "linecolor": "white",
            "ticks": ""
           },
           "bgcolor": "#E5ECF6",
           "caxis": {
            "gridcolor": "white",
            "linecolor": "white",
            "ticks": ""
           }
          },
          "title": {
           "x": 0.05
          },
          "xaxis": {
           "automargin": true,
           "gridcolor": "white",
           "linecolor": "white",
           "ticks": "",
           "title": {
            "standoff": 15
           },
           "zerolinecolor": "white",
           "zerolinewidth": 2
          },
          "yaxis": {
           "automargin": true,
           "gridcolor": "white",
           "linecolor": "white",
           "ticks": "",
           "title": {
            "standoff": 15
           },
           "zerolinecolor": "white",
           "zerolinewidth": 2
          }
         }
        },
        "title": {
         "text": "<b>Overall Happiness Percent Changes of Countries"
        },
        "xaxis": {
         "anchor": "y",
         "categoryorder": "category ascending",
         "domain": [
          0,
          1
         ],
         "showticklabels": false,
         "title": {}
        },
        "yaxis": {
         "anchor": "x",
         "domain": [
          0,
          1
         ],
         "ticksuffix": "%",
         "title": {
          "text": "Percentage Change"
         }
        }
       }
      }
     },
     "metadata": {},
     "output_type": "display_data"
    }
   ],
   "source": [
    "#assign colors\n",
    "bar_colors = []\n",
    "\n",
    "for x in total_chs_co['Overall']:\n",
    "    if x > 0: \n",
    "        bar_colors.append('green')\n",
    "    else: \n",
    "        bar_colors.append('red')\n",
    "\n",
    "#create bar chart of percent changes\n",
    "fig = px.bar(total_chs_co, x= 'Country', y='Overall', color=bar_colors, color_discrete_map='identity', \n",
    "             title='<b>Overall Happiness Percent Changes of Countries', height=700)\n",
    "fig.update_traces(hovertemplate='%{x}<br>%{y:,.2f}%')\n",
    "fig.update_xaxes(categoryorder='category ascending', title=None, showticklabels=False)\n",
    "fig.update_yaxes(title='Percentage Change', ticksuffix='%')\n",
    "fig.show()"
   ]
  }
 ],
 "metadata": {
  "kernelspec": {
   "display_name": "Python 3",
   "language": "python",
   "name": "python3"
  },
  "language_info": {
   "codemirror_mode": {
    "name": "ipython",
    "version": 3
   },
   "file_extension": ".py",
   "mimetype": "text/x-python",
   "name": "python",
   "nbconvert_exporter": "python",
   "pygments_lexer": "ipython3",
   "version": "3.12.3"
  }
 },
 "nbformat": 4,
 "nbformat_minor": 2
}
